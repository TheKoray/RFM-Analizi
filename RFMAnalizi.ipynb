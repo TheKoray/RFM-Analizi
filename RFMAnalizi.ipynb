{
  "nbformat": 4,
  "nbformat_minor": 0,
  "metadata": {
    "colab": {
      "name": "RFMAnalizi.ipynb",
      "provenance": [],
      "collapsed_sections": [
        "yhxCpH03AQek",
        "zP0NLYjc3PzK",
        "AHgKOw2J3SoR",
        "oC1pJFqoQXFu",
        "jDmAGSryWN80"
      ],
      "toc_visible": true,
      "authorship_tag": "ABX9TyO5w4QlnnCIZT1AUVIcUlwQ",
      "include_colab_link": true
    },
    "kernelspec": {
      "name": "python3",
      "display_name": "Python 3"
    },
    "language_info": {
      "name": "python"
    }
  },
  "cells": [
    {
      "cell_type": "markdown",
      "metadata": {
        "id": "view-in-github",
        "colab_type": "text"
      },
      "source": [
        "<a href=\"https://colab.research.google.com/github/TheKoray18/RFM-Analizi/blob/main/RFMAnalizi.ipynb\" target=\"_parent\"><img src=\"https://colab.research.google.com/assets/colab-badge.svg\" alt=\"Open In Colab\"/></a>"
      ]
    },
    {
      "cell_type": "code",
      "metadata": {
        "colab": {
          "base_uri": "https://localhost:8080/"
        },
        "id": "HYtZn_AmdDMM",
        "outputId": "e732f931-3b9e-4457-d25b-7d3a5f360deb"
      },
      "source": [
        "from google.colab import drive\n",
        "\n",
        "drive.mount(\"/content/drive/\")"
      ],
      "execution_count": null,
      "outputs": [
        {
          "output_type": "stream",
          "name": "stdout",
          "text": [
            "Drive already mounted at /content/drive/; to attempt to forcibly remount, call drive.mount(\"/content/drive/\", force_remount=True).\n"
          ]
        }
      ]
    },
    {
      "cell_type": "code",
      "metadata": {
        "id": "4RETELACtmRf"
      },
      "source": [
        "import warnings \n",
        "import pandas as pd\n",
        "import numpy as np\n",
        "import seaborn as sns\n",
        "import matplotlib.pyplot as plt\n",
        "\n",
        "warnings.filterwarnings(\"ignore\")"
      ],
      "execution_count": null,
      "outputs": []
    },
    {
      "cell_type": "code",
      "metadata": {
        "colab": {
          "base_uri": "https://localhost:8080/",
          "height": 307
        },
        "id": "taFLWCu1tr-W",
        "outputId": "c25b42c0-bea5-4e5a-b552-142c5ddd882c"
      },
      "source": [
        "data = pd.read_excel('/content/drive/My Drive/Colab Notebooks/VDN112510.xlsx')\n",
        "\n",
        "data.head()"
      ],
      "execution_count": null,
      "outputs": [
        {
          "output_type": "execute_result",
          "data": {
            "text/html": [
              "<div>\n",
              "<style scoped>\n",
              "    .dataframe tbody tr th:only-of-type {\n",
              "        vertical-align: middle;\n",
              "    }\n",
              "\n",
              "    .dataframe tbody tr th {\n",
              "        vertical-align: top;\n",
              "    }\n",
              "\n",
              "    .dataframe thead th {\n",
              "        text-align: right;\n",
              "    }\n",
              "</style>\n",
              "<table border=\"1\" class=\"dataframe\">\n",
              "  <thead>\n",
              "    <tr style=\"text-align: right;\">\n",
              "      <th></th>\n",
              "      <th>CustomerCode</th>\n",
              "      <th>CustomerName</th>\n",
              "      <th>Date</th>\n",
              "      <th>DocumentNo</th>\n",
              "      <th>ProductCode</th>\n",
              "      <th>ProductName</th>\n",
              "      <th>Quantity</th>\n",
              "      <th>Unit</th>\n",
              "      <th>Price</th>\n",
              "      <th>Total</th>\n",
              "      <th>Discount1</th>\n",
              "      <th>Discount2</th>\n",
              "      <th>Discount3</th>\n",
              "      <th>NET_TUTAR</th>\n",
              "      <th>ISK_TOPLAM</th>\n",
              "      <th>GirisCikis</th>\n",
              "      <th>EvrakTip</th>\n",
              "    </tr>\n",
              "  </thead>\n",
              "  <tbody>\n",
              "    <tr>\n",
              "      <th>0</th>\n",
              "      <td>40096.0</td>\n",
              "      <td>Trakman Otom.San.Tic.Ltd.Şti.</td>\n",
              "      <td>2021.08.02</td>\n",
              "      <td>GOF93201</td>\n",
              "      <td>VDN112510</td>\n",
              "      <td>Komp Kapağı</td>\n",
              "      <td>3</td>\n",
              "      <td>ADET</td>\n",
              "      <td>551.452000</td>\n",
              "      <td>1654.356</td>\n",
              "      <td>0</td>\n",
              "      <td>0</td>\n",
              "      <td>0</td>\n",
              "      <td>1654.35600</td>\n",
              "      <td>0</td>\n",
              "      <td>Çıkış</td>\n",
              "      <td>Çıkış Faturası</td>\n",
              "    </tr>\n",
              "    <tr>\n",
              "      <th>1</th>\n",
              "      <td>20959.0</td>\n",
              "      <td>Gökçe Otom - Havva Sağır</td>\n",
              "      <td>2021.02.26</td>\n",
              "      <td>GOF24763</td>\n",
              "      <td>VDN112510</td>\n",
              "      <td>Komp Kapağı</td>\n",
              "      <td>2</td>\n",
              "      <td>ADET</td>\n",
              "      <td>483.829500</td>\n",
              "      <td>967.659</td>\n",
              "      <td>0</td>\n",
              "      <td>0</td>\n",
              "      <td>0</td>\n",
              "      <td>967.65900</td>\n",
              "      <td>0</td>\n",
              "      <td>Çıkış</td>\n",
              "      <td>Çıkış Faturası</td>\n",
              "    </tr>\n",
              "    <tr>\n",
              "      <th>2</th>\n",
              "      <td>40094.0</td>\n",
              "      <td>YPS Global Otom.İç Dış Tic.A.Ş.</td>\n",
              "      <td>2021.05.24</td>\n",
              "      <td>MKI5642</td>\n",
              "      <td>VDN112510</td>\n",
              "      <td>Komp Kapağı</td>\n",
              "      <td>22</td>\n",
              "      <td>ADET</td>\n",
              "      <td>562.407727</td>\n",
              "      <td>12372.970</td>\n",
              "      <td>8</td>\n",
              "      <td>0</td>\n",
              "      <td>0</td>\n",
              "      <td>11444.99725</td>\n",
              "      <td>8</td>\n",
              "      <td>Giriş</td>\n",
              "      <td>Giriş İrsaliyesi</td>\n",
              "    </tr>\n",
              "    <tr>\n",
              "      <th>3</th>\n",
              "      <td>20604.0</td>\n",
              "      <td>Mahmut Keskin Otom.San.Tic.Lts.Şti.</td>\n",
              "      <td>2020.11.19</td>\n",
              "      <td>GNF48881</td>\n",
              "      <td>VDN112510</td>\n",
              "      <td>Komp Kapağı</td>\n",
              "      <td>5</td>\n",
              "      <td>ADET</td>\n",
              "      <td>506.011000</td>\n",
              "      <td>2530.055</td>\n",
              "      <td>0</td>\n",
              "      <td>0</td>\n",
              "      <td>0</td>\n",
              "      <td>2530.05500</td>\n",
              "      <td>0</td>\n",
              "      <td>Çıkış</td>\n",
              "      <td>Çıkış Faturası</td>\n",
              "    </tr>\n",
              "    <tr>\n",
              "      <th>4</th>\n",
              "      <td>20029.0</td>\n",
              "      <td>Acarlar Yedek Parça Otom.San.Tic.Ltd.Şti.</td>\n",
              "      <td>2021.02.03</td>\n",
              "      <td>GOF14184</td>\n",
              "      <td>VDN112510</td>\n",
              "      <td>Komp Kapağı</td>\n",
              "      <td>10</td>\n",
              "      <td>ADET</td>\n",
              "      <td>451.000000</td>\n",
              "      <td>4510.000</td>\n",
              "      <td>0</td>\n",
              "      <td>0</td>\n",
              "      <td>0</td>\n",
              "      <td>4510.00000</td>\n",
              "      <td>0</td>\n",
              "      <td>Çıkış</td>\n",
              "      <td>Çıkış Faturası</td>\n",
              "    </tr>\n",
              "  </tbody>\n",
              "</table>\n",
              "</div>"
            ],
            "text/plain": [
              "   CustomerCode  ...          EvrakTip\n",
              "0       40096.0  ...    Çıkış Faturası\n",
              "1       20959.0  ...    Çıkış Faturası\n",
              "2       40094.0  ...  Giriş İrsaliyesi\n",
              "3       20604.0  ...    Çıkış Faturası\n",
              "4       20029.0  ...    Çıkış Faturası\n",
              "\n",
              "[5 rows x 17 columns]"
            ]
          },
          "metadata": {},
          "execution_count": 77
        }
      ]
    },
    {
      "cell_type": "code",
      "metadata": {
        "colab": {
          "base_uri": "https://localhost:8080/",
          "height": 450
        },
        "id": "D_iP86Knaz4x",
        "outputId": "ee35c391-6360-47f9-d1c9-4e0559a2d436"
      },
      "source": [
        "data.head(n=8)"
      ],
      "execution_count": null,
      "outputs": [
        {
          "output_type": "execute_result",
          "data": {
            "text/html": [
              "<div>\n",
              "<style scoped>\n",
              "    .dataframe tbody tr th:only-of-type {\n",
              "        vertical-align: middle;\n",
              "    }\n",
              "\n",
              "    .dataframe tbody tr th {\n",
              "        vertical-align: top;\n",
              "    }\n",
              "\n",
              "    .dataframe thead th {\n",
              "        text-align: right;\n",
              "    }\n",
              "</style>\n",
              "<table border=\"1\" class=\"dataframe\">\n",
              "  <thead>\n",
              "    <tr style=\"text-align: right;\">\n",
              "      <th></th>\n",
              "      <th>CustomerCode</th>\n",
              "      <th>CustomerName</th>\n",
              "      <th>Date</th>\n",
              "      <th>DocumentNo</th>\n",
              "      <th>ProductCode</th>\n",
              "      <th>ProductName</th>\n",
              "      <th>Quantity</th>\n",
              "      <th>Unit</th>\n",
              "      <th>Price</th>\n",
              "      <th>Total</th>\n",
              "      <th>Discount1</th>\n",
              "      <th>Discount2</th>\n",
              "      <th>Discount3</th>\n",
              "      <th>NET_TUTAR</th>\n",
              "      <th>ISK_TOPLAM</th>\n",
              "      <th>GirisCikis</th>\n",
              "      <th>EvrakTip</th>\n",
              "    </tr>\n",
              "  </thead>\n",
              "  <tbody>\n",
              "    <tr>\n",
              "      <th>0</th>\n",
              "      <td>40096.0</td>\n",
              "      <td>Trakman Otom.San.Tic.Ltd.Şti.</td>\n",
              "      <td>2021.08.02</td>\n",
              "      <td>GOF93201</td>\n",
              "      <td>VDN112510</td>\n",
              "      <td>Komp Kapağı</td>\n",
              "      <td>3</td>\n",
              "      <td>ADET</td>\n",
              "      <td>551.452000</td>\n",
              "      <td>1654.356</td>\n",
              "      <td>0</td>\n",
              "      <td>0</td>\n",
              "      <td>0</td>\n",
              "      <td>1654.35600</td>\n",
              "      <td>0</td>\n",
              "      <td>Çıkış</td>\n",
              "      <td>Çıkış Faturası</td>\n",
              "    </tr>\n",
              "    <tr>\n",
              "      <th>1</th>\n",
              "      <td>20959.0</td>\n",
              "      <td>Gökçe Otom - Havva Sağır</td>\n",
              "      <td>2021.02.26</td>\n",
              "      <td>GOF24763</td>\n",
              "      <td>VDN112510</td>\n",
              "      <td>Komp Kapağı</td>\n",
              "      <td>2</td>\n",
              "      <td>ADET</td>\n",
              "      <td>483.829500</td>\n",
              "      <td>967.659</td>\n",
              "      <td>0</td>\n",
              "      <td>0</td>\n",
              "      <td>0</td>\n",
              "      <td>967.65900</td>\n",
              "      <td>0</td>\n",
              "      <td>Çıkış</td>\n",
              "      <td>Çıkış Faturası</td>\n",
              "    </tr>\n",
              "    <tr>\n",
              "      <th>2</th>\n",
              "      <td>40094.0</td>\n",
              "      <td>YPS Global Otom.İç Dış Tic.A.Ş.</td>\n",
              "      <td>2021.05.24</td>\n",
              "      <td>MKI5642</td>\n",
              "      <td>VDN112510</td>\n",
              "      <td>Komp Kapağı</td>\n",
              "      <td>22</td>\n",
              "      <td>ADET</td>\n",
              "      <td>562.407727</td>\n",
              "      <td>12372.970</td>\n",
              "      <td>8</td>\n",
              "      <td>0</td>\n",
              "      <td>0</td>\n",
              "      <td>11444.99725</td>\n",
              "      <td>8</td>\n",
              "      <td>Giriş</td>\n",
              "      <td>Giriş İrsaliyesi</td>\n",
              "    </tr>\n",
              "    <tr>\n",
              "      <th>3</th>\n",
              "      <td>20604.0</td>\n",
              "      <td>Mahmut Keskin Otom.San.Tic.Lts.Şti.</td>\n",
              "      <td>2020.11.19</td>\n",
              "      <td>GNF48881</td>\n",
              "      <td>VDN112510</td>\n",
              "      <td>Komp Kapağı</td>\n",
              "      <td>5</td>\n",
              "      <td>ADET</td>\n",
              "      <td>506.011000</td>\n",
              "      <td>2530.055</td>\n",
              "      <td>0</td>\n",
              "      <td>0</td>\n",
              "      <td>0</td>\n",
              "      <td>2530.05500</td>\n",
              "      <td>0</td>\n",
              "      <td>Çıkış</td>\n",
              "      <td>Çıkış Faturası</td>\n",
              "    </tr>\n",
              "    <tr>\n",
              "      <th>4</th>\n",
              "      <td>20029.0</td>\n",
              "      <td>Acarlar Yedek Parça Otom.San.Tic.Ltd.Şti.</td>\n",
              "      <td>2021.02.03</td>\n",
              "      <td>GOF14184</td>\n",
              "      <td>VDN112510</td>\n",
              "      <td>Komp Kapağı</td>\n",
              "      <td>10</td>\n",
              "      <td>ADET</td>\n",
              "      <td>451.000000</td>\n",
              "      <td>4510.000</td>\n",
              "      <td>0</td>\n",
              "      <td>0</td>\n",
              "      <td>0</td>\n",
              "      <td>4510.00000</td>\n",
              "      <td>0</td>\n",
              "      <td>Çıkış</td>\n",
              "      <td>Çıkış Faturası</td>\n",
              "    </tr>\n",
              "    <tr>\n",
              "      <th>5</th>\n",
              "      <td>20589.0</td>\n",
              "      <td>Gürmer Otom.Servis Hiz.Nak.San.Tic.Ltd.Şti.</td>\n",
              "      <td>2021.05.21</td>\n",
              "      <td>GOF57157</td>\n",
              "      <td>VDN112510</td>\n",
              "      <td>Komp Kapağı</td>\n",
              "      <td>3</td>\n",
              "      <td>ADET</td>\n",
              "      <td>560.175000</td>\n",
              "      <td>1680.525</td>\n",
              "      <td>0</td>\n",
              "      <td>0</td>\n",
              "      <td>0</td>\n",
              "      <td>1680.52500</td>\n",
              "      <td>0</td>\n",
              "      <td>Çıkış</td>\n",
              "      <td>Çıkış Faturası</td>\n",
              "    </tr>\n",
              "    <tr>\n",
              "      <th>6</th>\n",
              "      <td>40094.0</td>\n",
              "      <td>YPS Global Otom.İç Dış Tic.A.Ş.</td>\n",
              "      <td>2021.05.17</td>\n",
              "      <td>MKI5489</td>\n",
              "      <td>VDN112510</td>\n",
              "      <td>Komp Kapağı</td>\n",
              "      <td>35</td>\n",
              "      <td>ADET</td>\n",
              "      <td>554.999429</td>\n",
              "      <td>19424.980</td>\n",
              "      <td>8</td>\n",
              "      <td>0</td>\n",
              "      <td>0</td>\n",
              "      <td>17968.10650</td>\n",
              "      <td>8</td>\n",
              "      <td>Giriş</td>\n",
              "      <td>Giriş İrsaliyesi</td>\n",
              "    </tr>\n",
              "    <tr>\n",
              "      <th>7</th>\n",
              "      <td>20846.0</td>\n",
              "      <td>Aktaş Otom.San.Tic.Ltd.Şti.</td>\n",
              "      <td>2020.07.14</td>\n",
              "      <td>EFT3271</td>\n",
              "      <td>VDN112510</td>\n",
              "      <td>Komp Kapağı</td>\n",
              "      <td>1</td>\n",
              "      <td>ADET</td>\n",
              "      <td>427.570000</td>\n",
              "      <td>427.570</td>\n",
              "      <td>0</td>\n",
              "      <td>0</td>\n",
              "      <td>0</td>\n",
              "      <td>427.57000</td>\n",
              "      <td>0</td>\n",
              "      <td>Çıkış</td>\n",
              "      <td>Çıkış Faturası</td>\n",
              "    </tr>\n",
              "  </tbody>\n",
              "</table>\n",
              "</div>"
            ],
            "text/plain": [
              "   CustomerCode  ...          EvrakTip\n",
              "0       40096.0  ...    Çıkış Faturası\n",
              "1       20959.0  ...    Çıkış Faturası\n",
              "2       40094.0  ...  Giriş İrsaliyesi\n",
              "3       20604.0  ...    Çıkış Faturası\n",
              "4       20029.0  ...    Çıkış Faturası\n",
              "5       20589.0  ...    Çıkış Faturası\n",
              "6       40094.0  ...  Giriş İrsaliyesi\n",
              "7       20846.0  ...    Çıkış Faturası\n",
              "\n",
              "[8 rows x 17 columns]"
            ]
          },
          "metadata": {},
          "execution_count": 78
        }
      ]
    },
    {
      "cell_type": "code",
      "metadata": {
        "colab": {
          "base_uri": "https://localhost:8080/"
        },
        "id": "QzlhXI2ouJGt",
        "outputId": "55841ba0-48f0-480e-d7a6-cc9c1e7a1980"
      },
      "source": [
        "data.columns.to_list()"
      ],
      "execution_count": null,
      "outputs": [
        {
          "output_type": "execute_result",
          "data": {
            "text/plain": [
              "['CustomerCode',\n",
              " 'CustomerName',\n",
              " 'Date',\n",
              " 'DocumentNo',\n",
              " 'ProductCode',\n",
              " 'ProductName',\n",
              " 'Quantity',\n",
              " 'Unit',\n",
              " 'Price',\n",
              " 'Total',\n",
              " 'Discount1',\n",
              " 'Discount2',\n",
              " 'Discount3',\n",
              " 'NET_TUTAR',\n",
              " 'ISK_TOPLAM',\n",
              " 'GirisCikis',\n",
              " 'EvrakTip']"
            ]
          },
          "metadata": {},
          "execution_count": 79
        }
      ]
    },
    {
      "cell_type": "code",
      "metadata": {
        "colab": {
          "base_uri": "https://localhost:8080/"
        },
        "id": "kF3DP9IruO0Y",
        "outputId": "b946a8e4-4906-4605-a798-39778e5f8e78"
      },
      "source": [
        "data.info()"
      ],
      "execution_count": null,
      "outputs": [
        {
          "output_type": "stream",
          "name": "stdout",
          "text": [
            "<class 'pandas.core.frame.DataFrame'>\n",
            "RangeIndex: 1080 entries, 0 to 1079\n",
            "Data columns (total 17 columns):\n",
            " #   Column        Non-Null Count  Dtype  \n",
            "---  ------        --------------  -----  \n",
            " 0   CustomerCode  1078 non-null   float64\n",
            " 1   CustomerName  1078 non-null   object \n",
            " 2   Date          1080 non-null   object \n",
            " 3   DocumentNo    1080 non-null   object \n",
            " 4   ProductCode   1080 non-null   object \n",
            " 5   ProductName   1080 non-null   object \n",
            " 6   Quantity      1080 non-null   int64  \n",
            " 7   Unit          1080 non-null   object \n",
            " 8   Price         1080 non-null   float64\n",
            " 9   Total         1080 non-null   float64\n",
            " 10  Discount1     1080 non-null   int64  \n",
            " 11  Discount2     1080 non-null   int64  \n",
            " 12  Discount3     1080 non-null   int64  \n",
            " 13  NET_TUTAR     1080 non-null   float64\n",
            " 14  ISK_TOPLAM    1080 non-null   int64  \n",
            " 15  GirisCikis    1080 non-null   object \n",
            " 16  EvrakTip      1080 non-null   object \n",
            "dtypes: float64(4), int64(5), object(8)\n",
            "memory usage: 143.6+ KB\n"
          ]
        }
      ]
    },
    {
      "cell_type": "code",
      "metadata": {
        "colab": {
          "base_uri": "https://localhost:8080/"
        },
        "id": "8H8nzYLTuVGo",
        "outputId": "9354724b-bf79-4743-e89d-f6c1a5390384"
      },
      "source": [
        "data.isnull().any()"
      ],
      "execution_count": null,
      "outputs": [
        {
          "output_type": "execute_result",
          "data": {
            "text/plain": [
              "CustomerCode     True\n",
              "CustomerName     True\n",
              "Date            False\n",
              "DocumentNo      False\n",
              "ProductCode     False\n",
              "ProductName     False\n",
              "Quantity        False\n",
              "Unit            False\n",
              "Price           False\n",
              "Total           False\n",
              "Discount1       False\n",
              "Discount2       False\n",
              "Discount3       False\n",
              "NET_TUTAR       False\n",
              "ISK_TOPLAM      False\n",
              "GirisCikis      False\n",
              "EvrakTip        False\n",
              "dtype: bool"
            ]
          },
          "metadata": {},
          "execution_count": 81
        }
      ]
    },
    {
      "cell_type": "markdown",
      "metadata": {
        "id": "4WApZYJ1_p7W"
      },
      "source": [
        "# Değişken Analizi"
      ]
    },
    {
      "cell_type": "code",
      "metadata": {
        "colab": {
          "base_uri": "https://localhost:8080/",
          "height": 692
        },
        "id": "FP79gWMr_xe8",
        "outputId": "1b6430ea-8e31-4c31-d927-4ee67a78b204"
      },
      "source": [
        "def Feature_Analysis(df, number = 5, plot = False):\n",
        "\n",
        "  cat_cols = [cols for cols in df.columns if df[cols].dtype == 'object']\n",
        "\n",
        "  num_but_cat = [cols for cols in df.columns if df[cols].dtype != 'object'\n",
        "                and df[cols].nunique() < int(number)]\n",
        "\n",
        "  num_cols = [cols for cols in df.columns if df[cols].dtype != 'object'\n",
        "              and cols not in num_but_cat]\n",
        "  \n",
        "  print(f\"Kategorik Değişken Sayısı : {len(cat_cols)}\\nKategorik Değişken : {cat_cols}\", end = '\\n\\n')\n",
        "  print(f\"Numeric Ama Kategorik Değişken Sayısı : {len(num_but_cat)}\\nNumeric Ama Kategorik Değişken : {num_but_cat}\",end = '\\n\\n')\n",
        "  print(f\"Numeric Değişken Sayısı : {len(num_cols)}\\nNumeric Değişken : {num_cols}\",end='\\n\\n')\n",
        "  \n",
        "  if plot:\n",
        "\n",
        "    for cols in num_but_cat:\n",
        "\n",
        "      sns.countplot(x=cols, data=df)\n",
        "      plt.show()\n",
        "\n",
        "Feature_Analysis(data, plot = True)"
      ],
      "execution_count": null,
      "outputs": [
        {
          "output_type": "stream",
          "name": "stdout",
          "text": [
            "Kategorik Değişken Sayısı : 8\n",
            "Kategorik Değişken : ['CustomerName', 'Date', 'DocumentNo', 'ProductCode', 'ProductName', 'Unit', 'GirisCikis', 'EvrakTip']\n",
            "\n",
            "Numeric Ama Kategorik Değişken Sayısı : 2\n",
            "Numeric Ama Kategorik Değişken : ['Discount2', 'Discount3']\n",
            "\n",
            "Numeric Değişken Sayısı : 7\n",
            "Numeric Değişken : ['CustomerCode', 'Quantity', 'Price', 'Total', 'Discount1', 'NET_TUTAR', 'ISK_TOPLAM']\n",
            "\n"
          ]
        },
        {
          "output_type": "display_data",
          "data": {
            "image/png": "[encoded data removed]",
            "text/plain": [
              "<Figure size 432x288 with 1 Axes>"
            ]
          },
          "metadata": {
            "needs_background": "light"
          }
        },
        {
          "output_type": "display_data",
          "data": {
            "image/png": "[encoded data removed]",
            "text/plain": [
              "<Figure size 432x288 with 1 Axes>"
            ]
          },
          "metadata": {
            "needs_background": "light"
          }
        }
      ]
    },
    {
      "cell_type": "markdown",
      "metadata": {
        "id": "epTppRcRUTwg"
      },
      "source": [
        "# Numeric Değer ve Numeric Değişken "
      ]
    },
    {
      "cell_type": "code",
      "metadata": {
        "colab": {
          "base_uri": "https://localhost:8080/",
          "height": 1000
        },
        "id": "baS01zSSUa2i",
        "outputId": "b19b5cb4-4fd4-4392-9548-3473ee9630a0"
      },
      "source": [
        "def Numeric_Analysis(df, plot = False):\n",
        "\n",
        "  num_cols = [cols for cols in df.columns if df[cols].dtype != 'object'\n",
        "              and cols not in 'Discount2'\n",
        "              and cols not in 'Discount3']\n",
        "\n",
        "  for cols in num_cols:\n",
        "\n",
        "    if plot:\n",
        "\n",
        "      print(f\"################ {df[cols].name} ###########################\", end = '\\n\\n')\n",
        "      print(f\"{df[cols].value_counts().count()} farklı değeri var\")\n",
        "\n",
        "      df[cols].hist()\n",
        "      plt.show()\n",
        "      print(end = '\\n\\n')\n",
        "\n",
        "Numeric_Analysis(data,plot = True)"
      ],
      "execution_count": null,
      "outputs": [
        {
          "output_type": "stream",
          "name": "stdout",
          "text": [
            "################ CustomerCode ###########################\n",
            "\n",
            "237 farklı değeri var\n"
          ]
        },
        {
          "output_type": "display_data",
          "data": {
            "image/png": "[encoded data removed]",
            "text/plain": [
              "<Figure size 432x288 with 1 Axes>"
            ]
          },
          "metadata": {
            "needs_background": "light"
          }
        },
        {
          "output_type": "stream",
          "name": "stdout",
          "text": [
            "\n",
            "\n",
            "################ Quantity ###########################\n",
            "\n",
            "56 farklı değeri var\n"
          ]
        },
        {
          "output_type": "display_data",
          "data": {
            "image/png": "[encoded data removed]",
            "text/plain": [
              "<Figure size 432x288 with 1 Axes>"
            ]
          },
          "metadata": {
            "needs_background": "light"
          }
        },
        {
          "output_type": "stream",
          "name": "stdout",
          "text": [
            "\n",
            "\n",
            "################ Price ###########################\n",
            "\n",
            "555 farklı değeri var\n"
          ]
        },
        {
          "output_type": "display_data",
          "data": {
            "image/png": "[encoded data removed]",
            "text/plain": [
              "<Figure size 432x288 with 1 Axes>"
            ]
          },
          "metadata": {
            "needs_background": "light"
          }
        },
        {
          "output_type": "stream",
          "name": "stdout",
          "text": [
            "\n",
            "\n",
            "################ Total ###########################\n",
            "\n",
            "845 farklı değeri var\n"
          ]
        },
        {
          "output_type": "display_data",
          "data": {
            "image/png": "[encoded data removed]",
            "text/plain": [
              "<Figure size 432x288 with 1 Axes>"
            ]
          },
          "metadata": {
            "needs_background": "light"
          }
        },
        {
          "output_type": "stream",
          "name": "stdout",
          "text": [
            "\n",
            "\n",
            "################ Discount1 ###########################\n",
            "\n",
            "7 farklı değeri var\n"
          ]
        },
        {
          "output_type": "display_data",
          "data": {
            "image/png": "[encoded data removed]",
            "text/plain": [
              "<Figure size 432x288 with 1 Axes>"
            ]
          },
          "metadata": {
            "needs_background": "light"
          }
        },
        {
          "output_type": "stream",
          "name": "stdout",
          "text": [
            "\n",
            "\n",
            "################ NET_TUTAR ###########################\n",
            "\n",
            "857 farklı değeri var\n"
          ]
        },
        {
          "output_type": "display_data",
          "data": {
            "image/png": "[encoded data removed]",
            "text/plain": [
              "<Figure size 432x288 with 1 Axes>"
            ]
          },
          "metadata": {
            "needs_background": "light"
          }
        },
        {
          "output_type": "stream",
          "name": "stdout",
          "text": [
            "\n",
            "\n",
            "################ ISK_TOPLAM ###########################\n",
            "\n",
            "7 farklı değeri var\n"
          ]
        },
        {
          "output_type": "display_data",
          "data": {
            "image/png": "[encoded data removed]",
            "text/plain": [
              "<Figure size 432x288 with 1 Axes>"
            ]
          },
          "metadata": {
            "needs_background": "light"
          }
        },
        {
          "output_type": "stream",
          "name": "stdout",
          "text": [
            "\n",
            "\n"
          ]
        }
      ]
    },
    {
      "cell_type": "markdown",
      "metadata": {
        "id": "2-7zhgptaUdJ"
      },
      "source": [
        "# Numeric Değer "
      ]
    },
    {
      "cell_type": "code",
      "metadata": {
        "colab": {
          "base_uri": "https://localhost:8080/",
          "height": 326
        },
        "id": "KWNM4TqLUbLt",
        "outputId": "988b731d-75a0-4db4-94cf-21d259f59fb3"
      },
      "source": [
        "data.describe().T"
      ],
      "execution_count": null,
      "outputs": [
        {
          "output_type": "execute_result",
          "data": {
            "text/html": [
              "<div>\n",
              "<style scoped>\n",
              "    .dataframe tbody tr th:only-of-type {\n",
              "        vertical-align: middle;\n",
              "    }\n",
              "\n",
              "    .dataframe tbody tr th {\n",
              "        vertical-align: top;\n",
              "    }\n",
              "\n",
              "    .dataframe thead th {\n",
              "        text-align: right;\n",
              "    }\n",
              "</style>\n",
              "<table border=\"1\" class=\"dataframe\">\n",
              "  <thead>\n",
              "    <tr style=\"text-align: right;\">\n",
              "      <th></th>\n",
              "      <th>count</th>\n",
              "      <th>mean</th>\n",
              "      <th>std</th>\n",
              "      <th>min</th>\n",
              "      <th>25%</th>\n",
              "      <th>50%</th>\n",
              "      <th>75%</th>\n",
              "      <th>max</th>\n",
              "    </tr>\n",
              "  </thead>\n",
              "  <tbody>\n",
              "    <tr>\n",
              "      <th>CustomerCode</th>\n",
              "      <td>1078.0</td>\n",
              "      <td>23160.069573</td>\n",
              "      <td>6897.786922</td>\n",
              "      <td>10186.0</td>\n",
              "      <td>20232.0000</td>\n",
              "      <td>20584.00000</td>\n",
              "      <td>20847.0000</td>\n",
              "      <td>40386.000</td>\n",
              "    </tr>\n",
              "    <tr>\n",
              "      <th>Quantity</th>\n",
              "      <td>1080.0</td>\n",
              "      <td>9.665741</td>\n",
              "      <td>17.307188</td>\n",
              "      <td>1.0</td>\n",
              "      <td>2.0000</td>\n",
              "      <td>3.00000</td>\n",
              "      <td>10.0000</td>\n",
              "      <td>130.000</td>\n",
              "    </tr>\n",
              "    <tr>\n",
              "      <th>Price</th>\n",
              "      <td>1080.0</td>\n",
              "      <td>480.370491</td>\n",
              "      <td>99.038963</td>\n",
              "      <td>0.0</td>\n",
              "      <td>424.8800</td>\n",
              "      <td>493.05575</td>\n",
              "      <td>535.0705</td>\n",
              "      <td>2238.346</td>\n",
              "    </tr>\n",
              "    <tr>\n",
              "      <th>Total</th>\n",
              "      <td>1080.0</td>\n",
              "      <td>4650.639259</td>\n",
              "      <td>8563.323130</td>\n",
              "      <td>0.0</td>\n",
              "      <td>730.6575</td>\n",
              "      <td>1464.13675</td>\n",
              "      <td>4181.9855</td>\n",
              "      <td>71974.760</td>\n",
              "    </tr>\n",
              "    <tr>\n",
              "      <th>Discount1</th>\n",
              "      <td>1080.0</td>\n",
              "      <td>1.083333</td>\n",
              "      <td>2.388282</td>\n",
              "      <td>0.0</td>\n",
              "      <td>0.0000</td>\n",
              "      <td>0.00000</td>\n",
              "      <td>0.0000</td>\n",
              "      <td>20.000</td>\n",
              "    </tr>\n",
              "    <tr>\n",
              "      <th>Discount2</th>\n",
              "      <td>1080.0</td>\n",
              "      <td>0.009259</td>\n",
              "      <td>0.304290</td>\n",
              "      <td>0.0</td>\n",
              "      <td>0.0000</td>\n",
              "      <td>0.00000</td>\n",
              "      <td>0.0000</td>\n",
              "      <td>10.000</td>\n",
              "    </tr>\n",
              "    <tr>\n",
              "      <th>Discount3</th>\n",
              "      <td>1080.0</td>\n",
              "      <td>0.000000</td>\n",
              "      <td>0.000000</td>\n",
              "      <td>0.0</td>\n",
              "      <td>0.0000</td>\n",
              "      <td>0.00000</td>\n",
              "      <td>0.0000</td>\n",
              "      <td>0.000</td>\n",
              "    </tr>\n",
              "    <tr>\n",
              "      <th>NET_TUTAR</th>\n",
              "      <td>1080.0</td>\n",
              "      <td>4485.757998</td>\n",
              "      <td>8114.453662</td>\n",
              "      <td>0.0</td>\n",
              "      <td>730.6575</td>\n",
              "      <td>1459.00525</td>\n",
              "      <td>4181.9855</td>\n",
              "      <td>66576.653</td>\n",
              "    </tr>\n",
              "    <tr>\n",
              "      <th>ISK_TOPLAM</th>\n",
              "      <td>1080.0</td>\n",
              "      <td>1.083333</td>\n",
              "      <td>2.388282</td>\n",
              "      <td>0.0</td>\n",
              "      <td>0.0000</td>\n",
              "      <td>0.00000</td>\n",
              "      <td>0.0000</td>\n",
              "      <td>20.000</td>\n",
              "    </tr>\n",
              "  </tbody>\n",
              "</table>\n",
              "</div>"
            ],
            "text/plain": [
              "               count          mean  ...         75%        max\n",
              "CustomerCode  1078.0  23160.069573  ...  20847.0000  40386.000\n",
              "Quantity      1080.0      9.665741  ...     10.0000    130.000\n",
              "Price         1080.0    480.370491  ...    535.0705   2238.346\n",
              "Total         1080.0   4650.639259  ...   4181.9855  71974.760\n",
              "Discount1     1080.0      1.083333  ...      0.0000     20.000\n",
              "Discount2     1080.0      0.009259  ...      0.0000     10.000\n",
              "Discount3     1080.0      0.000000  ...      0.0000      0.000\n",
              "NET_TUTAR     1080.0   4485.757998  ...   4181.9855  66576.653\n",
              "ISK_TOPLAM    1080.0      1.083333  ...      0.0000     20.000\n",
              "\n",
              "[9 rows x 8 columns]"
            ]
          },
          "metadata": {},
          "execution_count": 84
        }
      ]
    },
    {
      "cell_type": "code",
      "metadata": {
        "colab": {
          "base_uri": "https://localhost:8080/",
          "height": 326
        },
        "id": "HU9fmQFFagRE",
        "outputId": "d9014634-eca9-4643-c94a-d66172912746"
      },
      "source": [
        "data.corr()"
      ],
      "execution_count": null,
      "outputs": [
        {
          "output_type": "execute_result",
          "data": {
            "text/html": [
              "<div>\n",
              "<style scoped>\n",
              "    .dataframe tbody tr th:only-of-type {\n",
              "        vertical-align: middle;\n",
              "    }\n",
              "\n",
              "    .dataframe tbody tr th {\n",
              "        vertical-align: top;\n",
              "    }\n",
              "\n",
              "    .dataframe thead th {\n",
              "        text-align: right;\n",
              "    }\n",
              "</style>\n",
              "<table border=\"1\" class=\"dataframe\">\n",
              "  <thead>\n",
              "    <tr style=\"text-align: right;\">\n",
              "      <th></th>\n",
              "      <th>CustomerCode</th>\n",
              "      <th>Quantity</th>\n",
              "      <th>Price</th>\n",
              "      <th>Total</th>\n",
              "      <th>Discount1</th>\n",
              "      <th>Discount2</th>\n",
              "      <th>Discount3</th>\n",
              "      <th>NET_TUTAR</th>\n",
              "      <th>ISK_TOPLAM</th>\n",
              "    </tr>\n",
              "  </thead>\n",
              "  <tbody>\n",
              "    <tr>\n",
              "      <th>CustomerCode</th>\n",
              "      <td>1.000000</td>\n",
              "      <td>0.580275</td>\n",
              "      <td>0.016072</td>\n",
              "      <td>0.575879</td>\n",
              "      <td>0.674540</td>\n",
              "      <td>-0.012278</td>\n",
              "      <td>NaN</td>\n",
              "      <td>0.563866</td>\n",
              "      <td>0.674540</td>\n",
              "    </tr>\n",
              "    <tr>\n",
              "      <th>Quantity</th>\n",
              "      <td>0.580275</td>\n",
              "      <td>1.000000</td>\n",
              "      <td>0.004381</td>\n",
              "      <td>0.988640</td>\n",
              "      <td>0.544353</td>\n",
              "      <td>-0.008211</td>\n",
              "      <td>NaN</td>\n",
              "      <td>0.990922</td>\n",
              "      <td>0.544353</td>\n",
              "    </tr>\n",
              "    <tr>\n",
              "      <th>Price</th>\n",
              "      <td>0.016072</td>\n",
              "      <td>0.004381</td>\n",
              "      <td>1.000000</td>\n",
              "      <td>0.078098</td>\n",
              "      <td>0.134247</td>\n",
              "      <td>0.022200</td>\n",
              "      <td>NaN</td>\n",
              "      <td>0.075107</td>\n",
              "      <td>0.134247</td>\n",
              "    </tr>\n",
              "    <tr>\n",
              "      <th>Total</th>\n",
              "      <td>0.575879</td>\n",
              "      <td>0.988640</td>\n",
              "      <td>0.078098</td>\n",
              "      <td>1.000000</td>\n",
              "      <td>0.577237</td>\n",
              "      <td>-0.006715</td>\n",
              "      <td>NaN</td>\n",
              "      <td>0.999303</td>\n",
              "      <td>0.577237</td>\n",
              "    </tr>\n",
              "    <tr>\n",
              "      <th>Discount1</th>\n",
              "      <td>0.674540</td>\n",
              "      <td>0.544353</td>\n",
              "      <td>0.134247</td>\n",
              "      <td>0.577237</td>\n",
              "      <td>1.000000</td>\n",
              "      <td>0.241240</td>\n",
              "      <td>NaN</td>\n",
              "      <td>0.559631</td>\n",
              "      <td>1.000000</td>\n",
              "    </tr>\n",
              "    <tr>\n",
              "      <th>Discount2</th>\n",
              "      <td>-0.012278</td>\n",
              "      <td>-0.008211</td>\n",
              "      <td>0.022200</td>\n",
              "      <td>-0.006715</td>\n",
              "      <td>0.241240</td>\n",
              "      <td>1.000000</td>\n",
              "      <td>NaN</td>\n",
              "      <td>-0.009371</td>\n",
              "      <td>0.241240</td>\n",
              "    </tr>\n",
              "    <tr>\n",
              "      <th>Discount3</th>\n",
              "      <td>NaN</td>\n",
              "      <td>NaN</td>\n",
              "      <td>NaN</td>\n",
              "      <td>NaN</td>\n",
              "      <td>NaN</td>\n",
              "      <td>NaN</td>\n",
              "      <td>NaN</td>\n",
              "      <td>NaN</td>\n",
              "      <td>NaN</td>\n",
              "    </tr>\n",
              "    <tr>\n",
              "      <th>NET_TUTAR</th>\n",
              "      <td>0.563866</td>\n",
              "      <td>0.990922</td>\n",
              "      <td>0.075107</td>\n",
              "      <td>0.999303</td>\n",
              "      <td>0.559631</td>\n",
              "      <td>-0.009371</td>\n",
              "      <td>NaN</td>\n",
              "      <td>1.000000</td>\n",
              "      <td>0.559631</td>\n",
              "    </tr>\n",
              "    <tr>\n",
              "      <th>ISK_TOPLAM</th>\n",
              "      <td>0.674540</td>\n",
              "      <td>0.544353</td>\n",
              "      <td>0.134247</td>\n",
              "      <td>0.577237</td>\n",
              "      <td>1.000000</td>\n",
              "      <td>0.241240</td>\n",
              "      <td>NaN</td>\n",
              "      <td>0.559631</td>\n",
              "      <td>1.000000</td>\n",
              "    </tr>\n",
              "  </tbody>\n",
              "</table>\n",
              "</div>"
            ],
            "text/plain": [
              "              CustomerCode  Quantity  ...  NET_TUTAR  ISK_TOPLAM\n",
              "CustomerCode      1.000000  0.580275  ...   0.563866    0.674540\n",
              "Quantity          0.580275  1.000000  ...   0.990922    0.544353\n",
              "Price             0.016072  0.004381  ...   0.075107    0.134247\n",
              "Total             0.575879  0.988640  ...   0.999303    0.577237\n",
              "Discount1         0.674540  0.544353  ...   0.559631    1.000000\n",
              "Discount2        -0.012278 -0.008211  ...  -0.009371    0.241240\n",
              "Discount3              NaN       NaN  ...        NaN         NaN\n",
              "NET_TUTAR         0.563866  0.990922  ...   1.000000    0.559631\n",
              "ISK_TOPLAM        0.674540  0.544353  ...   0.559631    1.000000\n",
              "\n",
              "[9 rows x 9 columns]"
            ]
          },
          "metadata": {},
          "execution_count": 85
        }
      ]
    },
    {
      "cell_type": "markdown",
      "metadata": {
        "id": "dW0vh5NhcZLm"
      },
      "source": [
        "- **Discount** Değişkenlerine bakalım "
      ]
    },
    {
      "cell_type": "code",
      "metadata": {
        "colab": {
          "base_uri": "https://localhost:8080/"
        },
        "id": "o9h9wZ1iccN3",
        "outputId": "c392fbbf-d26a-49ab-c9ff-7c6575582541"
      },
      "source": [
        "dis = ['Discount1','Discount2','Discount3']\n",
        "\n",
        "for cols in dis:\n",
        "\n",
        "  print(pd.DataFrame({cols:data[cols].value_counts()}))\n",
        "  print(f\"{data[cols].value_counts().count()} adet değeri var\", end = \"\\n\\n\")"
      ],
      "execution_count": null,
      "outputs": [
        {
          "output_type": "stream",
          "name": "stdout",
          "text": [
            "    Discount1\n",
            "0         881\n",
            "5         139\n",
            "8          43\n",
            "7          14\n",
            "20          1\n",
            "10          1\n",
            "3           1\n",
            "7 adet değeri var\n",
            "\n",
            "    Discount2\n",
            "0        1079\n",
            "10          1\n",
            "2 adet değeri var\n",
            "\n",
            "   Discount3\n",
            "0       1080\n",
            "1 adet değeri var\n",
            "\n"
          ]
        }
      ]
    },
    {
      "cell_type": "markdown",
      "metadata": {
        "id": "yhxCpH03AQek"
      },
      "source": [
        "# Kategorik Değişken"
      ]
    },
    {
      "cell_type": "code",
      "metadata": {
        "colab": {
          "base_uri": "https://localhost:8080/"
        },
        "id": "ykypBovXgu9W",
        "outputId": "af9096b9-fb7e-41ca-bb2f-d9a690b556bf"
      },
      "source": [
        "def Categoric(df, plot = False):\n",
        "\n",
        "  cat_cols = [cols for cols in df.columns if df[cols].dtype == 'object']\n",
        "\n",
        "  for cols in cat_cols:\n",
        "\n",
        "    if plot:\n",
        "\n",
        "      print(f\"######## {df[cols].name} ###########\")\n",
        "      print(f\"{len(df[cols].unique())} tane değeri var\")\n",
        "\n",
        "      if df[cols].nunique() > 1 and df[cols].nunique() < 10:\n",
        "\n",
        "        sns.countplot(x=cols, data = df)\n",
        "        plt.show()\n",
        "\n",
        "Categoric(data,plot= True)"
      ],
      "execution_count": null,
      "outputs": [
        {
          "output_type": "stream",
          "name": "stdout",
          "text": [
            "######## CustomerName ###########\n",
            "236 tane değeri var\n",
            "######## Date ###########\n",
            "383 tane değeri var\n",
            "######## DocumentNo ###########\n",
            "1057 tane değeri var\n",
            "######## ProductCode ###########\n",
            "1 tane değeri var\n",
            "######## ProductName ###########\n",
            "1 tane değeri var\n",
            "######## Unit ###########\n",
            "1 tane değeri var\n",
            "######## GirisCikis ###########\n",
            "2 tane değeri var\n"
          ]
        },
        {
          "output_type": "display_data",
          "data": {
            "image/png": "[encoded data removed]",
            "text/plain": [
              "<Figure size 432x288 with 1 Axes>"
            ]
          },
          "metadata": {
            "needs_background": "light"
          }
        },
        {
          "output_type": "stream",
          "name": "stdout",
          "text": [
            "######## EvrakTip ###########\n",
            "4 tane değeri var\n"
          ]
        },
        {
          "output_type": "display_data",
          "data": {
            "image/png": "[encoded data removed]",
            "text/plain": [
              "<Figure size 432x288 with 1 Axes>"
            ]
          },
          "metadata": {
            "needs_background": "light"
          }
        }
      ]
    },
    {
      "cell_type": "markdown",
      "metadata": {
        "id": "zP0NLYjc3PzK"
      },
      "source": [
        "# Data Preprocessing "
      ]
    },
    {
      "cell_type": "markdown",
      "metadata": {
        "id": "AHgKOw2J3SoR"
      },
      "source": [
        "## Missing Values\n",
        "\n",
        "- Datamız da Eksik Değere Sahip olan Değişkenlerimize bakacağız "
      ]
    },
    {
      "cell_type": "code",
      "metadata": {
        "colab": {
          "base_uri": "https://localhost:8080/"
        },
        "id": "JxQXch6c3VEZ",
        "outputId": "1a6f8480-23b6-44f3-d41c-02526279e3fb"
      },
      "source": [
        "data.isnull().any()"
      ],
      "execution_count": null,
      "outputs": [
        {
          "output_type": "execute_result",
          "data": {
            "text/plain": [
              "CustomerCode     True\n",
              "CustomerName     True\n",
              "Date            False\n",
              "DocumentNo      False\n",
              "ProductCode     False\n",
              "ProductName     False\n",
              "Quantity        False\n",
              "Unit            False\n",
              "Price           False\n",
              "Total           False\n",
              "Discount1       False\n",
              "Discount2       False\n",
              "Discount3       False\n",
              "NET_TUTAR       False\n",
              "ISK_TOPLAM      False\n",
              "GirisCikis      False\n",
              "EvrakTip        False\n",
              "dtype: bool"
            ]
          },
          "metadata": {},
          "execution_count": 88
        }
      ]
    },
    {
      "cell_type": "code",
      "metadata": {
        "colab": {
          "base_uri": "https://localhost:8080/"
        },
        "id": "yt0es6ju3gaJ",
        "outputId": "0cead98c-e302-4f19-d5a3-fa7610e83539"
      },
      "source": [
        "def Missing_Analysis(df):\n",
        "\n",
        "  miss_cols = []\n",
        "   \n",
        "  columns = df.columns\n",
        "  \n",
        "  for cols in columns:\n",
        "    \n",
        "    if df[cols].isnull().any(): #Eksik değere sahip değişken için True döner\n",
        "\n",
        "      miss_cols.append((cols,f\" Toplam Eksik Değer : {df[cols].isnull().sum()}\"))\n",
        "\n",
        "  return miss_cols\n",
        "\n",
        "Missing_Analysis(data)"
      ],
      "execution_count": null,
      "outputs": [
        {
          "output_type": "execute_result",
          "data": {
            "text/plain": [
              "[('CustomerCode', ' Toplam Eksik Değer : 2'),\n",
              " ('CustomerName', ' Toplam Eksik Değer : 2')]"
            ]
          },
          "metadata": {},
          "execution_count": 89
        }
      ]
    },
    {
      "cell_type": "markdown",
      "metadata": {
        "id": "PntxgEF5YJai"
      },
      "source": [
        "- **CustomerCode** değişkenimizde eksik olan gözlemlerimize tüm data üzerinden bakıyoruz.\n",
        "- **CustomerCode** değişkenimizde eksik olan gözlemler aynı zaman da **CustomerName** değişkenimizde de eksiktir."
      ]
    },
    {
      "cell_type": "markdown",
      "metadata": {
        "id": "hley2CI6Y5-l"
      },
      "source": [
        "- **CustomerName** değişkeninde eksik olan gözlemlerin indexlerini 1073 ve 1074 olduğunu görüyoruz."
      ]
    },
    {
      "cell_type": "code",
      "metadata": {
        "colab": {
          "base_uri": "https://localhost:8080/"
        },
        "id": "VdbhGCeIYWYE",
        "outputId": "cd726ef3-c032-4a5a-acab-7bf7fa2b3670"
      },
      "source": [
        "data['CustomerName'][data['CustomerName'].isnull()].index.to_list()"
      ],
      "execution_count": null,
      "outputs": [
        {
          "output_type": "execute_result",
          "data": {
            "text/plain": [
              "[1073, 1074]"
            ]
          },
          "metadata": {},
          "execution_count": 90
        }
      ]
    },
    {
      "cell_type": "markdown",
      "metadata": {
        "id": "ljv4fGLyk6n2"
      },
      "source": [
        "- Şimdi bu eksik değere sahip değişkenlerimizin eksik değere sahip olan indexi tamamen datamızdan siliyoruz"
      ]
    },
    {
      "cell_type": "code",
      "metadata": {
        "colab": {
          "base_uri": "https://localhost:8080/"
        },
        "id": "eJpuPKQhlGRr",
        "outputId": "bae51980-1416-42f3-c7a8-7c8afdbda412"
      },
      "source": [
        "data = data.dropna()\n",
        "\n",
        "data.isnull().any(), data.isnull().sum()"
      ],
      "execution_count": null,
      "outputs": [
        {
          "output_type": "execute_result",
          "data": {
            "text/plain": [
              "(CustomerCode    False\n",
              " CustomerName    False\n",
              " Date            False\n",
              " DocumentNo      False\n",
              " ProductCode     False\n",
              " ProductName     False\n",
              " Quantity        False\n",
              " Unit            False\n",
              " Price           False\n",
              " Total           False\n",
              " Discount1       False\n",
              " Discount2       False\n",
              " Discount3       False\n",
              " NET_TUTAR       False\n",
              " ISK_TOPLAM      False\n",
              " GirisCikis      False\n",
              " EvrakTip        False\n",
              " dtype: bool, CustomerCode    0\n",
              " CustomerName    0\n",
              " Date            0\n",
              " DocumentNo      0\n",
              " ProductCode     0\n",
              " ProductName     0\n",
              " Quantity        0\n",
              " Unit            0\n",
              " Price           0\n",
              " Total           0\n",
              " Discount1       0\n",
              " Discount2       0\n",
              " Discount3       0\n",
              " NET_TUTAR       0\n",
              " ISK_TOPLAM      0\n",
              " GirisCikis      0\n",
              " EvrakTip        0\n",
              " dtype: int64)"
            ]
          },
          "metadata": {},
          "execution_count": 91
        }
      ]
    },
    {
      "cell_type": "markdown",
      "metadata": {
        "id": "oC1pJFqoQXFu"
      },
      "source": [
        "## New Feature"
      ]
    },
    {
      "cell_type": "code",
      "metadata": {
        "colab": {
          "base_uri": "https://localhost:8080/"
        },
        "id": "HEq1u39UCZ9c",
        "outputId": "df9bcbf1-998b-4ae0-da31-b75ace17f4c1"
      },
      "source": [
        "data['Date']"
      ],
      "execution_count": null,
      "outputs": [
        {
          "output_type": "execute_result",
          "data": {
            "text/plain": [
              "0       2021.08.02\n",
              "1       2021.02.26\n",
              "2       2021.05.24\n",
              "3       2020.11.19\n",
              "4       2021.02.03\n",
              "           ...    \n",
              "1075    2020.07.10\n",
              "1076    2021.06.10\n",
              "1077    2020.09.19\n",
              "1078    2020.09.05\n",
              "1079    2020.10.26\n",
              "Name: Date, Length: 1078, dtype: object"
            ]
          },
          "metadata": {},
          "execution_count": 92
        }
      ]
    },
    {
      "cell_type": "markdown",
      "metadata": {
        "id": "k8lTmWemdA1v"
      },
      "source": [
        "- **Date** değişkeninden sadece **Yılı** alıyoruz ve yeni **Yıl** değişkeni elde ediyoruz"
      ]
    },
    {
      "cell_type": "code",
      "metadata": {
        "colab": {
          "base_uri": "https://localhost:8080/"
        },
        "id": "Xyq5uHGPV9Zh",
        "outputId": "b710136f-7a15-417e-9f67-ab9f45866326"
      },
      "source": [
        "data['Yıl'] = data['Date'].str.extract('([0-9]+)\\.', expand = False)\n",
        "\n",
        "data.head()"
      ],
      "execution_count": null,
      "outputs": [
        {
          "output_type": "execute_result",
          "data": {
            "text/html": [
              "<div>\n",
              "<style scoped>\n",
              "    .dataframe tbody tr th:only-of-type {\n",
              "        vertical-align: middle;\n",
              "    }\n",
              "\n",
              "    .dataframe tbody tr th {\n",
              "        vertical-align: top;\n",
              "    }\n",
              "\n",
              "    .dataframe thead th {\n",
              "        text-align: right;\n",
              "    }\n",
              "</style>\n",
              "<table border=\"1\" class=\"dataframe\">\n",
              "  <thead>\n",
              "    <tr style=\"text-align: right;\">\n",
              "      <th></th>\n",
              "      <th>CustomerCode</th>\n",
              "      <th>CustomerName</th>\n",
              "      <th>Date</th>\n",
              "      <th>DocumentNo</th>\n",
              "      <th>ProductCode</th>\n",
              "      <th>ProductName</th>\n",
              "      <th>Quantity</th>\n",
              "      <th>Unit</th>\n",
              "      <th>Price</th>\n",
              "      <th>Total</th>\n",
              "      <th>Discount1</th>\n",
              "      <th>Discount2</th>\n",
              "      <th>Discount3</th>\n",
              "      <th>NET_TUTAR</th>\n",
              "      <th>ISK_TOPLAM</th>\n",
              "      <th>GirisCikis</th>\n",
              "      <th>EvrakTip</th>\n",
              "      <th>Yıl</th>\n",
              "    </tr>\n",
              "  </thead>\n",
              "  <tbody>\n",
              "    <tr>\n",
              "      <th>0</th>\n",
              "      <td>40096.0</td>\n",
              "      <td>Trakman Otom.San.Tic.Ltd.Şti.</td>\n",
              "      <td>2021.08.02</td>\n",
              "      <td>GOF93201</td>\n",
              "      <td>VDN112510</td>\n",
              "      <td>Komp Kapağı</td>\n",
              "      <td>3</td>\n",
              "      <td>ADET</td>\n",
              "      <td>551.452000</td>\n",
              "      <td>1654.356</td>\n",
              "      <td>0</td>\n",
              "      <td>0</td>\n",
              "      <td>0</td>\n",
              "      <td>1654.35600</td>\n",
              "      <td>0</td>\n",
              "      <td>Çıkış</td>\n",
              "      <td>Çıkış Faturası</td>\n",
              "      <td>2021</td>\n",
              "    </tr>\n",
              "    <tr>\n",
              "      <th>1</th>\n",
              "      <td>20959.0</td>\n",
              "      <td>Gökçe Otom - Havva Sağır</td>\n",
              "      <td>2021.02.26</td>\n",
              "      <td>GOF24763</td>\n",
              "      <td>VDN112510</td>\n",
              "      <td>Komp Kapağı</td>\n",
              "      <td>2</td>\n",
              "      <td>ADET</td>\n",
              "      <td>483.829500</td>\n",
              "      <td>967.659</td>\n",
              "      <td>0</td>\n",
              "      <td>0</td>\n",
              "      <td>0</td>\n",
              "      <td>967.65900</td>\n",
              "      <td>0</td>\n",
              "      <td>Çıkış</td>\n",
              "      <td>Çıkış Faturası</td>\n",
              "      <td>2021</td>\n",
              "    </tr>\n",
              "    <tr>\n",
              "      <th>2</th>\n",
              "      <td>40094.0</td>\n",
              "      <td>YPS Global Otom.İç Dış Tic.A.Ş.</td>\n",
              "      <td>2021.05.24</td>\n",
              "      <td>MKI5642</td>\n",
              "      <td>VDN112510</td>\n",
              "      <td>Komp Kapağı</td>\n",
              "      <td>22</td>\n",
              "      <td>ADET</td>\n",
              "      <td>562.407727</td>\n",
              "      <td>12372.970</td>\n",
              "      <td>8</td>\n",
              "      <td>0</td>\n",
              "      <td>0</td>\n",
              "      <td>11444.99725</td>\n",
              "      <td>8</td>\n",
              "      <td>Giriş</td>\n",
              "      <td>Giriş İrsaliyesi</td>\n",
              "      <td>2021</td>\n",
              "    </tr>\n",
              "    <tr>\n",
              "      <th>3</th>\n",
              "      <td>20604.0</td>\n",
              "      <td>Mahmut Keskin Otom.San.Tic.Lts.Şti.</td>\n",
              "      <td>2020.11.19</td>\n",
              "      <td>GNF48881</td>\n",
              "      <td>VDN112510</td>\n",
              "      <td>Komp Kapağı</td>\n",
              "      <td>5</td>\n",
              "      <td>ADET</td>\n",
              "      <td>506.011000</td>\n",
              "      <td>2530.055</td>\n",
              "      <td>0</td>\n",
              "      <td>0</td>\n",
              "      <td>0</td>\n",
              "      <td>2530.05500</td>\n",
              "      <td>0</td>\n",
              "      <td>Çıkış</td>\n",
              "      <td>Çıkış Faturası</td>\n",
              "      <td>2020</td>\n",
              "    </tr>\n",
              "    <tr>\n",
              "      <th>4</th>\n",
              "      <td>20029.0</td>\n",
              "      <td>Acarlar Yedek Parça Otom.San.Tic.Ltd.Şti.</td>\n",
              "      <td>2021.02.03</td>\n",
              "      <td>GOF14184</td>\n",
              "      <td>VDN112510</td>\n",
              "      <td>Komp Kapağı</td>\n",
              "      <td>10</td>\n",
              "      <td>ADET</td>\n",
              "      <td>451.000000</td>\n",
              "      <td>4510.000</td>\n",
              "      <td>0</td>\n",
              "      <td>0</td>\n",
              "      <td>0</td>\n",
              "      <td>4510.00000</td>\n",
              "      <td>0</td>\n",
              "      <td>Çıkış</td>\n",
              "      <td>Çıkış Faturası</td>\n",
              "      <td>2021</td>\n",
              "    </tr>\n",
              "  </tbody>\n",
              "</table>\n",
              "</div>"
            ],
            "text/plain": [
              "   CustomerCode  ...   Yıl\n",
              "0       40096.0  ...  2021\n",
              "1       20959.0  ...  2021\n",
              "2       40094.0  ...  2021\n",
              "3       20604.0  ...  2020\n",
              "4       20029.0  ...  2021\n",
              "\n",
              "[5 rows x 18 columns]"
            ]
          },
          "metadata": {},
          "execution_count": 93
        }
      ]
    },
    {
      "cell_type": "markdown",
      "metadata": {
        "id": "pwTV5WHXc9mi"
      },
      "source": [
        "- **Date** değişkeninden Sadece **Ayları** alalım "
      ]
    },
    {
      "cell_type": "code",
      "metadata": {
        "id": "ejCO6gREc7Vb",
        "colab": {
          "base_uri": "https://localhost:8080/"
        },
        "outputId": "c06d7ff9-4ae1-4629-b003-a17e592fbcd4"
      },
      "source": [
        "data['Date'].str.extract('\\.([0-9]+)',expand = False)"
      ],
      "execution_count": null,
      "outputs": [
        {
          "output_type": "execute_result",
          "data": {
            "text/plain": [
              "0       08\n",
              "1       02\n",
              "2       05\n",
              "3       11\n",
              "4       02\n",
              "        ..\n",
              "1075    07\n",
              "1076    06\n",
              "1077    09\n",
              "1078    09\n",
              "1079    10\n",
              "Name: Date, Length: 1078, dtype: object"
            ]
          },
          "metadata": {},
          "execution_count": 94
        }
      ]
    },
    {
      "cell_type": "markdown",
      "metadata": {
        "id": "wlEl1c3Ec9BU"
      },
      "source": [
        "- **Date** Değişkenimizden **Ay** değişkeni elde edeceğiz."
      ]
    },
    {
      "cell_type": "code",
      "metadata": {
        "colab": {
          "base_uri": "https://localhost:8080/"
        },
        "id": "umt_QdGSViux",
        "outputId": "e49bf988-35bc-4c1b-bf0c-83da8c8e9c19"
      },
      "source": [
        "data['Ay'] = data['Date'].str.extract('\\.([0-9]+)', expand = False)\n",
        "\n",
        "data.head()"
      ],
      "execution_count": null,
      "outputs": [
        {
          "output_type": "execute_result",
          "data": {
            "text/html": [
              "<div>\n",
              "<style scoped>\n",
              "    .dataframe tbody tr th:only-of-type {\n",
              "        vertical-align: middle;\n",
              "    }\n",
              "\n",
              "    .dataframe tbody tr th {\n",
              "        vertical-align: top;\n",
              "    }\n",
              "\n",
              "    .dataframe thead th {\n",
              "        text-align: right;\n",
              "    }\n",
              "</style>\n",
              "<table border=\"1\" class=\"dataframe\">\n",
              "  <thead>\n",
              "    <tr style=\"text-align: right;\">\n",
              "      <th></th>\n",
              "      <th>CustomerCode</th>\n",
              "      <th>CustomerName</th>\n",
              "      <th>Date</th>\n",
              "      <th>DocumentNo</th>\n",
              "      <th>ProductCode</th>\n",
              "      <th>ProductName</th>\n",
              "      <th>Quantity</th>\n",
              "      <th>Unit</th>\n",
              "      <th>Price</th>\n",
              "      <th>Total</th>\n",
              "      <th>Discount1</th>\n",
              "      <th>Discount2</th>\n",
              "      <th>Discount3</th>\n",
              "      <th>NET_TUTAR</th>\n",
              "      <th>ISK_TOPLAM</th>\n",
              "      <th>GirisCikis</th>\n",
              "      <th>EvrakTip</th>\n",
              "      <th>Yıl</th>\n",
              "      <th>Ay</th>\n",
              "    </tr>\n",
              "  </thead>\n",
              "  <tbody>\n",
              "    <tr>\n",
              "      <th>0</th>\n",
              "      <td>40096.0</td>\n",
              "      <td>Trakman Otom.San.Tic.Ltd.Şti.</td>\n",
              "      <td>2021.08.02</td>\n",
              "      <td>GOF93201</td>\n",
              "      <td>VDN112510</td>\n",
              "      <td>Komp Kapağı</td>\n",
              "      <td>3</td>\n",
              "      <td>ADET</td>\n",
              "      <td>551.452000</td>\n",
              "      <td>1654.356</td>\n",
              "      <td>0</td>\n",
              "      <td>0</td>\n",
              "      <td>0</td>\n",
              "      <td>1654.35600</td>\n",
              "      <td>0</td>\n",
              "      <td>Çıkış</td>\n",
              "      <td>Çıkış Faturası</td>\n",
              "      <td>2021</td>\n",
              "      <td>08</td>\n",
              "    </tr>\n",
              "    <tr>\n",
              "      <th>1</th>\n",
              "      <td>20959.0</td>\n",
              "      <td>Gökçe Otom - Havva Sağır</td>\n",
              "      <td>2021.02.26</td>\n",
              "      <td>GOF24763</td>\n",
              "      <td>VDN112510</td>\n",
              "      <td>Komp Kapağı</td>\n",
              "      <td>2</td>\n",
              "      <td>ADET</td>\n",
              "      <td>483.829500</td>\n",
              "      <td>967.659</td>\n",
              "      <td>0</td>\n",
              "      <td>0</td>\n",
              "      <td>0</td>\n",
              "      <td>967.65900</td>\n",
              "      <td>0</td>\n",
              "      <td>Çıkış</td>\n",
              "      <td>Çıkış Faturası</td>\n",
              "      <td>2021</td>\n",
              "      <td>02</td>\n",
              "    </tr>\n",
              "    <tr>\n",
              "      <th>2</th>\n",
              "      <td>40094.0</td>\n",
              "      <td>YPS Global Otom.İç Dış Tic.A.Ş.</td>\n",
              "      <td>2021.05.24</td>\n",
              "      <td>MKI5642</td>\n",
              "      <td>VDN112510</td>\n",
              "      <td>Komp Kapağı</td>\n",
              "      <td>22</td>\n",
              "      <td>ADET</td>\n",
              "      <td>562.407727</td>\n",
              "      <td>12372.970</td>\n",
              "      <td>8</td>\n",
              "      <td>0</td>\n",
              "      <td>0</td>\n",
              "      <td>11444.99725</td>\n",
              "      <td>8</td>\n",
              "      <td>Giriş</td>\n",
              "      <td>Giriş İrsaliyesi</td>\n",
              "      <td>2021</td>\n",
              "      <td>05</td>\n",
              "    </tr>\n",
              "    <tr>\n",
              "      <th>3</th>\n",
              "      <td>20604.0</td>\n",
              "      <td>Mahmut Keskin Otom.San.Tic.Lts.Şti.</td>\n",
              "      <td>2020.11.19</td>\n",
              "      <td>GNF48881</td>\n",
              "      <td>VDN112510</td>\n",
              "      <td>Komp Kapağı</td>\n",
              "      <td>5</td>\n",
              "      <td>ADET</td>\n",
              "      <td>506.011000</td>\n",
              "      <td>2530.055</td>\n",
              "      <td>0</td>\n",
              "      <td>0</td>\n",
              "      <td>0</td>\n",
              "      <td>2530.05500</td>\n",
              "      <td>0</td>\n",
              "      <td>Çıkış</td>\n",
              "      <td>Çıkış Faturası</td>\n",
              "      <td>2020</td>\n",
              "      <td>11</td>\n",
              "    </tr>\n",
              "    <tr>\n",
              "      <th>4</th>\n",
              "      <td>20029.0</td>\n",
              "      <td>Acarlar Yedek Parça Otom.San.Tic.Ltd.Şti.</td>\n",
              "      <td>2021.02.03</td>\n",
              "      <td>GOF14184</td>\n",
              "      <td>VDN112510</td>\n",
              "      <td>Komp Kapağı</td>\n",
              "      <td>10</td>\n",
              "      <td>ADET</td>\n",
              "      <td>451.000000</td>\n",
              "      <td>4510.000</td>\n",
              "      <td>0</td>\n",
              "      <td>0</td>\n",
              "      <td>0</td>\n",
              "      <td>4510.00000</td>\n",
              "      <td>0</td>\n",
              "      <td>Çıkış</td>\n",
              "      <td>Çıkış Faturası</td>\n",
              "      <td>2021</td>\n",
              "      <td>02</td>\n",
              "    </tr>\n",
              "  </tbody>\n",
              "</table>\n",
              "</div>"
            ],
            "text/plain": [
              "   CustomerCode                               CustomerName  ...   Yıl  Ay\n",
              "0       40096.0              Trakman Otom.San.Tic.Ltd.Şti.  ...  2021  08\n",
              "1       20959.0                   Gökçe Otom - Havva Sağır  ...  2021  02\n",
              "2       40094.0            YPS Global Otom.İç Dış Tic.A.Ş.  ...  2021  05\n",
              "3       20604.0        Mahmut Keskin Otom.San.Tic.Lts.Şti.  ...  2020  11\n",
              "4       20029.0  Acarlar Yedek Parça Otom.San.Tic.Ltd.Şti.  ...  2021  02\n",
              "\n",
              "[5 rows x 19 columns]"
            ]
          },
          "metadata": {},
          "execution_count": 95
        }
      ]
    },
    {
      "cell_type": "markdown",
      "metadata": {
        "id": "SjLAMinsWlKH"
      },
      "source": [
        "- Bu **Ay** değişkeninde ki rakamları **int** değerleri **object** değerlere çevireceğiz."
      ]
    },
    {
      "cell_type": "code",
      "metadata": {
        "colab": {
          "base_uri": "https://localhost:8080/"
        },
        "id": "AgJ6L1BzWyYg",
        "outputId": "33ae967c-affe-4550-c000-1fc755f0c985"
      },
      "source": [
        "ay_map = {'01':'Ocak','02':'Şubat','03':'Mart', '04':'Nisan', '05':'Mayıs','06':'Haziran',\n",
        "          \"07\" : 'Temmuz', \"08\" :'Ağustos', \"09\":'Eylül', \"10\":'Ekim', \"11\": 'Kasım', \"12\" : 'Aralık'}\n",
        "\n",
        "data['Ay'] = data['Ay'].map(ay_map).astype('object')\n",
        "\n",
        "data.head()"
      ],
      "execution_count": null,
      "outputs": [
        {
          "output_type": "execute_result",
          "data": {
            "text/html": [
              "<div>\n",
              "<style scoped>\n",
              "    .dataframe tbody tr th:only-of-type {\n",
              "        vertical-align: middle;\n",
              "    }\n",
              "\n",
              "    .dataframe tbody tr th {\n",
              "        vertical-align: top;\n",
              "    }\n",
              "\n",
              "    .dataframe thead th {\n",
              "        text-align: right;\n",
              "    }\n",
              "</style>\n",
              "<table border=\"1\" class=\"dataframe\">\n",
              "  <thead>\n",
              "    <tr style=\"text-align: right;\">\n",
              "      <th></th>\n",
              "      <th>CustomerCode</th>\n",
              "      <th>CustomerName</th>\n",
              "      <th>Date</th>\n",
              "      <th>DocumentNo</th>\n",
              "      <th>ProductCode</th>\n",
              "      <th>ProductName</th>\n",
              "      <th>Quantity</th>\n",
              "      <th>Unit</th>\n",
              "      <th>Price</th>\n",
              "      <th>Total</th>\n",
              "      <th>Discount1</th>\n",
              "      <th>Discount2</th>\n",
              "      <th>Discount3</th>\n",
              "      <th>NET_TUTAR</th>\n",
              "      <th>ISK_TOPLAM</th>\n",
              "      <th>GirisCikis</th>\n",
              "      <th>EvrakTip</th>\n",
              "      <th>Yıl</th>\n",
              "      <th>Ay</th>\n",
              "    </tr>\n",
              "  </thead>\n",
              "  <tbody>\n",
              "    <tr>\n",
              "      <th>0</th>\n",
              "      <td>40096.0</td>\n",
              "      <td>Trakman Otom.San.Tic.Ltd.Şti.</td>\n",
              "      <td>2021.08.02</td>\n",
              "      <td>GOF93201</td>\n",
              "      <td>VDN112510</td>\n",
              "      <td>Komp Kapağı</td>\n",
              "      <td>3</td>\n",
              "      <td>ADET</td>\n",
              "      <td>551.452000</td>\n",
              "      <td>1654.356</td>\n",
              "      <td>0</td>\n",
              "      <td>0</td>\n",
              "      <td>0</td>\n",
              "      <td>1654.35600</td>\n",
              "      <td>0</td>\n",
              "      <td>Çıkış</td>\n",
              "      <td>Çıkış Faturası</td>\n",
              "      <td>2021</td>\n",
              "      <td>Ağustos</td>\n",
              "    </tr>\n",
              "    <tr>\n",
              "      <th>1</th>\n",
              "      <td>20959.0</td>\n",
              "      <td>Gökçe Otom - Havva Sağır</td>\n",
              "      <td>2021.02.26</td>\n",
              "      <td>GOF24763</td>\n",
              "      <td>VDN112510</td>\n",
              "      <td>Komp Kapağı</td>\n",
              "      <td>2</td>\n",
              "      <td>ADET</td>\n",
              "      <td>483.829500</td>\n",
              "      <td>967.659</td>\n",
              "      <td>0</td>\n",
              "      <td>0</td>\n",
              "      <td>0</td>\n",
              "      <td>967.65900</td>\n",
              "      <td>0</td>\n",
              "      <td>Çıkış</td>\n",
              "      <td>Çıkış Faturası</td>\n",
              "      <td>2021</td>\n",
              "      <td>Şubat</td>\n",
              "    </tr>\n",
              "    <tr>\n",
              "      <th>2</th>\n",
              "      <td>40094.0</td>\n",
              "      <td>YPS Global Otom.İç Dış Tic.A.Ş.</td>\n",
              "      <td>2021.05.24</td>\n",
              "      <td>MKI5642</td>\n",
              "      <td>VDN112510</td>\n",
              "      <td>Komp Kapağı</td>\n",
              "      <td>22</td>\n",
              "      <td>ADET</td>\n",
              "      <td>562.407727</td>\n",
              "      <td>12372.970</td>\n",
              "      <td>8</td>\n",
              "      <td>0</td>\n",
              "      <td>0</td>\n",
              "      <td>11444.99725</td>\n",
              "      <td>8</td>\n",
              "      <td>Giriş</td>\n",
              "      <td>Giriş İrsaliyesi</td>\n",
              "      <td>2021</td>\n",
              "      <td>Mayıs</td>\n",
              "    </tr>\n",
              "    <tr>\n",
              "      <th>3</th>\n",
              "      <td>20604.0</td>\n",
              "      <td>Mahmut Keskin Otom.San.Tic.Lts.Şti.</td>\n",
              "      <td>2020.11.19</td>\n",
              "      <td>GNF48881</td>\n",
              "      <td>VDN112510</td>\n",
              "      <td>Komp Kapağı</td>\n",
              "      <td>5</td>\n",
              "      <td>ADET</td>\n",
              "      <td>506.011000</td>\n",
              "      <td>2530.055</td>\n",
              "      <td>0</td>\n",
              "      <td>0</td>\n",
              "      <td>0</td>\n",
              "      <td>2530.05500</td>\n",
              "      <td>0</td>\n",
              "      <td>Çıkış</td>\n",
              "      <td>Çıkış Faturası</td>\n",
              "      <td>2020</td>\n",
              "      <td>Kasım</td>\n",
              "    </tr>\n",
              "    <tr>\n",
              "      <th>4</th>\n",
              "      <td>20029.0</td>\n",
              "      <td>Acarlar Yedek Parça Otom.San.Tic.Ltd.Şti.</td>\n",
              "      <td>2021.02.03</td>\n",
              "      <td>GOF14184</td>\n",
              "      <td>VDN112510</td>\n",
              "      <td>Komp Kapağı</td>\n",
              "      <td>10</td>\n",
              "      <td>ADET</td>\n",
              "      <td>451.000000</td>\n",
              "      <td>4510.000</td>\n",
              "      <td>0</td>\n",
              "      <td>0</td>\n",
              "      <td>0</td>\n",
              "      <td>4510.00000</td>\n",
              "      <td>0</td>\n",
              "      <td>Çıkış</td>\n",
              "      <td>Çıkış Faturası</td>\n",
              "      <td>2021</td>\n",
              "      <td>Şubat</td>\n",
              "    </tr>\n",
              "  </tbody>\n",
              "</table>\n",
              "</div>"
            ],
            "text/plain": [
              "   CustomerCode                               CustomerName  ...   Yıl       Ay\n",
              "0       40096.0              Trakman Otom.San.Tic.Ltd.Şti.  ...  2021  Ağustos\n",
              "1       20959.0                   Gökçe Otom - Havva Sağır  ...  2021    Şubat\n",
              "2       40094.0            YPS Global Otom.İç Dış Tic.A.Ş.  ...  2021    Mayıs\n",
              "3       20604.0        Mahmut Keskin Otom.San.Tic.Lts.Şti.  ...  2020    Kasım\n",
              "4       20029.0  Acarlar Yedek Parça Otom.San.Tic.Ltd.Şti.  ...  2021    Şubat\n",
              "\n",
              "[5 rows x 19 columns]"
            ]
          },
          "metadata": {},
          "execution_count": 96
        }
      ]
    },
    {
      "cell_type": "markdown",
      "metadata": {
        "id": "23kXm1LxBtg5"
      },
      "source": [
        "- Fiyatı **0** olan kirli data var mı ona bakıyoruz.\n",
        "- 1 gözlem de **Price** değişkeninin **0 değeri** var olduğunu görüyoruz."
      ]
    },
    {
      "cell_type": "code",
      "metadata": {
        "colab": {
          "base_uri": "https://localhost:8080/"
        },
        "id": "8tkoZeI2Br1K",
        "outputId": "0f92b3a0-6029-4c97-e79c-8539ade6120e"
      },
      "source": [
        "data[data['Price'] == 0]"
      ],
      "execution_count": null,
      "outputs": [
        {
          "output_type": "execute_result",
          "data": {
            "text/html": [
              "<div>\n",
              "<style scoped>\n",
              "    .dataframe tbody tr th:only-of-type {\n",
              "        vertical-align: middle;\n",
              "    }\n",
              "\n",
              "    .dataframe tbody tr th {\n",
              "        vertical-align: top;\n",
              "    }\n",
              "\n",
              "    .dataframe thead th {\n",
              "        text-align: right;\n",
              "    }\n",
              "</style>\n",
              "<table border=\"1\" class=\"dataframe\">\n",
              "  <thead>\n",
              "    <tr style=\"text-align: right;\">\n",
              "      <th></th>\n",
              "      <th>CustomerCode</th>\n",
              "      <th>CustomerName</th>\n",
              "      <th>Date</th>\n",
              "      <th>DocumentNo</th>\n",
              "      <th>ProductCode</th>\n",
              "      <th>ProductName</th>\n",
              "      <th>Quantity</th>\n",
              "      <th>Unit</th>\n",
              "      <th>Price</th>\n",
              "      <th>Total</th>\n",
              "      <th>Discount1</th>\n",
              "      <th>Discount2</th>\n",
              "      <th>Discount3</th>\n",
              "      <th>NET_TUTAR</th>\n",
              "      <th>ISK_TOPLAM</th>\n",
              "      <th>GirisCikis</th>\n",
              "      <th>EvrakTip</th>\n",
              "      <th>Yıl</th>\n",
              "      <th>Ay</th>\n",
              "    </tr>\n",
              "  </thead>\n",
              "  <tbody>\n",
              "    <tr>\n",
              "      <th>567</th>\n",
              "      <td>40094.0</td>\n",
              "      <td>YPS Global Otom.İç Dış Tic.A.Ş.</td>\n",
              "      <td>2021.10.05</td>\n",
              "      <td>MKI11231</td>\n",
              "      <td>VDN112510</td>\n",
              "      <td>Komp Kapağı</td>\n",
              "      <td>15</td>\n",
              "      <td>ADET</td>\n",
              "      <td>0.0</td>\n",
              "      <td>0.0</td>\n",
              "      <td>0</td>\n",
              "      <td>0</td>\n",
              "      <td>0</td>\n",
              "      <td>0.0</td>\n",
              "      <td>0</td>\n",
              "      <td>Giriş</td>\n",
              "      <td>Giriş İrsaliyesi</td>\n",
              "      <td>2021</td>\n",
              "      <td>Ekim</td>\n",
              "    </tr>\n",
              "  </tbody>\n",
              "</table>\n",
              "</div>"
            ],
            "text/plain": [
              "     CustomerCode                     CustomerName  ...   Yıl    Ay\n",
              "567       40094.0  YPS Global Otom.İç Dış Tic.A.Ş.  ...  2021  Ekim\n",
              "\n",
              "[1 rows x 19 columns]"
            ]
          },
          "metadata": {},
          "execution_count": 97
        }
      ]
    },
    {
      "cell_type": "markdown",
      "metadata": {
        "id": "sFbNwTCgBB5J"
      },
      "source": [
        "- Fiyatlarda indirim uygulanmış, kirli data vs. olabilir. Bundan kurtulmak için, fiyat ve miktarı 0’dan büyük olan siparişleri alıyoruz"
      ]
    },
    {
      "cell_type": "code",
      "metadata": {
        "id": "7tr-cBxbBEW2"
      },
      "source": [
        "data = data[(data['Price'] > 0) & (data['Quantity'] > 0)]"
      ],
      "execution_count": null,
      "outputs": []
    },
    {
      "cell_type": "markdown",
      "metadata": {
        "id": "amCis3SQlcju"
      },
      "source": [
        "- **Fiyatı 0 olan** gözlemden de kurtuluyoruz."
      ]
    },
    {
      "cell_type": "code",
      "metadata": {
        "colab": {
          "base_uri": "https://localhost:8080/"
        },
        "id": "aZbpbn8-BfVe",
        "outputId": "53e5c537-b90d-40d9-8260-12b529d8676e"
      },
      "source": [
        "data[data['Price'] == 0]"
      ],
      "execution_count": null,
      "outputs": [
        {
          "output_type": "execute_result",
          "data": {
            "text/html": [
              "<div>\n",
              "<style scoped>\n",
              "    .dataframe tbody tr th:only-of-type {\n",
              "        vertical-align: middle;\n",
              "    }\n",
              "\n",
              "    .dataframe tbody tr th {\n",
              "        vertical-align: top;\n",
              "    }\n",
              "\n",
              "    .dataframe thead th {\n",
              "        text-align: right;\n",
              "    }\n",
              "</style>\n",
              "<table border=\"1\" class=\"dataframe\">\n",
              "  <thead>\n",
              "    <tr style=\"text-align: right;\">\n",
              "      <th></th>\n",
              "      <th>CustomerCode</th>\n",
              "      <th>CustomerName</th>\n",
              "      <th>Date</th>\n",
              "      <th>DocumentNo</th>\n",
              "      <th>ProductCode</th>\n",
              "      <th>ProductName</th>\n",
              "      <th>Quantity</th>\n",
              "      <th>Unit</th>\n",
              "      <th>Price</th>\n",
              "      <th>Total</th>\n",
              "      <th>Discount1</th>\n",
              "      <th>Discount2</th>\n",
              "      <th>Discount3</th>\n",
              "      <th>NET_TUTAR</th>\n",
              "      <th>ISK_TOPLAM</th>\n",
              "      <th>GirisCikis</th>\n",
              "      <th>EvrakTip</th>\n",
              "      <th>Yıl</th>\n",
              "      <th>Ay</th>\n",
              "    </tr>\n",
              "  </thead>\n",
              "  <tbody>\n",
              "  </tbody>\n",
              "</table>\n",
              "</div>"
            ],
            "text/plain": [
              "Empty DataFrame\n",
              "Columns: [CustomerCode, CustomerName, Date, DocumentNo, ProductCode, ProductName, Quantity, Unit, Price, Total, Discount1, Discount2, Discount3, NET_TUTAR, ISK_TOPLAM, GirisCikis, EvrakTip, Yıl, Ay]\n",
              "Index: []"
            ]
          },
          "metadata": {},
          "execution_count": 99
        }
      ]
    },
    {
      "cell_type": "markdown",
      "metadata": {
        "id": "jDmAGSryWN80"
      },
      "source": [
        "# Aykırı Değer Analizi"
      ]
    },
    {
      "cell_type": "markdown",
      "metadata": {
        "id": "3nmY4sAIYOi_"
      },
      "source": [
        "- Bir değişken için **Alt Eşik ve Üst Eşik değerleri** döndüren fonskiyon yazalım."
      ]
    },
    {
      "cell_type": "code",
      "metadata": {
        "colab": {
          "base_uri": "https://localhost:8080/"
        },
        "id": "okkuhf3FWQhD",
        "outputId": "f6e3b8c9-5e4c-49f2-e6f8-f51aefd6e9b3"
      },
      "source": [
        "def Low_up(df,feature):\n",
        "\n",
        "  Q1 = df[feature].quantile(0.25)\n",
        "  Q3 = df[feature].quantile(0.75)\n",
        "\n",
        "  IQR = np.multiply(1.5, np.subtract(Q3, Q1))\n",
        "\n",
        "  low = IQR - Q1\n",
        "  up = Q3 + IQR\n",
        "\n",
        "  return low, up\n",
        "\n",
        "Low_up(data, feature = 'NET_TUTAR')"
      ],
      "execution_count": null,
      "outputs": [
        {
          "output_type": "execute_result",
          "data": {
            "text/plain": [
              "(4382.665, 9254.335)"
            ]
          },
          "metadata": {},
          "execution_count": 100
        }
      ]
    },
    {
      "cell_type": "markdown",
      "metadata": {
        "id": "zFw92KQebNLf"
      },
      "source": [
        "- Bir değişken için **Aykırı Değer Olup Olmadığını** kontrol eden ve **Boolean Değer** döndüren bir fonksiyon yazalım."
      ]
    },
    {
      "cell_type": "code",
      "metadata": {
        "colab": {
          "base_uri": "https://localhost:8080/"
        },
        "id": "Y54I-ztFbbT0",
        "outputId": "bdb21c0a-8a39-47f3-d4ee-ea1b24199631"
      },
      "source": [
        "def Outliers_have(df, feature):\n",
        "\n",
        "  result = []\n",
        "\n",
        "  low, up = Low_up(df, cols) #alt eşik ve üst eşik değer bulan fonskiyonu kullanıyoruz.\n",
        "  \n",
        "  if df[feature][(df[feature] < low) | (df[feature] > up)].any(axis=None): #Aykırı değeri verir.\n",
        "\n",
        "    return True\n",
        "  else:\n",
        "    return False\n",
        "\n",
        "Outliers_have(df = data,feature = 'NET_TUTAR')"
      ],
      "execution_count": null,
      "outputs": [
        {
          "output_type": "execute_result",
          "data": {
            "text/plain": [
              "True"
            ]
          },
          "metadata": {},
          "execution_count": 101
        }
      ]
    },
    {
      "cell_type": "markdown",
      "metadata": {
        "id": "V2dSOjCVdQ3O"
      },
      "source": [
        "- Numeric Değişkenlerin hepsi için kendisi Aykırı Değer kontrolü yapan ve bize o değişkenleri ve alt,üst eşik değerlerini veren bir fonskiyon yazalım."
      ]
    },
    {
      "cell_type": "code",
      "metadata": {
        "colab": {
          "base_uri": "https://localhost:8080/"
        },
        "id": "ApI4hAXvdupQ",
        "outputId": "7966cc30-b960-42e9-a617-92b7585659a4"
      },
      "source": [
        "def Outliers_Analysis(df, plot = False):\n",
        "\n",
        "  aykırı = []\n",
        "\n",
        "  aykırı_yok = []\n",
        "\n",
        "  num_cols = [cols for cols in df.columns if df[cols].dtypes != 'object'\n",
        "             and cols not in 'Date'] #Numeric değişkenleri aldık.Date Değişkenini dahil etmedik.\n",
        "\n",
        "  for cols in num_cols:\n",
        "\n",
        "    low, up = Low_up(df,feature=cols) #alt ve üst eşik değeri bulan fonskiyon\n",
        "\n",
        "    if low == 0 and up == 0: # alt,üst eşik değeri 0 olan bir değişkenin aykırı değeri yoktur.\n",
        "\n",
        "      aykırı_yok.append(cols)\n",
        "\n",
        "    else:\n",
        "      number = df[cols][(df[cols] < low) | (df[cols] > up)].count() #Aykırı değeri var ise count ile toplam aykırı değer sayısını alırız.\n",
        "    \n",
        "      if number > 0:\n",
        "        \n",
        "        aykırı.append(cols)\n",
        "\n",
        "        cache = {'Alt Eşik Değer':low,\n",
        "             'Üst Eşik Değer':up,\n",
        "             'Toplam Aykırı Değer Sayısı':number\n",
        "              }\n",
        "\n",
        "        print(f\"####################### {df[cols].name} ###########################\",end = \"\\n\\n\")\n",
        "        print(cache, end = \"\\n\\n\")\n",
        "\n",
        "        if plot: #plot Parametremize True dersek Aykırı değer olan değişkenlerimizin Boxplot'unu çizdirir.\n",
        "\n",
        "          sns.boxplot(x = cols, data = df)\n",
        "          plt.show()\n",
        "\n",
        "      else:\n",
        "        aykırı_yok.append(cols)\n",
        "\n",
        "      cache_feature = {'Aykırı Değer Olan Değişkenler': aykırı,\n",
        "                   'Aykırı Değer Olmayan Değişkenler':aykırı_yok\n",
        "                   }\n",
        "\n",
        "  return cache_feature\n",
        "\n",
        "Outliers_Analysis(df = data, plot = True)"
      ],
      "execution_count": null,
      "outputs": [
        {
          "output_type": "stream",
          "name": "stdout",
          "text": [
            "####################### CustomerCode ###########################\n",
            "\n",
            "{'Alt Eşik Değer': -19309.5, 'Üst Eşik Değer': 21769.5, 'Toplam Aykırı Değer Sayısı': 150}\n",
            "\n"
          ]
        },
        {
          "output_type": "display_data",
          "data": {
            "image/png": "[encoded data removed]",
            "text/plain": [
              "<Figure size 432x288 with 1 Axes>"
            ]
          },
          "metadata": {
            "needs_background": "light"
          }
        },
        {
          "output_type": "stream",
          "name": "stdout",
          "text": [
            "####################### Quantity ###########################\n",
            "\n",
            "{'Alt Eşik Değer': 10.0, 'Üst Eşik Değer': 22.0, 'Toplam Aykırı Değer Sayısı': 904}\n",
            "\n"
          ]
        },
        {
          "output_type": "display_data",
          "data": {
            "image/png": "[encoded data removed]",
            "text/plain": [
              "<Figure size 432x288 with 1 Axes>"
            ]
          },
          "metadata": {
            "needs_background": "light"
          }
        },
        {
          "output_type": "stream",
          "name": "stdout",
          "text": [
            "####################### Price ###########################\n",
            "\n",
            "{'Alt Eşik Değer': -259.27699999999993, 'Üst Eşik Değer': 700.8850000000001, 'Toplam Aykırı Değer Sayısı': 3}\n",
            "\n"
          ]
        },
        {
          "output_type": "display_data",
          "data": {
            "image/png": "[encoded data removed]",
            "text/plain": [
              "<Figure size 432x288 with 1 Axes>"
            ]
          },
          "metadata": {
            "needs_background": "light"
          }
        },
        {
          "output_type": "stream",
          "name": "stdout",
          "text": [
            "####################### Total ###########################\n",
            "\n",
            "{'Alt Eşik Değer': 4382.665, 'Üst Eşik Değer': 9254.335, 'Toplam Aykırı Değer Sayısı': 958}\n",
            "\n"
          ]
        },
        {
          "output_type": "display_data",
          "data": {
            "image/png": "[encoded data removed]",
            "text/plain": [
              "<Figure size 432x288 with 1 Axes>"
            ]
          },
          "metadata": {
            "needs_background": "light"
          }
        },
        {
          "output_type": "stream",
          "name": "stdout",
          "text": [
            "####################### NET_TUTAR ###########################\n",
            "\n",
            "{'Alt Eşik Değer': 4382.665, 'Üst Eşik Değer': 9254.335, 'Toplam Aykırı Değer Sayısı': 955}\n",
            "\n"
          ]
        },
        {
          "output_type": "display_data",
          "data": {
            "image/png": "[encoded data removed]",
            "text/plain": [
              "<Figure size 432x288 with 1 Axes>"
            ]
          },
          "metadata": {
            "needs_background": "light"
          }
        },
        {
          "output_type": "execute_result",
          "data": {
            "text/plain": [
              "{'Aykırı Değer Olan Değişkenler': ['CustomerCode',\n",
              "  'Quantity',\n",
              "  'Price',\n",
              "  'Total',\n",
              "  'NET_TUTAR'],\n",
              " 'Aykırı Değer Olmayan Değişkenler': ['Discount1',\n",
              "  'Discount2',\n",
              "  'Discount3',\n",
              "  'ISK_TOPLAM']}"
            ]
          },
          "metadata": {},
          "execution_count": 102
        }
      ]
    },
    {
      "cell_type": "code",
      "metadata": {
        "colab": {
          "base_uri": "https://localhost:8080/"
        },
        "id": "2bN1TF3Kln2y",
        "outputId": "64eb3c87-8c1f-4c5c-f1e3-cb50b8c97f31"
      },
      "source": [
        "[cols for cols in data.columns if data[cols].dtypes != 'object'\n",
        "and cols not in 'Date']"
      ],
      "execution_count": null,
      "outputs": [
        {
          "output_type": "execute_result",
          "data": {
            "text/plain": [
              "['CustomerCode',\n",
              " 'Quantity',\n",
              " 'Price',\n",
              " 'Total',\n",
              " 'Discount1',\n",
              " 'Discount2',\n",
              " 'Discount3',\n",
              " 'NET_TUTAR',\n",
              " 'ISK_TOPLAM']"
            ]
          },
          "metadata": {},
          "execution_count": 103
        }
      ]
    },
    {
      "cell_type": "markdown",
      "metadata": {
        "id": "NnIOTAY-mZ5P"
      },
      "source": [
        "#Müşteri - Fiyat Analizi"
      ]
    },
    {
      "cell_type": "markdown",
      "metadata": {
        "id": "ze_3v1cgI8Wd"
      },
      "source": [
        "- Toplam ücret değişkenimizi boxplot ile görselleiştiriyoruz."
      ]
    },
    {
      "cell_type": "code",
      "metadata": {
        "colab": {
          "base_uri": "https://localhost:8080/",
          "height": 280
        },
        "id": "Hr6jqkmYmxeJ",
        "outputId": "e854ba3d-0e07-4bfb-995c-eb964f892982"
      },
      "source": [
        "import seaborn as sns\n",
        "\n",
        "sns.boxplot(data['NET_TUTAR'], data=data);"
      ],
      "execution_count": null,
      "outputs": [
        {
          "output_type": "display_data",
          "data": {
            "image/png": "[encoded data removed]",
            "text/plain": [
              "<Figure size 432x288 with 1 Axes>"
            ]
          },
          "metadata": {
            "needs_background": "light"
          }
        }
      ]
    },
    {
      "cell_type": "markdown",
      "metadata": {
        "id": "0G5OZDBMJmMA"
      },
      "source": [
        "- **NET_TUTAR** değişkenimizin ortalamasının: **4455**\n",
        "- Standart Sapmasının : **8069** olduğunu görüyoruz.\n",
        "- O yüzden boxplot grafiğinde 0'a daha yakın olduğunu söyleyebiliyoruz."
      ]
    },
    {
      "cell_type": "code",
      "metadata": {
        "colab": {
          "base_uri": "https://localhost:8080/"
        },
        "id": "Ps6eJrTSJZMd",
        "outputId": "8bd8faad-95aa-4be6-fc6b-239e17099b8a"
      },
      "source": [
        "data['NET_TUTAR'].describe()"
      ],
      "execution_count": null,
      "outputs": [
        {
          "output_type": "execute_result",
          "data": {
            "text/plain": [
              "count     1077.000000\n",
              "mean      4455.632923\n",
              "std       8069.267183\n",
              "min         55.000000\n",
              "25%        731.210000\n",
              "50%       1455.580500\n",
              "75%       4140.460000\n",
              "max      66576.653000\n",
              "Name: NET_TUTAR, dtype: float64"
            ]
          },
          "metadata": {},
          "execution_count": 105
        }
      ]
    },
    {
      "cell_type": "markdown",
      "metadata": {
        "id": "kI6vNhMYKH1J"
      },
      "source": [
        "- **CustomerCode** değişkeni ile **Toplam Ücret** değişkenimizi görselleştirdik.\n",
        "- Görselden yaptığımız analize göre ; \n",
        "    - **1000 kodlu CustomerCode'ları sayısıının diğerlerine göre daha ve bu kodların kazandırmış olduğu ücretler çok düşük.**\n",
        "    - **2000 kodlu CustomerCode'ları sayısının diğerlerine göre oranla daha fazla ve ortalama 15000 ile 0 arasında bir ücret kazancı var. O değerlerde bir yığılma söz konusudur.**\n",
        "    - **4000 kodlu CstomerCode'ları ise sayısının az ama Fiyat olarak diğerlerinden fazla olduğu söz konusudur.**\n",
        "-"
      ]
    },
    {
      "cell_type": "code",
      "metadata": {
        "colab": {
          "base_uri": "https://localhost:8080/",
          "height": 279
        },
        "id": "RDMc9TP9nF1x",
        "outputId": "159e6c48-7b12-4a54-84c8-9940847992f2"
      },
      "source": [
        "sns.scatterplot(x=data['CustomerCode'], y = data['NET_TUTAR'], data=data);"
      ],
      "execution_count": null,
      "outputs": [
        {
          "output_type": "display_data",
          "data": {
            "image/png": "[encoded data removed]",
            "text/plain": [
              "<Figure size 432x288 with 1 Axes>"
            ]
          },
          "metadata": {
            "needs_background": "light"
          }
        }
      ]
    },
    {
      "cell_type": "code",
      "metadata": {
        "colab": {
          "base_uri": "https://localhost:8080/",
          "height": 279
        },
        "id": "wtqdixjMnlJT",
        "outputId": "d2d0aec4-42fb-4bbd-f88d-abe61332a662"
      },
      "source": [
        "sns.scatterplot(x='CustomerCode', y='Quantity', data=data);"
      ],
      "execution_count": null,
      "outputs": [
        {
          "output_type": "display_data",
          "data": {
            "image/png": "[encoded data removed]",
            "text/plain": [
              "<Figure size 432x288 with 1 Axes>"
            ]
          },
          "metadata": {
            "needs_background": "light"
          }
        }
      ]
    },
    {
      "cell_type": "markdown",
      "metadata": {
        "id": "H7140SD9kaa_"
      },
      "source": [
        "- **En Çok Ücret Ödeyen ve En çok Sipariş veren ilk 30 Müşteri Kodları** aşağıdaki gibidir. "
      ]
    },
    {
      "cell_type": "code",
      "metadata": {
        "colab": {
          "base_uri": "https://localhost:8080/",
          "height": 973
        },
        "id": "m9ay9-n_nudS",
        "outputId": "f3b7c493-7d46-49bc-8407-4b0530908969"
      },
      "source": [
        "data.groupby(by=['CustomerCode', 'Quantity'], as_index = False)['NET_TUTAR'].max().sort_values('NET_TUTAR', ascending = False).head(30)"
      ],
      "execution_count": null,
      "outputs": [
        {
          "output_type": "execute_result",
          "data": {
            "text/html": [
              "<div>\n",
              "<style scoped>\n",
              "    .dataframe tbody tr th:only-of-type {\n",
              "        vertical-align: middle;\n",
              "    }\n",
              "\n",
              "    .dataframe tbody tr th {\n",
              "        vertical-align: top;\n",
              "    }\n",
              "\n",
              "    .dataframe thead th {\n",
              "        text-align: right;\n",
              "    }\n",
              "</style>\n",
              "<table border=\"1\" class=\"dataframe\">\n",
              "  <thead>\n",
              "    <tr style=\"text-align: right;\">\n",
              "      <th></th>\n",
              "      <th>CustomerCode</th>\n",
              "      <th>Quantity</th>\n",
              "      <th>NET_TUTAR</th>\n",
              "    </tr>\n",
              "  </thead>\n",
              "  <tbody>\n",
              "    <tr>\n",
              "      <th>582</th>\n",
              "      <td>40094.0</td>\n",
              "      <td>130</td>\n",
              "      <td>66576.65300</td>\n",
              "    </tr>\n",
              "    <tr>\n",
              "      <th>232</th>\n",
              "      <td>20410.0</td>\n",
              "      <td>100</td>\n",
              "      <td>52000.00000</td>\n",
              "    </tr>\n",
              "    <tr>\n",
              "      <th>581</th>\n",
              "      <td>40094.0</td>\n",
              "      <td>100</td>\n",
              "      <td>51436.15125</td>\n",
              "    </tr>\n",
              "    <tr>\n",
              "      <th>400</th>\n",
              "      <td>20765.0</td>\n",
              "      <td>100</td>\n",
              "      <td>50000.00000</td>\n",
              "    </tr>\n",
              "    <tr>\n",
              "      <th>233</th>\n",
              "      <td>20410.0</td>\n",
              "      <td>110</td>\n",
              "      <td>49500.00000</td>\n",
              "    </tr>\n",
              "    <tr>\n",
              "      <th>579</th>\n",
              "      <td>40094.0</td>\n",
              "      <td>90</td>\n",
              "      <td>46203.71300</td>\n",
              "    </tr>\n",
              "    <tr>\n",
              "      <th>231</th>\n",
              "      <td>20410.0</td>\n",
              "      <td>90</td>\n",
              "      <td>40500.00000</td>\n",
              "    </tr>\n",
              "    <tr>\n",
              "      <th>575</th>\n",
              "      <td>40094.0</td>\n",
              "      <td>75</td>\n",
              "      <td>39618.77675</td>\n",
              "    </tr>\n",
              "    <tr>\n",
              "      <th>230</th>\n",
              "      <td>20410.0</td>\n",
              "      <td>80</td>\n",
              "      <td>39200.00000</td>\n",
              "    </tr>\n",
              "    <tr>\n",
              "      <th>577</th>\n",
              "      <td>40094.0</td>\n",
              "      <td>80</td>\n",
              "      <td>38590.11000</td>\n",
              "    </tr>\n",
              "    <tr>\n",
              "      <th>580</th>\n",
              "      <td>40094.0</td>\n",
              "      <td>95</td>\n",
              "      <td>38219.96300</td>\n",
              "    </tr>\n",
              "    <tr>\n",
              "      <th>576</th>\n",
              "      <td>40094.0</td>\n",
              "      <td>78</td>\n",
              "      <td>35856.24900</td>\n",
              "    </tr>\n",
              "    <tr>\n",
              "      <th>574</th>\n",
              "      <td>40094.0</td>\n",
              "      <td>70</td>\n",
              "      <td>34071.81000</td>\n",
              "    </tr>\n",
              "    <tr>\n",
              "      <th>573</th>\n",
              "      <td>40094.0</td>\n",
              "      <td>65</td>\n",
              "      <td>32979.46900</td>\n",
              "    </tr>\n",
              "    <tr>\n",
              "      <th>229</th>\n",
              "      <td>20410.0</td>\n",
              "      <td>75</td>\n",
              "      <td>32625.00000</td>\n",
              "    </tr>\n",
              "    <tr>\n",
              "      <th>216</th>\n",
              "      <td>20396.0</td>\n",
              "      <td>70</td>\n",
              "      <td>32278.68000</td>\n",
              "    </tr>\n",
              "    <tr>\n",
              "      <th>572</th>\n",
              "      <td>40094.0</td>\n",
              "      <td>64</td>\n",
              "      <td>30710.25900</td>\n",
              "    </tr>\n",
              "    <tr>\n",
              "      <th>571</th>\n",
              "      <td>40094.0</td>\n",
              "      <td>60</td>\n",
              "      <td>30656.56275</td>\n",
              "    </tr>\n",
              "    <tr>\n",
              "      <th>578</th>\n",
              "      <td>40094.0</td>\n",
              "      <td>81</td>\n",
              "      <td>28737.75000</td>\n",
              "    </tr>\n",
              "    <tr>\n",
              "      <th>568</th>\n",
              "      <td>40094.0</td>\n",
              "      <td>50</td>\n",
              "      <td>26431.86000</td>\n",
              "    </tr>\n",
              "    <tr>\n",
              "      <th>494</th>\n",
              "      <td>20966.0</td>\n",
              "      <td>50</td>\n",
              "      <td>25000.00000</td>\n",
              "    </tr>\n",
              "    <tr>\n",
              "      <th>24</th>\n",
              "      <td>20029.0</td>\n",
              "      <td>50</td>\n",
              "      <td>25000.00000</td>\n",
              "    </tr>\n",
              "    <tr>\n",
              "      <th>567</th>\n",
              "      <td>40094.0</td>\n",
              "      <td>48</td>\n",
              "      <td>24691.30250</td>\n",
              "    </tr>\n",
              "    <tr>\n",
              "      <th>569</th>\n",
              "      <td>40094.0</td>\n",
              "      <td>53</td>\n",
              "      <td>24396.33250</td>\n",
              "    </tr>\n",
              "    <tr>\n",
              "      <th>493</th>\n",
              "      <td>20966.0</td>\n",
              "      <td>45</td>\n",
              "      <td>22950.00000</td>\n",
              "    </tr>\n",
              "    <tr>\n",
              "      <th>228</th>\n",
              "      <td>20410.0</td>\n",
              "      <td>49</td>\n",
              "      <td>22001.00000</td>\n",
              "    </tr>\n",
              "    <tr>\n",
              "      <th>563</th>\n",
              "      <td>40094.0</td>\n",
              "      <td>42</td>\n",
              "      <td>21590.36025</td>\n",
              "    </tr>\n",
              "    <tr>\n",
              "      <th>570</th>\n",
              "      <td>40094.0</td>\n",
              "      <td>55</td>\n",
              "      <td>21338.18750</td>\n",
              "    </tr>\n",
              "    <tr>\n",
              "      <th>564</th>\n",
              "      <td>40094.0</td>\n",
              "      <td>43</td>\n",
              "      <td>20751.65750</td>\n",
              "    </tr>\n",
              "    <tr>\n",
              "      <th>562</th>\n",
              "      <td>40094.0</td>\n",
              "      <td>40</td>\n",
              "      <td>20562.25050</td>\n",
              "    </tr>\n",
              "  </tbody>\n",
              "</table>\n",
              "</div>"
            ],
            "text/plain": [
              "     CustomerCode  Quantity    NET_TUTAR\n",
              "582       40094.0       130  66576.65300\n",
              "232       20410.0       100  52000.00000\n",
              "581       40094.0       100  51436.15125\n",
              "400       20765.0       100  50000.00000\n",
              "233       20410.0       110  49500.00000\n",
              "579       40094.0        90  46203.71300\n",
              "231       20410.0        90  40500.00000\n",
              "575       40094.0        75  39618.77675\n",
              "230       20410.0        80  39200.00000\n",
              "577       40094.0        80  38590.11000\n",
              "580       40094.0        95  38219.96300\n",
              "576       40094.0        78  35856.24900\n",
              "574       40094.0        70  34071.81000\n",
              "573       40094.0        65  32979.46900\n",
              "229       20410.0        75  32625.00000\n",
              "216       20396.0        70  32278.68000\n",
              "572       40094.0        64  30710.25900\n",
              "571       40094.0        60  30656.56275\n",
              "578       40094.0        81  28737.75000\n",
              "568       40094.0        50  26431.86000\n",
              "494       20966.0        50  25000.00000\n",
              "24        20029.0        50  25000.00000\n",
              "567       40094.0        48  24691.30250\n",
              "569       40094.0        53  24396.33250\n",
              "493       20966.0        45  22950.00000\n",
              "228       20410.0        49  22001.00000\n",
              "563       40094.0        42  21590.36025\n",
              "570       40094.0        55  21338.18750\n",
              "564       40094.0        43  20751.65750\n",
              "562       40094.0        40  20562.25050"
            ]
          },
          "metadata": {},
          "execution_count": 108
        }
      ]
    },
    {
      "cell_type": "markdown",
      "metadata": {
        "id": "PbCmhiQIo08C"
      },
      "source": [
        "- Bir Müşterinin **Toplam Harcamasına** bakalım.\n",
        "- **En çok Ücret ödeyen** ilk 30 müşterileri göreceğiz.\n",
        "- Müşteri Kodlarının yanına, Müşteri İsimlerini de ekleyelim.\n",
        "- Toplam Harcamaları da büyükten küçüğe doğru sıralayalım"
      ]
    },
    {
      "cell_type": "code",
      "metadata": {
        "colab": {
          "base_uri": "https://localhost:8080/",
          "height": 973
        },
        "id": "rgCr7knvo5_o",
        "outputId": "3bc16451-737a-4ac6-82b6-7f216ab8d858"
      },
      "source": [
        "data.groupby(by = ['CustomerCode', 'CustomerName'], as_index = False)['NET_TUTAR'].sum().sort_values('NET_TUTAR', ascending = False).head(30)"
      ],
      "execution_count": null,
      "outputs": [
        {
          "output_type": "execute_result",
          "data": {
            "text/html": [
              "<div>\n",
              "<style scoped>\n",
              "    .dataframe tbody tr th:only-of-type {\n",
              "        vertical-align: middle;\n",
              "    }\n",
              "\n",
              "    .dataframe tbody tr th {\n",
              "        vertical-align: top;\n",
              "    }\n",
              "\n",
              "    .dataframe thead th {\n",
              "        text-align: right;\n",
              "    }\n",
              "</style>\n",
              "<table border=\"1\" class=\"dataframe\">\n",
              "  <thead>\n",
              "    <tr style=\"text-align: right;\">\n",
              "      <th></th>\n",
              "      <th>CustomerCode</th>\n",
              "      <th>CustomerName</th>\n",
              "      <th>NET_TUTAR</th>\n",
              "    </tr>\n",
              "  </thead>\n",
              "  <tbody>\n",
              "    <tr>\n",
              "      <th>234</th>\n",
              "      <td>40094.0</td>\n",
              "      <td>YPS Global Otom.İç Dış Tic.A.Ş.</td>\n",
              "      <td>2.369596e+06</td>\n",
              "    </tr>\n",
              "    <tr>\n",
              "      <th>93</th>\n",
              "      <td>20410.0</td>\n",
              "      <td>Fırat Makina Otom.Teks.Turz.İnş.San.ve Dış Tic...</td>\n",
              "      <td>3.337336e+05</td>\n",
              "    </tr>\n",
              "    <tr>\n",
              "      <th>147</th>\n",
              "      <td>20670.0</td>\n",
              "      <td>3Y Otom.San.Tic.Ltd.Şti.</td>\n",
              "      <td>1.670009e+05</td>\n",
              "    </tr>\n",
              "    <tr>\n",
              "      <th>210</th>\n",
              "      <td>20966.0</td>\n",
              "      <td>Otokaraman Otom.Yedek Parça Tic.Ltd.Şti.</td>\n",
              "      <td>8.497400e+04</td>\n",
              "    </tr>\n",
              "    <tr>\n",
              "      <th>165</th>\n",
              "      <td>20765.0</td>\n",
              "      <td>Nail Otom.San.Tic.Ltd.</td>\n",
              "      <td>7.795543e+04</td>\n",
              "    </tr>\n",
              "    <tr>\n",
              "      <th>7</th>\n",
              "      <td>20029.0</td>\n",
              "      <td>Acarlar Yedek Parça Otom.San.Tic.Ltd.Şti.</td>\n",
              "      <td>6.787588e+04</td>\n",
              "    </tr>\n",
              "    <tr>\n",
              "      <th>90</th>\n",
              "      <td>20396.0</td>\n",
              "      <td>Ertaş Otom.Tic.San.A.Ş.</td>\n",
              "      <td>6.617574e+04</td>\n",
              "    </tr>\n",
              "    <tr>\n",
              "      <th>18</th>\n",
              "      <td>20081.0</td>\n",
              "      <td>Rova Grup Mot.Araç.Otom.İnş.San.Tic.Ltd.Şti.</td>\n",
              "      <td>6.080914e+04</td>\n",
              "    </tr>\n",
              "    <tr>\n",
              "      <th>196</th>\n",
              "      <td>20914.0</td>\n",
              "      <td>Mustafa İnanç Otom.Ser.Hiz.Akar.San.Tic.Ltd.Şti.</td>\n",
              "      <td>5.303492e+04</td>\n",
              "    </tr>\n",
              "    <tr>\n",
              "      <th>13</th>\n",
              "      <td>20048.0</td>\n",
              "      <td>Emrah Otom.San.Tic.Ltd.Şti.</td>\n",
              "      <td>5.097854e+04</td>\n",
              "    </tr>\n",
              "    <tr>\n",
              "      <th>89</th>\n",
              "      <td>20382.0</td>\n",
              "      <td>Dündar Makina San.Tic.Ltd.Şti.</td>\n",
              "      <td>5.095315e+04</td>\n",
              "    </tr>\n",
              "    <tr>\n",
              "      <th>38</th>\n",
              "      <td>20156.0</td>\n",
              "      <td>Merkezman Mot.Araç.San.Tic.A.Ş.</td>\n",
              "      <td>5.027706e+04</td>\n",
              "    </tr>\n",
              "    <tr>\n",
              "      <th>84</th>\n",
              "      <td>20350.0</td>\n",
              "      <td>Atakul Dizel Otom.San.Tic.A.Ş.</td>\n",
              "      <td>3.593900e+04</td>\n",
              "    </tr>\n",
              "    <tr>\n",
              "      <th>8</th>\n",
              "      <td>20032.0</td>\n",
              "      <td>Ankara Grup Tic.Araç.Yedek Parça San.Tic.Ltd.Şti.</td>\n",
              "      <td>3.554609e+04</td>\n",
              "    </tr>\n",
              "    <tr>\n",
              "      <th>14</th>\n",
              "      <td>20051.0</td>\n",
              "      <td>Empa Grup Otom.Oto Yed.Par.Tic.San.Ltd.Şti.</td>\n",
              "      <td>3.449623e+04</td>\n",
              "    </tr>\n",
              "    <tr>\n",
              "      <th>12</th>\n",
              "      <td>20047.0</td>\n",
              "      <td>Egepar Mot.Araç.San.Tic.Ltd.Şti.</td>\n",
              "      <td>3.385385e+04</td>\n",
              "    </tr>\n",
              "    <tr>\n",
              "      <th>115</th>\n",
              "      <td>20522.0</td>\n",
              "      <td>Anadolu Otom - Efdal Yazıcılar</td>\n",
              "      <td>3.291491e+04</td>\n",
              "    </tr>\n",
              "    <tr>\n",
              "      <th>128</th>\n",
              "      <td>20584.0</td>\n",
              "      <td>Egem Mot.Araç.Turz.İnş.ve San.Tic.Ltd.Şti.</td>\n",
              "      <td>2.914046e+04</td>\n",
              "    </tr>\n",
              "    <tr>\n",
              "      <th>135</th>\n",
              "      <td>20607.0</td>\n",
              "      <td>Ofm Otom.San.Tic.Ltd.Şti.</td>\n",
              "      <td>2.671719e+04</td>\n",
              "    </tr>\n",
              "    <tr>\n",
              "      <th>91</th>\n",
              "      <td>20402.0</td>\n",
              "      <td>Erpa Otom.Yedek Parça - Ayten Berberoğlu</td>\n",
              "      <td>2.604078e+04</td>\n",
              "    </tr>\n",
              "    <tr>\n",
              "      <th>232</th>\n",
              "      <td>21115.0</td>\n",
              "      <td>Özaslan Motorlu Araçlar İç ve Dış Tic.A.Ş.</td>\n",
              "      <td>2.390354e+04</td>\n",
              "    </tr>\n",
              "    <tr>\n",
              "      <th>183</th>\n",
              "      <td>20833.0</td>\n",
              "      <td>Kahraman Otom - Erhan Kahraman</td>\n",
              "      <td>2.347936e+04</td>\n",
              "    </tr>\n",
              "    <tr>\n",
              "      <th>67</th>\n",
              "      <td>20243.0</td>\n",
              "      <td>Özel Ayıntap Mot.Araç.Otom Nak.San.Tic.Şti.</td>\n",
              "      <td>2.246829e+04</td>\n",
              "    </tr>\n",
              "    <tr>\n",
              "      <th>5</th>\n",
              "      <td>20019.0</td>\n",
              "      <td>Umut Ticari Araç.ve Yedek Parça - İhsan Mazlum</td>\n",
              "      <td>2.061210e+04</td>\n",
              "    </tr>\n",
              "    <tr>\n",
              "      <th>106</th>\n",
              "      <td>20493.0</td>\n",
              "      <td>Tutanlar Otom.Tic.Ltd.Şti.</td>\n",
              "      <td>2.054914e+04</td>\n",
              "    </tr>\n",
              "    <tr>\n",
              "      <th>188</th>\n",
              "      <td>20846.0</td>\n",
              "      <td>Aktaş Otom.San.Tic.Ltd.Şti.</td>\n",
              "      <td>1.982659e+04</td>\n",
              "    </tr>\n",
              "    <tr>\n",
              "      <th>65</th>\n",
              "      <td>20232.0</td>\n",
              "      <td>Demirci Mot.Araç.San.Tic.Ltd.Şti.</td>\n",
              "      <td>1.954414e+04</td>\n",
              "    </tr>\n",
              "    <tr>\n",
              "      <th>23</th>\n",
              "      <td>20095.0</td>\n",
              "      <td>Volkar Otom - Kamil Erek</td>\n",
              "      <td>1.898529e+04</td>\n",
              "    </tr>\n",
              "    <tr>\n",
              "      <th>71</th>\n",
              "      <td>20262.0</td>\n",
              "      <td>Hty Kılınç Mot.Araç.Bak.Hiz.San.Tic.Ltd.Şti.</td>\n",
              "      <td>1.897935e+04</td>\n",
              "    </tr>\n",
              "    <tr>\n",
              "      <th>156</th>\n",
              "      <td>20745.0</td>\n",
              "      <td>Yaman Tic - Fahrettin Yaman</td>\n",
              "      <td>1.876500e+04</td>\n",
              "    </tr>\n",
              "  </tbody>\n",
              "</table>\n",
              "</div>"
            ],
            "text/plain": [
              "     CustomerCode  ...     NET_TUTAR\n",
              "234       40094.0  ...  2.369596e+06\n",
              "93        20410.0  ...  3.337336e+05\n",
              "147       20670.0  ...  1.670009e+05\n",
              "210       20966.0  ...  8.497400e+04\n",
              "165       20765.0  ...  7.795543e+04\n",
              "7         20029.0  ...  6.787588e+04\n",
              "90        20396.0  ...  6.617574e+04\n",
              "18        20081.0  ...  6.080914e+04\n",
              "196       20914.0  ...  5.303492e+04\n",
              "13        20048.0  ...  5.097854e+04\n",
              "89        20382.0  ...  5.095315e+04\n",
              "38        20156.0  ...  5.027706e+04\n",
              "84        20350.0  ...  3.593900e+04\n",
              "8         20032.0  ...  3.554609e+04\n",
              "14        20051.0  ...  3.449623e+04\n",
              "12        20047.0  ...  3.385385e+04\n",
              "115       20522.0  ...  3.291491e+04\n",
              "128       20584.0  ...  2.914046e+04\n",
              "135       20607.0  ...  2.671719e+04\n",
              "91        20402.0  ...  2.604078e+04\n",
              "232       21115.0  ...  2.390354e+04\n",
              "183       20833.0  ...  2.347936e+04\n",
              "67        20243.0  ...  2.246829e+04\n",
              "5         20019.0  ...  2.061210e+04\n",
              "106       20493.0  ...  2.054914e+04\n",
              "188       20846.0  ...  1.982659e+04\n",
              "65        20232.0  ...  1.954414e+04\n",
              "23        20095.0  ...  1.898529e+04\n",
              "71        20262.0  ...  1.897935e+04\n",
              "156       20745.0  ...  1.876500e+04\n",
              "\n",
              "[30 rows x 3 columns]"
            ]
          },
          "metadata": {},
          "execution_count": 109
        }
      ]
    },
    {
      "cell_type": "markdown",
      "metadata": {
        "id": "HLGLFtARhbzr"
      },
      "source": [
        "# Zaman - Satış Analizi"
      ]
    },
    {
      "cell_type": "markdown",
      "metadata": {
        "id": "4ZWgmsOpNWsH"
      },
      "source": [
        "- Zaman işlemlerinde **Date** değişkenini kullanabilmek için  **tipini datetime** yapıyoruz."
      ]
    },
    {
      "cell_type": "code",
      "metadata": {
        "colab": {
          "base_uri": "https://localhost:8080/"
        },
        "id": "2K4arfE3v1dZ",
        "outputId": "3d638f1c-c9d8-4d7e-dc40-892f93696565"
      },
      "source": [
        "import datetime as dt \n",
        "\n",
        "data['Date'] = pd.to_datetime(data['Date'])\n",
        "\n",
        "data.info()"
      ],
      "execution_count": null,
      "outputs": [
        {
          "output_type": "stream",
          "name": "stdout",
          "text": [
            "<class 'pandas.core.frame.DataFrame'>\n",
            "Int64Index: 1077 entries, 0 to 1079\n",
            "Data columns (total 19 columns):\n",
            " #   Column        Non-Null Count  Dtype         \n",
            "---  ------        --------------  -----         \n",
            " 0   CustomerCode  1077 non-null   float64       \n",
            " 1   CustomerName  1077 non-null   object        \n",
            " 2   Date          1077 non-null   datetime64[ns]\n",
            " 3   DocumentNo    1077 non-null   object        \n",
            " 4   ProductCode   1077 non-null   object        \n",
            " 5   ProductName   1077 non-null   object        \n",
            " 6   Quantity      1077 non-null   int64         \n",
            " 7   Unit          1077 non-null   object        \n",
            " 8   Price         1077 non-null   float64       \n",
            " 9   Total         1077 non-null   float64       \n",
            " 10  Discount1     1077 non-null   int64         \n",
            " 11  Discount2     1077 non-null   int64         \n",
            " 12  Discount3     1077 non-null   int64         \n",
            " 13  NET_TUTAR     1077 non-null   float64       \n",
            " 14  ISK_TOPLAM    1077 non-null   int64         \n",
            " 15  GirisCikis    1077 non-null   object        \n",
            " 16  EvrakTip      1077 non-null   object        \n",
            " 17  Yıl           1077 non-null   object        \n",
            " 18  Ay            1077 non-null   object        \n",
            "dtypes: datetime64[ns](1), float64(4), int64(5), object(9)\n",
            "memory usage: 168.3+ KB\n"
          ]
        }
      ]
    },
    {
      "cell_type": "markdown",
      "metadata": {
        "id": "Y3PPay-wNoU0"
      },
      "source": [
        "- Datamızın **Date** değişkenini kullanarak yeni **Yıl-Ay** değişkeni elde ediyoruz.\n",
        "- Bu değişkeni grafikleştirirken kullanacağız"
      ]
    },
    {
      "cell_type": "code",
      "metadata": {
        "colab": {
          "base_uri": "https://localhost:8080/",
          "height": 307
        },
        "id": "LVYhh56KyrdL",
        "outputId": "94395ca8-e6c3-4d36-e0b0-01590b7e8b8e"
      },
      "source": [
        "data['Yıl_Ay'] = data['Date'].dt.to_period('M').astype(str)\n",
        "\n",
        "data.head()"
      ],
      "execution_count": null,
      "outputs": [
        {
          "output_type": "execute_result",
          "data": {
            "text/html": [
              "<div>\n",
              "<style scoped>\n",
              "    .dataframe tbody tr th:only-of-type {\n",
              "        vertical-align: middle;\n",
              "    }\n",
              "\n",
              "    .dataframe tbody tr th {\n",
              "        vertical-align: top;\n",
              "    }\n",
              "\n",
              "    .dataframe thead th {\n",
              "        text-align: right;\n",
              "    }\n",
              "</style>\n",
              "<table border=\"1\" class=\"dataframe\">\n",
              "  <thead>\n",
              "    <tr style=\"text-align: right;\">\n",
              "      <th></th>\n",
              "      <th>CustomerCode</th>\n",
              "      <th>CustomerName</th>\n",
              "      <th>Date</th>\n",
              "      <th>DocumentNo</th>\n",
              "      <th>ProductCode</th>\n",
              "      <th>ProductName</th>\n",
              "      <th>Quantity</th>\n",
              "      <th>Unit</th>\n",
              "      <th>Price</th>\n",
              "      <th>Total</th>\n",
              "      <th>Discount1</th>\n",
              "      <th>Discount2</th>\n",
              "      <th>Discount3</th>\n",
              "      <th>NET_TUTAR</th>\n",
              "      <th>ISK_TOPLAM</th>\n",
              "      <th>GirisCikis</th>\n",
              "      <th>EvrakTip</th>\n",
              "      <th>Yıl</th>\n",
              "      <th>Ay</th>\n",
              "      <th>Yıl_Ay</th>\n",
              "    </tr>\n",
              "  </thead>\n",
              "  <tbody>\n",
              "    <tr>\n",
              "      <th>0</th>\n",
              "      <td>40096.0</td>\n",
              "      <td>Trakman Otom.San.Tic.Ltd.Şti.</td>\n",
              "      <td>2021-08-02</td>\n",
              "      <td>GOF93201</td>\n",
              "      <td>VDN112510</td>\n",
              "      <td>Komp Kapağı</td>\n",
              "      <td>3</td>\n",
              "      <td>ADET</td>\n",
              "      <td>551.452000</td>\n",
              "      <td>1654.356</td>\n",
              "      <td>0</td>\n",
              "      <td>0</td>\n",
              "      <td>0</td>\n",
              "      <td>1654.35600</td>\n",
              "      <td>0</td>\n",
              "      <td>Çıkış</td>\n",
              "      <td>Çıkış Faturası</td>\n",
              "      <td>2021</td>\n",
              "      <td>Ağustos</td>\n",
              "      <td>2021-08</td>\n",
              "    </tr>\n",
              "    <tr>\n",
              "      <th>1</th>\n",
              "      <td>20959.0</td>\n",
              "      <td>Gökçe Otom - Havva Sağır</td>\n",
              "      <td>2021-02-26</td>\n",
              "      <td>GOF24763</td>\n",
              "      <td>VDN112510</td>\n",
              "      <td>Komp Kapağı</td>\n",
              "      <td>2</td>\n",
              "      <td>ADET</td>\n",
              "      <td>483.829500</td>\n",
              "      <td>967.659</td>\n",
              "      <td>0</td>\n",
              "      <td>0</td>\n",
              "      <td>0</td>\n",
              "      <td>967.65900</td>\n",
              "      <td>0</td>\n",
              "      <td>Çıkış</td>\n",
              "      <td>Çıkış Faturası</td>\n",
              "      <td>2021</td>\n",
              "      <td>Şubat</td>\n",
              "      <td>2021-02</td>\n",
              "    </tr>\n",
              "    <tr>\n",
              "      <th>2</th>\n",
              "      <td>40094.0</td>\n",
              "      <td>YPS Global Otom.İç Dış Tic.A.Ş.</td>\n",
              "      <td>2021-05-24</td>\n",
              "      <td>MKI5642</td>\n",
              "      <td>VDN112510</td>\n",
              "      <td>Komp Kapağı</td>\n",
              "      <td>22</td>\n",
              "      <td>ADET</td>\n",
              "      <td>562.407727</td>\n",
              "      <td>12372.970</td>\n",
              "      <td>8</td>\n",
              "      <td>0</td>\n",
              "      <td>0</td>\n",
              "      <td>11444.99725</td>\n",
              "      <td>8</td>\n",
              "      <td>Giriş</td>\n",
              "      <td>Giriş İrsaliyesi</td>\n",
              "      <td>2021</td>\n",
              "      <td>Mayıs</td>\n",
              "      <td>2021-05</td>\n",
              "    </tr>\n",
              "    <tr>\n",
              "      <th>3</th>\n",
              "      <td>20604.0</td>\n",
              "      <td>Mahmut Keskin Otom.San.Tic.Lts.Şti.</td>\n",
              "      <td>2020-11-19</td>\n",
              "      <td>GNF48881</td>\n",
              "      <td>VDN112510</td>\n",
              "      <td>Komp Kapağı</td>\n",
              "      <td>5</td>\n",
              "      <td>ADET</td>\n",
              "      <td>506.011000</td>\n",
              "      <td>2530.055</td>\n",
              "      <td>0</td>\n",
              "      <td>0</td>\n",
              "      <td>0</td>\n",
              "      <td>2530.05500</td>\n",
              "      <td>0</td>\n",
              "      <td>Çıkış</td>\n",
              "      <td>Çıkış Faturası</td>\n",
              "      <td>2020</td>\n",
              "      <td>Kasım</td>\n",
              "      <td>2020-11</td>\n",
              "    </tr>\n",
              "    <tr>\n",
              "      <th>4</th>\n",
              "      <td>20029.0</td>\n",
              "      <td>Acarlar Yedek Parça Otom.San.Tic.Ltd.Şti.</td>\n",
              "      <td>2021-02-03</td>\n",
              "      <td>GOF14184</td>\n",
              "      <td>VDN112510</td>\n",
              "      <td>Komp Kapağı</td>\n",
              "      <td>10</td>\n",
              "      <td>ADET</td>\n",
              "      <td>451.000000</td>\n",
              "      <td>4510.000</td>\n",
              "      <td>0</td>\n",
              "      <td>0</td>\n",
              "      <td>0</td>\n",
              "      <td>4510.00000</td>\n",
              "      <td>0</td>\n",
              "      <td>Çıkış</td>\n",
              "      <td>Çıkış Faturası</td>\n",
              "      <td>2021</td>\n",
              "      <td>Şubat</td>\n",
              "      <td>2021-02</td>\n",
              "    </tr>\n",
              "  </tbody>\n",
              "</table>\n",
              "</div>"
            ],
            "text/plain": [
              "   CustomerCode                               CustomerName  ...       Ay   Yıl_Ay\n",
              "0       40096.0              Trakman Otom.San.Tic.Ltd.Şti.  ...  Ağustos  2021-08\n",
              "1       20959.0                   Gökçe Otom - Havva Sağır  ...    Şubat  2021-02\n",
              "2       40094.0            YPS Global Otom.İç Dış Tic.A.Ş.  ...    Mayıs  2021-05\n",
              "3       20604.0        Mahmut Keskin Otom.San.Tic.Lts.Şti.  ...    Kasım  2020-11\n",
              "4       20029.0  Acarlar Yedek Parça Otom.San.Tic.Ltd.Şti.  ...    Şubat  2021-02\n",
              "\n",
              "[5 rows x 20 columns]"
            ]
          },
          "metadata": {},
          "execution_count": 111
        }
      ]
    },
    {
      "cell_type": "markdown",
      "metadata": {
        "id": "zikBjIKv-VLS"
      },
      "source": [
        "- Aylık Satışların toplamını grupladık"
      ]
    },
    {
      "cell_type": "code",
      "metadata": {
        "colab": {
          "base_uri": "https://localhost:8080/",
          "height": 726
        },
        "id": "RH2YmBme-DYR",
        "outputId": "d0e13a1a-3842-4fa0-8720-56744d98cb20"
      },
      "source": [
        "aylık = data.groupby('Yıl_Ay', as_index = False)['NET_TUTAR'].sum()\n",
        "\n",
        "aylık"
      ],
      "execution_count": null,
      "outputs": [
        {
          "output_type": "execute_result",
          "data": {
            "text/html": [
              "<div>\n",
              "<style scoped>\n",
              "    .dataframe tbody tr th:only-of-type {\n",
              "        vertical-align: middle;\n",
              "    }\n",
              "\n",
              "    .dataframe tbody tr th {\n",
              "        vertical-align: top;\n",
              "    }\n",
              "\n",
              "    .dataframe thead th {\n",
              "        text-align: right;\n",
              "    }\n",
              "</style>\n",
              "<table border=\"1\" class=\"dataframe\">\n",
              "  <thead>\n",
              "    <tr style=\"text-align: right;\">\n",
              "      <th></th>\n",
              "      <th>Yıl_Ay</th>\n",
              "      <th>NET_TUTAR</th>\n",
              "    </tr>\n",
              "  </thead>\n",
              "  <tbody>\n",
              "    <tr>\n",
              "      <th>0</th>\n",
              "      <td>2020-01</td>\n",
              "      <td>60414.710000</td>\n",
              "    </tr>\n",
              "    <tr>\n",
              "      <th>1</th>\n",
              "      <td>2020-02</td>\n",
              "      <td>62018.263000</td>\n",
              "    </tr>\n",
              "    <tr>\n",
              "      <th>2</th>\n",
              "      <td>2020-03</td>\n",
              "      <td>161951.860000</td>\n",
              "    </tr>\n",
              "    <tr>\n",
              "      <th>3</th>\n",
              "      <td>2020-04</td>\n",
              "      <td>113034.219500</td>\n",
              "    </tr>\n",
              "    <tr>\n",
              "      <th>4</th>\n",
              "      <td>2020-05</td>\n",
              "      <td>134995.131000</td>\n",
              "    </tr>\n",
              "    <tr>\n",
              "      <th>5</th>\n",
              "      <td>2020-06</td>\n",
              "      <td>222678.398000</td>\n",
              "    </tr>\n",
              "    <tr>\n",
              "      <th>6</th>\n",
              "      <td>2020-07</td>\n",
              "      <td>272504.999000</td>\n",
              "    </tr>\n",
              "    <tr>\n",
              "      <th>7</th>\n",
              "      <td>2020-08</td>\n",
              "      <td>188522.570403</td>\n",
              "    </tr>\n",
              "    <tr>\n",
              "      <th>8</th>\n",
              "      <td>2020-09</td>\n",
              "      <td>310618.845928</td>\n",
              "    </tr>\n",
              "    <tr>\n",
              "      <th>9</th>\n",
              "      <td>2020-10</td>\n",
              "      <td>59711.128800</td>\n",
              "    </tr>\n",
              "    <tr>\n",
              "      <th>10</th>\n",
              "      <td>2020-11</td>\n",
              "      <td>182828.747750</td>\n",
              "    </tr>\n",
              "    <tr>\n",
              "      <th>11</th>\n",
              "      <td>2020-12</td>\n",
              "      <td>143218.842000</td>\n",
              "    </tr>\n",
              "    <tr>\n",
              "      <th>12</th>\n",
              "      <td>2021-01</td>\n",
              "      <td>214528.526780</td>\n",
              "    </tr>\n",
              "    <tr>\n",
              "      <th>13</th>\n",
              "      <td>2021-02</td>\n",
              "      <td>198918.603500</td>\n",
              "    </tr>\n",
              "    <tr>\n",
              "      <th>14</th>\n",
              "      <td>2021-03</td>\n",
              "      <td>285382.159375</td>\n",
              "    </tr>\n",
              "    <tr>\n",
              "      <th>15</th>\n",
              "      <td>2021-04</td>\n",
              "      <td>169594.965125</td>\n",
              "    </tr>\n",
              "    <tr>\n",
              "      <th>16</th>\n",
              "      <td>2021-05</td>\n",
              "      <td>233844.344375</td>\n",
              "    </tr>\n",
              "    <tr>\n",
              "      <th>17</th>\n",
              "      <td>2021-06</td>\n",
              "      <td>246631.879810</td>\n",
              "    </tr>\n",
              "    <tr>\n",
              "      <th>18</th>\n",
              "      <td>2021-07</td>\n",
              "      <td>472255.352350</td>\n",
              "    </tr>\n",
              "    <tr>\n",
              "      <th>19</th>\n",
              "      <td>2021-08</td>\n",
              "      <td>288904.334925</td>\n",
              "    </tr>\n",
              "    <tr>\n",
              "      <th>20</th>\n",
              "      <td>2021-09</td>\n",
              "      <td>764911.776300</td>\n",
              "    </tr>\n",
              "    <tr>\n",
              "      <th>21</th>\n",
              "      <td>2021-10</td>\n",
              "      <td>11247.000050</td>\n",
              "    </tr>\n",
              "  </tbody>\n",
              "</table>\n",
              "</div>"
            ],
            "text/plain": [
              "     Yıl_Ay      NET_TUTAR\n",
              "0   2020-01   60414.710000\n",
              "1   2020-02   62018.263000\n",
              "2   2020-03  161951.860000\n",
              "3   2020-04  113034.219500\n",
              "4   2020-05  134995.131000\n",
              "5   2020-06  222678.398000\n",
              "6   2020-07  272504.999000\n",
              "7   2020-08  188522.570403\n",
              "8   2020-09  310618.845928\n",
              "9   2020-10   59711.128800\n",
              "10  2020-11  182828.747750\n",
              "11  2020-12  143218.842000\n",
              "12  2021-01  214528.526780\n",
              "13  2021-02  198918.603500\n",
              "14  2021-03  285382.159375\n",
              "15  2021-04  169594.965125\n",
              "16  2021-05  233844.344375\n",
              "17  2021-06  246631.879810\n",
              "18  2021-07  472255.352350\n",
              "19  2021-08  288904.334925\n",
              "20  2021-09  764911.776300\n",
              "21  2021-10   11247.000050"
            ]
          },
          "metadata": {},
          "execution_count": 112
        }
      ]
    },
    {
      "cell_type": "markdown",
      "metadata": {
        "id": "XOESYKWV-ZTG"
      },
      "source": [
        "- Aylık toplam Satışları grafik üzerinde görelim"
      ]
    },
    {
      "cell_type": "code",
      "metadata": {
        "colab": {
          "base_uri": "https://localhost:8080/",
          "height": 500
        },
        "id": "3h5oyU_w9jzW",
        "outputId": "de350ff6-8a9e-4920-a666-64529485be08"
      },
      "source": [
        "plt.figure(figsize=(18,8))\n",
        "sns.lineplot(x='Yıl_Ay', y='NET_TUTAR', data=aylık);\n",
        "plt.show()"
      ],
      "execution_count": null,
      "outputs": [
        {
          "output_type": "display_data",
          "data": {
            "image/png": "[encoded data removed]",
            "text/plain": [
              "<Figure size 1296x576 with 1 Axes>"
            ]
          },
          "metadata": {
            "needs_background": "light"
          }
        }
      ]
    },
    {
      "cell_type": "markdown",
      "metadata": {
        "id": "2FEZluJq_Eno"
      },
      "source": [
        "- Grafikten gördüğümüz gibi **En çok satışların**, **2021 Yılında Ağustos ve Eylül Ayları arasında** olduğunu görüyoruz.\n",
        "\n",
        "- Aşağıda ki tablodan da bunu görebiliyoruz."
      ]
    },
    {
      "cell_type": "code",
      "metadata": {
        "colab": {
          "base_uri": "https://localhost:8080/",
          "height": 726
        },
        "id": "mCTIlZy1_a61",
        "outputId": "e6929f05-786e-4e27-b0ca-50dce8e3ea02"
      },
      "source": [
        "data.groupby('Yıl_Ay', as_index=False)['NET_TUTAR'].sum().sort_values('NET_TUTAR', ascending = False)"
      ],
      "execution_count": null,
      "outputs": [
        {
          "output_type": "execute_result",
          "data": {
            "text/html": [
              "<div>\n",
              "<style scoped>\n",
              "    .dataframe tbody tr th:only-of-type {\n",
              "        vertical-align: middle;\n",
              "    }\n",
              "\n",
              "    .dataframe tbody tr th {\n",
              "        vertical-align: top;\n",
              "    }\n",
              "\n",
              "    .dataframe thead th {\n",
              "        text-align: right;\n",
              "    }\n",
              "</style>\n",
              "<table border=\"1\" class=\"dataframe\">\n",
              "  <thead>\n",
              "    <tr style=\"text-align: right;\">\n",
              "      <th></th>\n",
              "      <th>Yıl_Ay</th>\n",
              "      <th>NET_TUTAR</th>\n",
              "    </tr>\n",
              "  </thead>\n",
              "  <tbody>\n",
              "    <tr>\n",
              "      <th>20</th>\n",
              "      <td>2021-09</td>\n",
              "      <td>764911.776300</td>\n",
              "    </tr>\n",
              "    <tr>\n",
              "      <th>18</th>\n",
              "      <td>2021-07</td>\n",
              "      <td>472255.352350</td>\n",
              "    </tr>\n",
              "    <tr>\n",
              "      <th>8</th>\n",
              "      <td>2020-09</td>\n",
              "      <td>310618.845928</td>\n",
              "    </tr>\n",
              "    <tr>\n",
              "      <th>19</th>\n",
              "      <td>2021-08</td>\n",
              "      <td>288904.334925</td>\n",
              "    </tr>\n",
              "    <tr>\n",
              "      <th>14</th>\n",
              "      <td>2021-03</td>\n",
              "      <td>285382.159375</td>\n",
              "    </tr>\n",
              "    <tr>\n",
              "      <th>6</th>\n",
              "      <td>2020-07</td>\n",
              "      <td>272504.999000</td>\n",
              "    </tr>\n",
              "    <tr>\n",
              "      <th>17</th>\n",
              "      <td>2021-06</td>\n",
              "      <td>246631.879810</td>\n",
              "    </tr>\n",
              "    <tr>\n",
              "      <th>16</th>\n",
              "      <td>2021-05</td>\n",
              "      <td>233844.344375</td>\n",
              "    </tr>\n",
              "    <tr>\n",
              "      <th>5</th>\n",
              "      <td>2020-06</td>\n",
              "      <td>222678.398000</td>\n",
              "    </tr>\n",
              "    <tr>\n",
              "      <th>12</th>\n",
              "      <td>2021-01</td>\n",
              "      <td>214528.526780</td>\n",
              "    </tr>\n",
              "    <tr>\n",
              "      <th>13</th>\n",
              "      <td>2021-02</td>\n",
              "      <td>198918.603500</td>\n",
              "    </tr>\n",
              "    <tr>\n",
              "      <th>7</th>\n",
              "      <td>2020-08</td>\n",
              "      <td>188522.570403</td>\n",
              "    </tr>\n",
              "    <tr>\n",
              "      <th>10</th>\n",
              "      <td>2020-11</td>\n",
              "      <td>182828.747750</td>\n",
              "    </tr>\n",
              "    <tr>\n",
              "      <th>15</th>\n",
              "      <td>2021-04</td>\n",
              "      <td>169594.965125</td>\n",
              "    </tr>\n",
              "    <tr>\n",
              "      <th>2</th>\n",
              "      <td>2020-03</td>\n",
              "      <td>161951.860000</td>\n",
              "    </tr>\n",
              "    <tr>\n",
              "      <th>11</th>\n",
              "      <td>2020-12</td>\n",
              "      <td>143218.842000</td>\n",
              "    </tr>\n",
              "    <tr>\n",
              "      <th>4</th>\n",
              "      <td>2020-05</td>\n",
              "      <td>134995.131000</td>\n",
              "    </tr>\n",
              "    <tr>\n",
              "      <th>3</th>\n",
              "      <td>2020-04</td>\n",
              "      <td>113034.219500</td>\n",
              "    </tr>\n",
              "    <tr>\n",
              "      <th>1</th>\n",
              "      <td>2020-02</td>\n",
              "      <td>62018.263000</td>\n",
              "    </tr>\n",
              "    <tr>\n",
              "      <th>0</th>\n",
              "      <td>2020-01</td>\n",
              "      <td>60414.710000</td>\n",
              "    </tr>\n",
              "    <tr>\n",
              "      <th>9</th>\n",
              "      <td>2020-10</td>\n",
              "      <td>59711.128800</td>\n",
              "    </tr>\n",
              "    <tr>\n",
              "      <th>21</th>\n",
              "      <td>2021-10</td>\n",
              "      <td>11247.000050</td>\n",
              "    </tr>\n",
              "  </tbody>\n",
              "</table>\n",
              "</div>"
            ],
            "text/plain": [
              "     Yıl_Ay      NET_TUTAR\n",
              "20  2021-09  764911.776300\n",
              "18  2021-07  472255.352350\n",
              "8   2020-09  310618.845928\n",
              "19  2021-08  288904.334925\n",
              "14  2021-03  285382.159375\n",
              "6   2020-07  272504.999000\n",
              "17  2021-06  246631.879810\n",
              "16  2021-05  233844.344375\n",
              "5   2020-06  222678.398000\n",
              "12  2021-01  214528.526780\n",
              "13  2021-02  198918.603500\n",
              "7   2020-08  188522.570403\n",
              "10  2020-11  182828.747750\n",
              "15  2021-04  169594.965125\n",
              "2   2020-03  161951.860000\n",
              "11  2020-12  143218.842000\n",
              "4   2020-05  134995.131000\n",
              "3   2020-04  113034.219500\n",
              "1   2020-02   62018.263000\n",
              "0   2020-01   60414.710000\n",
              "9   2020-10   59711.128800\n",
              "21  2021-10   11247.000050"
            ]
          },
          "metadata": {},
          "execution_count": 114
        }
      ]
    },
    {
      "cell_type": "markdown",
      "metadata": {
        "id": "4yxP_jHJBCDe"
      },
      "source": [
        "- En çok satışın olduğu dönemde hangi firmalar, ne kadar ürün almış onlara bakalım\n",
        "- İlk olarak **2021-09** olan aralıkları alıyoruz"
      ]
    },
    {
      "cell_type": "code",
      "metadata": {
        "colab": {
          "base_uri": "https://localhost:8080/",
          "height": 638
        },
        "id": "J0wdDcMGAjpS",
        "outputId": "00c62599-59f0-4fb6-ba02-1fcce30e9929"
      },
      "source": [
        "more_price = data[(data['Yıl'] == '2021') & (data['Ay'] == 'Eylül')] \n",
        "\n",
        "more_price"
      ],
      "execution_count": null,
      "outputs": [
        {
          "output_type": "execute_result",
          "data": {
            "text/html": [
              "<div>\n",
              "<style scoped>\n",
              "    .dataframe tbody tr th:only-of-type {\n",
              "        vertical-align: middle;\n",
              "    }\n",
              "\n",
              "    .dataframe tbody tr th {\n",
              "        vertical-align: top;\n",
              "    }\n",
              "\n",
              "    .dataframe thead th {\n",
              "        text-align: right;\n",
              "    }\n",
              "</style>\n",
              "<table border=\"1\" class=\"dataframe\">\n",
              "  <thead>\n",
              "    <tr style=\"text-align: right;\">\n",
              "      <th></th>\n",
              "      <th>CustomerCode</th>\n",
              "      <th>CustomerName</th>\n",
              "      <th>Date</th>\n",
              "      <th>DocumentNo</th>\n",
              "      <th>ProductCode</th>\n",
              "      <th>ProductName</th>\n",
              "      <th>Quantity</th>\n",
              "      <th>Unit</th>\n",
              "      <th>Price</th>\n",
              "      <th>Total</th>\n",
              "      <th>Discount1</th>\n",
              "      <th>Discount2</th>\n",
              "      <th>Discount3</th>\n",
              "      <th>NET_TUTAR</th>\n",
              "      <th>ISK_TOPLAM</th>\n",
              "      <th>GirisCikis</th>\n",
              "      <th>EvrakTip</th>\n",
              "      <th>Yıl</th>\n",
              "      <th>Ay</th>\n",
              "      <th>Yıl_Ay</th>\n",
              "    </tr>\n",
              "  </thead>\n",
              "  <tbody>\n",
              "    <tr>\n",
              "      <th>30</th>\n",
              "      <td>20601.0</td>\n",
              "      <td>Metsen Otom.San.Tic.Ltd.Şti.</td>\n",
              "      <td>2021-09-15</td>\n",
              "      <td>GOA97119</td>\n",
              "      <td>VDN112510</td>\n",
              "      <td>Komp Kapağı</td>\n",
              "      <td>5</td>\n",
              "      <td>ADET</td>\n",
              "      <td>500.0000</td>\n",
              "      <td>2500.0000</td>\n",
              "      <td>0</td>\n",
              "      <td>0</td>\n",
              "      <td>0</td>\n",
              "      <td>2500.0000</td>\n",
              "      <td>0</td>\n",
              "      <td>Çıkış</td>\n",
              "      <td>Çıkış Faturası</td>\n",
              "      <td>2021</td>\n",
              "      <td>Eylül</td>\n",
              "      <td>2021-09</td>\n",
              "    </tr>\n",
              "    <tr>\n",
              "      <th>39</th>\n",
              "      <td>20342.0</td>\n",
              "      <td>Aşkınlar Otom.Turz.San.Tic.Ltd.Şti.</td>\n",
              "      <td>2021-09-10</td>\n",
              "      <td>GOF115931</td>\n",
              "      <td>VDN112510</td>\n",
              "      <td>Komp Kapağı</td>\n",
              "      <td>1</td>\n",
              "      <td>ADET</td>\n",
              "      <td>521.7600</td>\n",
              "      <td>521.7600</td>\n",
              "      <td>0</td>\n",
              "      <td>0</td>\n",
              "      <td>0</td>\n",
              "      <td>521.7600</td>\n",
              "      <td>0</td>\n",
              "      <td>Çıkış</td>\n",
              "      <td>Çıkış Faturası</td>\n",
              "      <td>2021</td>\n",
              "      <td>Eylül</td>\n",
              "      <td>2021-09</td>\n",
              "    </tr>\n",
              "    <tr>\n",
              "      <th>41</th>\n",
              "      <td>20493.0</td>\n",
              "      <td>Tutanlar Otom.Tic.Ltd.Şti.</td>\n",
              "      <td>2021-09-16</td>\n",
              "      <td>GOF118908</td>\n",
              "      <td>VDN112510</td>\n",
              "      <td>Komp Kapağı</td>\n",
              "      <td>6</td>\n",
              "      <td>ADET</td>\n",
              "      <td>500.0000</td>\n",
              "      <td>3000.0000</td>\n",
              "      <td>0</td>\n",
              "      <td>0</td>\n",
              "      <td>0</td>\n",
              "      <td>3000.0000</td>\n",
              "      <td>0</td>\n",
              "      <td>Çıkış</td>\n",
              "      <td>Çıkış Faturası</td>\n",
              "      <td>2021</td>\n",
              "      <td>Eylül</td>\n",
              "      <td>2021-09</td>\n",
              "    </tr>\n",
              "    <tr>\n",
              "      <th>42</th>\n",
              "      <td>20225.0</td>\n",
              "      <td>Yavuz Mot.Araç.ve Oto Yed.Par.Turz.San.Tic.Ltd...</td>\n",
              "      <td>2021-09-15</td>\n",
              "      <td>GOA97015</td>\n",
              "      <td>VDN112510</td>\n",
              "      <td>Komp Kapağı</td>\n",
              "      <td>10</td>\n",
              "      <td>ADET</td>\n",
              "      <td>500.0000</td>\n",
              "      <td>5000.0000</td>\n",
              "      <td>0</td>\n",
              "      <td>0</td>\n",
              "      <td>0</td>\n",
              "      <td>5000.0000</td>\n",
              "      <td>0</td>\n",
              "      <td>Çıkış</td>\n",
              "      <td>Çıkış Faturası</td>\n",
              "      <td>2021</td>\n",
              "      <td>Eylül</td>\n",
              "      <td>2021-09</td>\n",
              "    </tr>\n",
              "    <tr>\n",
              "      <th>43</th>\n",
              "      <td>20584.0</td>\n",
              "      <td>Egem Mot.Araç.Turz.İnş.ve San.Tic.Ltd.Şti.</td>\n",
              "      <td>2021-09-08</td>\n",
              "      <td>GOF114009</td>\n",
              "      <td>VDN112510</td>\n",
              "      <td>Komp Kapağı</td>\n",
              "      <td>6</td>\n",
              "      <td>ADET</td>\n",
              "      <td>541.0680</td>\n",
              "      <td>3246.4080</td>\n",
              "      <td>0</td>\n",
              "      <td>0</td>\n",
              "      <td>0</td>\n",
              "      <td>3246.4080</td>\n",
              "      <td>0</td>\n",
              "      <td>Çıkış</td>\n",
              "      <td>Çıkış Faturası</td>\n",
              "      <td>2021</td>\n",
              "      <td>Eylül</td>\n",
              "      <td>2021-09</td>\n",
              "    </tr>\n",
              "    <tr>\n",
              "      <th>...</th>\n",
              "      <td>...</td>\n",
              "      <td>...</td>\n",
              "      <td>...</td>\n",
              "      <td>...</td>\n",
              "      <td>...</td>\n",
              "      <td>...</td>\n",
              "      <td>...</td>\n",
              "      <td>...</td>\n",
              "      <td>...</td>\n",
              "      <td>...</td>\n",
              "      <td>...</td>\n",
              "      <td>...</td>\n",
              "      <td>...</td>\n",
              "      <td>...</td>\n",
              "      <td>...</td>\n",
              "      <td>...</td>\n",
              "      <td>...</td>\n",
              "      <td>...</td>\n",
              "      <td>...</td>\n",
              "      <td>...</td>\n",
              "    </tr>\n",
              "    <tr>\n",
              "      <th>983</th>\n",
              "      <td>20969.0</td>\n",
              "      <td>Atanur Mercedes Otom.San.Tic.Ltd.Şti.</td>\n",
              "      <td>2021-09-15</td>\n",
              "      <td>GOF118505</td>\n",
              "      <td>VDN112510</td>\n",
              "      <td>Komp Kapağı</td>\n",
              "      <td>5</td>\n",
              "      <td>ADET</td>\n",
              "      <td>500.0000</td>\n",
              "      <td>2500.0000</td>\n",
              "      <td>0</td>\n",
              "      <td>0</td>\n",
              "      <td>0</td>\n",
              "      <td>2500.0000</td>\n",
              "      <td>0</td>\n",
              "      <td>Çıkış</td>\n",
              "      <td>Çıkış Faturası</td>\n",
              "      <td>2021</td>\n",
              "      <td>Eylül</td>\n",
              "      <td>2021-09</td>\n",
              "    </tr>\n",
              "    <tr>\n",
              "      <th>990</th>\n",
              "      <td>20095.0</td>\n",
              "      <td>Volkar Otom - Kamil Erek</td>\n",
              "      <td>2021-09-15</td>\n",
              "      <td>GOF118358</td>\n",
              "      <td>VDN112510</td>\n",
              "      <td>Komp Kapağı</td>\n",
              "      <td>15</td>\n",
              "      <td>ADET</td>\n",
              "      <td>500.0000</td>\n",
              "      <td>7500.0000</td>\n",
              "      <td>0</td>\n",
              "      <td>0</td>\n",
              "      <td>0</td>\n",
              "      <td>7500.0000</td>\n",
              "      <td>0</td>\n",
              "      <td>Çıkış</td>\n",
              "      <td>Çıkış Faturası</td>\n",
              "      <td>2021</td>\n",
              "      <td>Eylül</td>\n",
              "      <td>2021-09</td>\n",
              "    </tr>\n",
              "    <tr>\n",
              "      <th>991</th>\n",
              "      <td>20820.0</td>\n",
              "      <td>Sfc Otom - Fatih ve Cemile Coşkun</td>\n",
              "      <td>2021-09-15</td>\n",
              "      <td>GOA97313</td>\n",
              "      <td>VDN112510</td>\n",
              "      <td>Komp Kapağı</td>\n",
              "      <td>5</td>\n",
              "      <td>ADET</td>\n",
              "      <td>500.0000</td>\n",
              "      <td>2500.0000</td>\n",
              "      <td>0</td>\n",
              "      <td>0</td>\n",
              "      <td>0</td>\n",
              "      <td>2500.0000</td>\n",
              "      <td>0</td>\n",
              "      <td>Çıkış</td>\n",
              "      <td>Çıkış Faturası</td>\n",
              "      <td>2021</td>\n",
              "      <td>Eylül</td>\n",
              "      <td>2021-09</td>\n",
              "    </tr>\n",
              "    <tr>\n",
              "      <th>1001</th>\n",
              "      <td>20410.0</td>\n",
              "      <td>Fırat Makina Otom.Teks.Turz.İnş.San.ve Dış Tic...</td>\n",
              "      <td>2021-09-17</td>\n",
              "      <td>GOF119747</td>\n",
              "      <td>VDN112510</td>\n",
              "      <td>Komp Kapağı</td>\n",
              "      <td>34</td>\n",
              "      <td>ADET</td>\n",
              "      <td>500.0000</td>\n",
              "      <td>17000.0000</td>\n",
              "      <td>0</td>\n",
              "      <td>0</td>\n",
              "      <td>0</td>\n",
              "      <td>17000.0000</td>\n",
              "      <td>0</td>\n",
              "      <td>Çıkış</td>\n",
              "      <td>Çıkış Faturası</td>\n",
              "      <td>2021</td>\n",
              "      <td>Eylül</td>\n",
              "      <td>2021-09</td>\n",
              "    </tr>\n",
              "    <tr>\n",
              "      <th>1070</th>\n",
              "      <td>20656.0</td>\n",
              "      <td>Emr Yedek Parça Otom.San.Tic.Ltd.Şti.</td>\n",
              "      <td>2021-09-03</td>\n",
              "      <td>GOF111957</td>\n",
              "      <td>VDN112510</td>\n",
              "      <td>Komp Kapağı</td>\n",
              "      <td>3</td>\n",
              "      <td>ADET</td>\n",
              "      <td>539.4785</td>\n",
              "      <td>1618.4355</td>\n",
              "      <td>0</td>\n",
              "      <td>0</td>\n",
              "      <td>0</td>\n",
              "      <td>1618.4355</td>\n",
              "      <td>0</td>\n",
              "      <td>Çıkış</td>\n",
              "      <td>Çıkış Faturası</td>\n",
              "      <td>2021</td>\n",
              "      <td>Eylül</td>\n",
              "      <td>2021-09</td>\n",
              "    </tr>\n",
              "  </tbody>\n",
              "</table>\n",
              "<p>141 rows × 20 columns</p>\n",
              "</div>"
            ],
            "text/plain": [
              "      CustomerCode  ...   Yıl_Ay\n",
              "30         20601.0  ...  2021-09\n",
              "39         20342.0  ...  2021-09\n",
              "41         20493.0  ...  2021-09\n",
              "42         20225.0  ...  2021-09\n",
              "43         20584.0  ...  2021-09\n",
              "...            ...  ...      ...\n",
              "983        20969.0  ...  2021-09\n",
              "990        20095.0  ...  2021-09\n",
              "991        20820.0  ...  2021-09\n",
              "1001       20410.0  ...  2021-09\n",
              "1070       20656.0  ...  2021-09\n",
              "\n",
              "[141 rows x 20 columns]"
            ]
          },
          "metadata": {},
          "execution_count": 115
        }
      ]
    },
    {
      "cell_type": "markdown",
      "metadata": {
        "id": "7szLO2OnHGAr"
      },
      "source": [
        "- Sadece **2021-09** tarihleri arasındaki verileri aldığımız datamızdan **CustomerName, Quantity ve Toplam Ücret** değerlerini gruplandırdık."
      ]
    },
    {
      "cell_type": "code",
      "metadata": {
        "colab": {
          "base_uri": "https://localhost:8080/",
          "height": 417
        },
        "id": "oV9fVk9oGRFe",
        "outputId": "4912d82e-75eb-405f-b06c-37ae04f98b73"
      },
      "source": [
        "more_price.groupby(by = ['CustomerName', 'Quantity'], as_index = False)['NET_TUTAR'].sum().sort_values('NET_TUTAR', ascending = False)"
      ],
      "execution_count": null,
      "outputs": [
        {
          "output_type": "execute_result",
          "data": {
            "text/html": [
              "<div>\n",
              "<style scoped>\n",
              "    .dataframe tbody tr th:only-of-type {\n",
              "        vertical-align: middle;\n",
              "    }\n",
              "\n",
              "    .dataframe tbody tr th {\n",
              "        vertical-align: top;\n",
              "    }\n",
              "\n",
              "    .dataframe thead th {\n",
              "        text-align: right;\n",
              "    }\n",
              "</style>\n",
              "<table border=\"1\" class=\"dataframe\">\n",
              "  <thead>\n",
              "    <tr style=\"text-align: right;\">\n",
              "      <th></th>\n",
              "      <th>CustomerName</th>\n",
              "      <th>Quantity</th>\n",
              "      <th>NET_TUTAR</th>\n",
              "    </tr>\n",
              "  </thead>\n",
              "  <tbody>\n",
              "    <tr>\n",
              "      <th>112</th>\n",
              "      <td>YPS Global Otom.İç Dış Tic.A.Ş.</td>\n",
              "      <td>100</td>\n",
              "      <td>51436.15125</td>\n",
              "    </tr>\n",
              "    <tr>\n",
              "      <th>78</th>\n",
              "      <td>Nail Otom.San.Tic.Ltd.</td>\n",
              "      <td>100</td>\n",
              "      <td>50000.00000</td>\n",
              "    </tr>\n",
              "    <tr>\n",
              "      <th>85</th>\n",
              "      <td>Otokaraman Otom.Yedek Parça Tic.Ltd.Şti.</td>\n",
              "      <td>50</td>\n",
              "      <td>50000.00000</td>\n",
              "    </tr>\n",
              "    <tr>\n",
              "      <th>48</th>\n",
              "      <td>Fırat Makina Otom.Teks.Turz.İnş.San.ve Dış Tic...</td>\n",
              "      <td>80</td>\n",
              "      <td>39200.00000</td>\n",
              "    </tr>\n",
              "    <tr>\n",
              "      <th>111</th>\n",
              "      <td>YPS Global Otom.İç Dış Tic.A.Ş.</td>\n",
              "      <td>75</td>\n",
              "      <td>38025.76025</td>\n",
              "    </tr>\n",
              "    <tr>\n",
              "      <th>...</th>\n",
              "      <td>...</td>\n",
              "      <td>...</td>\n",
              "      <td>...</td>\n",
              "    </tr>\n",
              "    <tr>\n",
              "      <th>119</th>\n",
              "      <td>Yılmaz Otom.Tic - Muammer Yılmaz</td>\n",
              "      <td>1</td>\n",
              "      <td>542.76200</td>\n",
              "    </tr>\n",
              "    <tr>\n",
              "      <th>94</th>\n",
              "      <td>Teknik Benz Mercedes Ağır Vasıta Servisi-Hasan...</td>\n",
              "      <td>1</td>\n",
              "      <td>542.67950</td>\n",
              "    </tr>\n",
              "    <tr>\n",
              "      <th>89</th>\n",
              "      <td>Saylam End.Otom.Yedek Parça İnş.San.Tic.Ltd.Şti.</td>\n",
              "      <td>1</td>\n",
              "      <td>539.47850</td>\n",
              "    </tr>\n",
              "    <tr>\n",
              "      <th>8</th>\n",
              "      <td>Anadolu Otom - Efdal Yazıcılar</td>\n",
              "      <td>1</td>\n",
              "      <td>539.47300</td>\n",
              "    </tr>\n",
              "    <tr>\n",
              "      <th>22</th>\n",
              "      <td>Aşkınlar Otom.Turz.San.Tic.Ltd.Şti.</td>\n",
              "      <td>1</td>\n",
              "      <td>521.76000</td>\n",
              "    </tr>\n",
              "  </tbody>\n",
              "</table>\n",
              "<p>133 rows × 3 columns</p>\n",
              "</div>"
            ],
            "text/plain": [
              "                                          CustomerName  Quantity    NET_TUTAR\n",
              "112                    YPS Global Otom.İç Dış Tic.A.Ş.       100  51436.15125\n",
              "78                              Nail Otom.San.Tic.Ltd.       100  50000.00000\n",
              "85            Otokaraman Otom.Yedek Parça Tic.Ltd.Şti.        50  50000.00000\n",
              "48   Fırat Makina Otom.Teks.Turz.İnş.San.ve Dış Tic...        80  39200.00000\n",
              "111                    YPS Global Otom.İç Dış Tic.A.Ş.        75  38025.76025\n",
              "..                                                 ...       ...          ...\n",
              "119                   Yılmaz Otom.Tic - Muammer Yılmaz         1    542.76200\n",
              "94   Teknik Benz Mercedes Ağır Vasıta Servisi-Hasan...         1    542.67950\n",
              "89    Saylam End.Otom.Yedek Parça İnş.San.Tic.Ltd.Şti.         1    539.47850\n",
              "8                       Anadolu Otom - Efdal Yazıcılar         1    539.47300\n",
              "22                 Aşkınlar Otom.Turz.San.Tic.Ltd.Şti.         1    521.76000\n",
              "\n",
              "[133 rows x 3 columns]"
            ]
          },
          "metadata": {},
          "execution_count": 116
        }
      ]
    },
    {
      "cell_type": "markdown",
      "metadata": {
        "id": "msej0Tb4HxSG"
      },
      "source": [
        "- **En çok satışın yapıldığı zaman diliminde**, **En fazla Ürün sipariş veren ilk 30 firma** aşağıdaki gibidir."
      ]
    },
    {
      "cell_type": "code",
      "metadata": {
        "colab": {
          "base_uri": "https://localhost:8080/",
          "height": 973
        },
        "id": "4wqJeDusHvDW",
        "outputId": "51b5bfb3-4059-4dd5-9f7b-cfc02055ea53"
      },
      "source": [
        "more_price.groupby(by = ['CustomerName', 'Quantity'], as_index = False)['NET_TUTAR'].sum().sort_values('NET_TUTAR', ascending = False).head(30)"
      ],
      "execution_count": null,
      "outputs": [
        {
          "output_type": "execute_result",
          "data": {
            "text/html": [
              "<div>\n",
              "<style scoped>\n",
              "    .dataframe tbody tr th:only-of-type {\n",
              "        vertical-align: middle;\n",
              "    }\n",
              "\n",
              "    .dataframe tbody tr th {\n",
              "        vertical-align: top;\n",
              "    }\n",
              "\n",
              "    .dataframe thead th {\n",
              "        text-align: right;\n",
              "    }\n",
              "</style>\n",
              "<table border=\"1\" class=\"dataframe\">\n",
              "  <thead>\n",
              "    <tr style=\"text-align: right;\">\n",
              "      <th></th>\n",
              "      <th>CustomerName</th>\n",
              "      <th>Quantity</th>\n",
              "      <th>NET_TUTAR</th>\n",
              "    </tr>\n",
              "  </thead>\n",
              "  <tbody>\n",
              "    <tr>\n",
              "      <th>112</th>\n",
              "      <td>YPS Global Otom.İç Dış Tic.A.Ş.</td>\n",
              "      <td>100</td>\n",
              "      <td>51436.15125</td>\n",
              "    </tr>\n",
              "    <tr>\n",
              "      <th>78</th>\n",
              "      <td>Nail Otom.San.Tic.Ltd.</td>\n",
              "      <td>100</td>\n",
              "      <td>50000.00000</td>\n",
              "    </tr>\n",
              "    <tr>\n",
              "      <th>85</th>\n",
              "      <td>Otokaraman Otom.Yedek Parça Tic.Ltd.Şti.</td>\n",
              "      <td>50</td>\n",
              "      <td>50000.00000</td>\n",
              "    </tr>\n",
              "    <tr>\n",
              "      <th>48</th>\n",
              "      <td>Fırat Makina Otom.Teks.Turz.İnş.San.ve Dış Tic...</td>\n",
              "      <td>80</td>\n",
              "      <td>39200.00000</td>\n",
              "    </tr>\n",
              "    <tr>\n",
              "      <th>111</th>\n",
              "      <td>YPS Global Otom.İç Dış Tic.A.Ş.</td>\n",
              "      <td>75</td>\n",
              "      <td>38025.76025</td>\n",
              "    </tr>\n",
              "    <tr>\n",
              "      <th>110</th>\n",
              "      <td>YPS Global Otom.İç Dış Tic.A.Ş.</td>\n",
              "      <td>50</td>\n",
              "      <td>25098.92225</td>\n",
              "    </tr>\n",
              "    <tr>\n",
              "      <th>5</th>\n",
              "      <td>Acarlar Yedek Parça Otom.San.Tic.Ltd.Şti.</td>\n",
              "      <td>50</td>\n",
              "      <td>25000.00000</td>\n",
              "    </tr>\n",
              "    <tr>\n",
              "      <th>0</th>\n",
              "      <td>3Y Otom.San.Tic.Ltd.Şti.</td>\n",
              "      <td>20</td>\n",
              "      <td>20283.32250</td>\n",
              "    </tr>\n",
              "    <tr>\n",
              "      <th>109</th>\n",
              "      <td>YPS Global Otom.İç Dış Tic.A.Ş.</td>\n",
              "      <td>35</td>\n",
              "      <td>17863.58150</td>\n",
              "    </tr>\n",
              "    <tr>\n",
              "      <th>47</th>\n",
              "      <td>Fırat Makina Otom.Teks.Turz.İnş.San.ve Dış Tic...</td>\n",
              "      <td>34</td>\n",
              "      <td>17000.00000</td>\n",
              "    </tr>\n",
              "    <tr>\n",
              "      <th>77</th>\n",
              "      <td>Mustafa İnanç Otom.Ser.Hiz.Akar.San.Tic.Ltd.Şti.</td>\n",
              "      <td>30</td>\n",
              "      <td>15000.00000</td>\n",
              "    </tr>\n",
              "    <tr>\n",
              "      <th>46</th>\n",
              "      <td>Fırat Makina Otom.Teks.Turz.İnş.San.ve Dış Tic...</td>\n",
              "      <td>26</td>\n",
              "      <td>13000.00000</td>\n",
              "    </tr>\n",
              "    <tr>\n",
              "      <th>79</th>\n",
              "      <td>Ofm Otom.San.Tic.Ltd.Şti.</td>\n",
              "      <td>25</td>\n",
              "      <td>12500.00000</td>\n",
              "    </tr>\n",
              "    <tr>\n",
              "      <th>108</th>\n",
              "      <td>YPS Global Otom.İç Dış Tic.A.Ş.</td>\n",
              "      <td>20</td>\n",
              "      <td>10342.88750</td>\n",
              "    </tr>\n",
              "    <tr>\n",
              "      <th>38</th>\n",
              "      <td>Empa Grup Otom.Oto Yed.Par.Tic.San.Ltd.Şti.</td>\n",
              "      <td>10</td>\n",
              "      <td>10241.82450</td>\n",
              "    </tr>\n",
              "    <tr>\n",
              "      <th>11</th>\n",
              "      <td>Ankara Grup Tic.Araç.Yedek Parça San.Tic.Ltd.Şti.</td>\n",
              "      <td>20</td>\n",
              "      <td>10000.00000</td>\n",
              "    </tr>\n",
              "    <tr>\n",
              "      <th>16</th>\n",
              "      <td>Atakul Dizel Otom.San.Tic.A.Ş.</td>\n",
              "      <td>20</td>\n",
              "      <td>10000.00000</td>\n",
              "    </tr>\n",
              "    <tr>\n",
              "      <th>126</th>\n",
              "      <td>Özaslan Motorlu Araçlar İç ve Dış Tic.A.Ş.</td>\n",
              "      <td>20</td>\n",
              "      <td>10000.00000</td>\n",
              "    </tr>\n",
              "    <tr>\n",
              "      <th>88</th>\n",
              "      <td>Rova Grup Mot.Araç.Otom.İnş.San.Tic.Ltd.Şti.</td>\n",
              "      <td>20</td>\n",
              "      <td>10000.00000</td>\n",
              "    </tr>\n",
              "    <tr>\n",
              "      <th>35</th>\n",
              "      <td>Egem Mot.Araç.Turz.İnş.ve San.Tic.Ltd.Şti.</td>\n",
              "      <td>15</td>\n",
              "      <td>7500.00000</td>\n",
              "    </tr>\n",
              "    <tr>\n",
              "      <th>33</th>\n",
              "      <td>Dündar Makina San.Tic.Ltd.Şti.</td>\n",
              "      <td>15</td>\n",
              "      <td>7500.00000</td>\n",
              "    </tr>\n",
              "    <tr>\n",
              "      <th>107</th>\n",
              "      <td>Volkar Otom - Kamil Erek</td>\n",
              "      <td>15</td>\n",
              "      <td>7500.00000</td>\n",
              "    </tr>\n",
              "    <tr>\n",
              "      <th>29</th>\n",
              "      <td>Demirci Mot.Araç.San.Tic.Ltd.Şti.</td>\n",
              "      <td>15</td>\n",
              "      <td>7500.00000</td>\n",
              "    </tr>\n",
              "    <tr>\n",
              "      <th>7</th>\n",
              "      <td>Alemdar End.Mak.Otom.San.Tic.Ltd.Şti.</td>\n",
              "      <td>5</td>\n",
              "      <td>5213.81000</td>\n",
              "    </tr>\n",
              "    <tr>\n",
              "      <th>96</th>\n",
              "      <td>Teknik Oto Dizel - Necmi Azak</td>\n",
              "      <td>10</td>\n",
              "      <td>5208.01875</td>\n",
              "    </tr>\n",
              "    <tr>\n",
              "      <th>61</th>\n",
              "      <td>Köksan Mot.Araç.Servis - Rahmi Köksaldı</td>\n",
              "      <td>10</td>\n",
              "      <td>5207.13050</td>\n",
              "    </tr>\n",
              "    <tr>\n",
              "      <th>65</th>\n",
              "      <td>LKN Oto Yedek Parça İmal.Paz.Turz.İnş.A.Ş.</td>\n",
              "      <td>10</td>\n",
              "      <td>5155.45525</td>\n",
              "    </tr>\n",
              "    <tr>\n",
              "      <th>102</th>\n",
              "      <td>Umut Oto Yedek Parça - Nihat Güzel Kırmızıer</td>\n",
              "      <td>10</td>\n",
              "      <td>5000.00000</td>\n",
              "    </tr>\n",
              "    <tr>\n",
              "      <th>4</th>\n",
              "      <td>Acarlar Yedek Parça Otom.San.Tic.Ltd.Şti.</td>\n",
              "      <td>10</td>\n",
              "      <td>5000.00000</td>\n",
              "    </tr>\n",
              "    <tr>\n",
              "      <th>130</th>\n",
              "      <td>Öztekin Oto Yedek Parça San.Tic.Ltd.Şti.</td>\n",
              "      <td>10</td>\n",
              "      <td>5000.00000</td>\n",
              "    </tr>\n",
              "  </tbody>\n",
              "</table>\n",
              "</div>"
            ],
            "text/plain": [
              "                                          CustomerName  Quantity    NET_TUTAR\n",
              "112                    YPS Global Otom.İç Dış Tic.A.Ş.       100  51436.15125\n",
              "78                              Nail Otom.San.Tic.Ltd.       100  50000.00000\n",
              "85            Otokaraman Otom.Yedek Parça Tic.Ltd.Şti.        50  50000.00000\n",
              "48   Fırat Makina Otom.Teks.Turz.İnş.San.ve Dış Tic...        80  39200.00000\n",
              "111                    YPS Global Otom.İç Dış Tic.A.Ş.        75  38025.76025\n",
              "110                    YPS Global Otom.İç Dış Tic.A.Ş.        50  25098.92225\n",
              "5            Acarlar Yedek Parça Otom.San.Tic.Ltd.Şti.        50  25000.00000\n",
              "0                             3Y Otom.San.Tic.Ltd.Şti.        20  20283.32250\n",
              "109                    YPS Global Otom.İç Dış Tic.A.Ş.        35  17863.58150\n",
              "47   Fırat Makina Otom.Teks.Turz.İnş.San.ve Dış Tic...        34  17000.00000\n",
              "77    Mustafa İnanç Otom.Ser.Hiz.Akar.San.Tic.Ltd.Şti.        30  15000.00000\n",
              "46   Fırat Makina Otom.Teks.Turz.İnş.San.ve Dış Tic...        26  13000.00000\n",
              "79                           Ofm Otom.San.Tic.Ltd.Şti.        25  12500.00000\n",
              "108                    YPS Global Otom.İç Dış Tic.A.Ş.        20  10342.88750\n",
              "38         Empa Grup Otom.Oto Yed.Par.Tic.San.Ltd.Şti.        10  10241.82450\n",
              "11   Ankara Grup Tic.Araç.Yedek Parça San.Tic.Ltd.Şti.        20  10000.00000\n",
              "16                      Atakul Dizel Otom.San.Tic.A.Ş.        20  10000.00000\n",
              "126         Özaslan Motorlu Araçlar İç ve Dış Tic.A.Ş.        20  10000.00000\n",
              "88        Rova Grup Mot.Araç.Otom.İnş.San.Tic.Ltd.Şti.        20  10000.00000\n",
              "35          Egem Mot.Araç.Turz.İnş.ve San.Tic.Ltd.Şti.        15   7500.00000\n",
              "33                      Dündar Makina San.Tic.Ltd.Şti.        15   7500.00000\n",
              "107                           Volkar Otom - Kamil Erek        15   7500.00000\n",
              "29                   Demirci Mot.Araç.San.Tic.Ltd.Şti.        15   7500.00000\n",
              "7                Alemdar End.Mak.Otom.San.Tic.Ltd.Şti.         5   5213.81000\n",
              "96                       Teknik Oto Dizel - Necmi Azak        10   5208.01875\n",
              "61             Köksan Mot.Araç.Servis - Rahmi Köksaldı        10   5207.13050\n",
              "65          LKN Oto Yedek Parça İmal.Paz.Turz.İnş.A.Ş.        10   5155.45525\n",
              "102       Umut Oto Yedek Parça - Nihat Güzel Kırmızıer        10   5000.00000\n",
              "4            Acarlar Yedek Parça Otom.San.Tic.Ltd.Şti.        10   5000.00000\n",
              "130           Öztekin Oto Yedek Parça San.Tic.Ltd.Şti.        10   5000.00000"
            ]
          },
          "metadata": {},
          "execution_count": 117
        }
      ]
    },
    {
      "cell_type": "markdown",
      "metadata": {
        "id": "ciUs-VgSISLs"
      },
      "source": [
        "- **En çok satışın yapıldığı zaman diliminde**, **En Az Ürün siparişi veren** ilk 30 firmalar da aşağıdaki gibidir."
      ]
    },
    {
      "cell_type": "code",
      "metadata": {
        "colab": {
          "base_uri": "https://localhost:8080/",
          "height": 973
        },
        "id": "f7nzLwGphwN1",
        "outputId": "922e4fde-98b9-42ff-f7fc-95f21d472e4e"
      },
      "source": [
        "more_price.groupby(by=['CustomerName', 'Quantity'], as_index=False)['NET_TUTAR'].sum().sort_values('NET_TUTAR').head(30)"
      ],
      "execution_count": null,
      "outputs": [
        {
          "output_type": "execute_result",
          "data": {
            "text/html": [
              "<div>\n",
              "<style scoped>\n",
              "    .dataframe tbody tr th:only-of-type {\n",
              "        vertical-align: middle;\n",
              "    }\n",
              "\n",
              "    .dataframe tbody tr th {\n",
              "        vertical-align: top;\n",
              "    }\n",
              "\n",
              "    .dataframe thead th {\n",
              "        text-align: right;\n",
              "    }\n",
              "</style>\n",
              "<table border=\"1\" class=\"dataframe\">\n",
              "  <thead>\n",
              "    <tr style=\"text-align: right;\">\n",
              "      <th></th>\n",
              "      <th>CustomerName</th>\n",
              "      <th>Quantity</th>\n",
              "      <th>NET_TUTAR</th>\n",
              "    </tr>\n",
              "  </thead>\n",
              "  <tbody>\n",
              "    <tr>\n",
              "      <th>22</th>\n",
              "      <td>Aşkınlar Otom.Turz.San.Tic.Ltd.Şti.</td>\n",
              "      <td>1</td>\n",
              "      <td>521.76000</td>\n",
              "    </tr>\n",
              "    <tr>\n",
              "      <th>8</th>\n",
              "      <td>Anadolu Otom - Efdal Yazıcılar</td>\n",
              "      <td>1</td>\n",
              "      <td>539.47300</td>\n",
              "    </tr>\n",
              "    <tr>\n",
              "      <th>89</th>\n",
              "      <td>Saylam End.Otom.Yedek Parça İnş.San.Tic.Ltd.Şti.</td>\n",
              "      <td>1</td>\n",
              "      <td>539.47850</td>\n",
              "    </tr>\n",
              "    <tr>\n",
              "      <th>94</th>\n",
              "      <td>Teknik Benz Mercedes Ağır Vasıta Servisi-Hasan...</td>\n",
              "      <td>1</td>\n",
              "      <td>542.67950</td>\n",
              "    </tr>\n",
              "    <tr>\n",
              "      <th>105</th>\n",
              "      <td>Voler Mot.Araç.Otom.Yed.San.Tic.Ltd.Şti.</td>\n",
              "      <td>1</td>\n",
              "      <td>542.76200</td>\n",
              "    </tr>\n",
              "    <tr>\n",
              "      <th>119</th>\n",
              "      <td>Yılmaz Otom.Tic - Muammer Yılmaz</td>\n",
              "      <td>1</td>\n",
              "      <td>542.76200</td>\n",
              "    </tr>\n",
              "    <tr>\n",
              "      <th>62</th>\n",
              "      <td>Kılınç Ticaret - Ramiz Kılınç</td>\n",
              "      <td>1</td>\n",
              "      <td>547.65150</td>\n",
              "    </tr>\n",
              "    <tr>\n",
              "      <th>106</th>\n",
              "      <td>Volkar Otom - Kamil Erek</td>\n",
              "      <td>1</td>\n",
              "      <td>548.11900</td>\n",
              "    </tr>\n",
              "    <tr>\n",
              "      <th>124</th>\n",
              "      <td>Öz Erkan Otom.İth.İhr.San.Tic.Ltd.Şti.</td>\n",
              "      <td>1</td>\n",
              "      <td>548.21250</td>\n",
              "    </tr>\n",
              "    <tr>\n",
              "      <th>55</th>\n",
              "      <td>Karaduman Grup Otom - Özer Karaduman</td>\n",
              "      <td>1</td>\n",
              "      <td>569.52500</td>\n",
              "    </tr>\n",
              "    <tr>\n",
              "      <th>121</th>\n",
              "      <td>Zeybek Mot.Araç - Selda Zeybek</td>\n",
              "      <td>1</td>\n",
              "      <td>569.52500</td>\n",
              "    </tr>\n",
              "    <tr>\n",
              "      <th>52</th>\n",
              "      <td>Gürmer Otom.Servis Hiz.Nak.San.Tic.Ltd.Şti.</td>\n",
              "      <td>1</td>\n",
              "      <td>570.19600</td>\n",
              "    </tr>\n",
              "    <tr>\n",
              "      <th>49</th>\n",
              "      <td>Genevaparts Otom.San.Tic.Ltd.Şti.</td>\n",
              "      <td>2</td>\n",
              "      <td>1000.00000</td>\n",
              "    </tr>\n",
              "    <tr>\n",
              "      <th>86</th>\n",
              "      <td>Pasific Diesel Yedek Parça İç Dış Tic.Ltd.Şti.</td>\n",
              "      <td>2</td>\n",
              "      <td>1056.52635</td>\n",
              "    </tr>\n",
              "    <tr>\n",
              "      <th>115</th>\n",
              "      <td>Yavuz Mot.Araç.ve Oto Yed.Par.Turz.San.Tic.Ltd...</td>\n",
              "      <td>2</td>\n",
              "      <td>1078.94600</td>\n",
              "    </tr>\n",
              "    <tr>\n",
              "      <th>9</th>\n",
              "      <td>Anadolu Otom - Efdal Yazıcılar</td>\n",
              "      <td>2</td>\n",
              "      <td>1078.94600</td>\n",
              "    </tr>\n",
              "    <tr>\n",
              "      <th>25</th>\n",
              "      <td>Bektaşoğlu Otom.San.Tic.Ltd.Şti.</td>\n",
              "      <td>2</td>\n",
              "      <td>1082.13600</td>\n",
              "    </tr>\n",
              "    <tr>\n",
              "      <th>63</th>\n",
              "      <td>Kılınç Ticaret - Ramiz Kılınç</td>\n",
              "      <td>2</td>\n",
              "      <td>1082.45500</td>\n",
              "    </tr>\n",
              "    <tr>\n",
              "      <th>43</th>\n",
              "      <td>Ertaş Otom.Tic.San.A.Ş.</td>\n",
              "      <td>1</td>\n",
              "      <td>1082.45750</td>\n",
              "    </tr>\n",
              "    <tr>\n",
              "      <th>92</th>\n",
              "      <td>Tekelmen Otom.San.Tic.Ltd.Şti.</td>\n",
              "      <td>2</td>\n",
              "      <td>1083.37240</td>\n",
              "    </tr>\n",
              "    <tr>\n",
              "      <th>27</th>\n",
              "      <td>Bç Çetin Otom.Servis Y.P.Haf.Nak.San.Tic.Ltd.Şti.</td>\n",
              "      <td>2</td>\n",
              "      <td>1095.30300</td>\n",
              "    </tr>\n",
              "    <tr>\n",
              "      <th>70</th>\n",
              "      <td>Mert Mer Otom.Yedek Parça San.İç Dış Tic.Ltd.Şti.</td>\n",
              "      <td>1</td>\n",
              "      <td>1095.77050</td>\n",
              "    </tr>\n",
              "    <tr>\n",
              "      <th>6</th>\n",
              "      <td>Ak Çavuşoğlu Motorlu Araçlar Y.P.İnş.San.Tic.L...</td>\n",
              "      <td>2</td>\n",
              "      <td>1096.42500</td>\n",
              "    </tr>\n",
              "    <tr>\n",
              "      <th>114</th>\n",
              "      <td>Yalçın Mot.Araç.Turz.İnş.İth.İhr.San.Tic.A.Ş.</td>\n",
              "      <td>2</td>\n",
              "      <td>1112.13300</td>\n",
              "    </tr>\n",
              "    <tr>\n",
              "      <th>53</th>\n",
              "      <td>Gürmer Otom.Servis Hiz.Nak.San.Tic.Ltd.Şti.</td>\n",
              "      <td>2</td>\n",
              "      <td>1118.15000</td>\n",
              "    </tr>\n",
              "    <tr>\n",
              "      <th>103</th>\n",
              "      <td>Umut Ticari Araç.ve Yedek Parça - İhsan Mazlum</td>\n",
              "      <td>2</td>\n",
              "      <td>1139.05000</td>\n",
              "    </tr>\n",
              "    <tr>\n",
              "      <th>39</th>\n",
              "      <td>Emr Yedek Parça Otom.San.Tic.Ltd.Şti.</td>\n",
              "      <td>2</td>\n",
              "      <td>1139.05000</td>\n",
              "    </tr>\n",
              "    <tr>\n",
              "      <th>132</th>\n",
              "      <td>Şener Otom.Nak.San.Tic.Ltd.Şti.</td>\n",
              "      <td>2</td>\n",
              "      <td>1140.83200</td>\n",
              "    </tr>\n",
              "    <tr>\n",
              "      <th>19</th>\n",
              "      <td>Aydınlar Oto Tamirhanesi - Aydoğan Yezer</td>\n",
              "      <td>2</td>\n",
              "      <td>1140.83200</td>\n",
              "    </tr>\n",
              "    <tr>\n",
              "      <th>60</th>\n",
              "      <td>Keskin Oto Yedek Parça - Ayşe Keskin</td>\n",
              "      <td>3</td>\n",
              "      <td>1500.00000</td>\n",
              "    </tr>\n",
              "  </tbody>\n",
              "</table>\n",
              "</div>"
            ],
            "text/plain": [
              "                                          CustomerName  Quantity   NET_TUTAR\n",
              "22                 Aşkınlar Otom.Turz.San.Tic.Ltd.Şti.         1   521.76000\n",
              "8                       Anadolu Otom - Efdal Yazıcılar         1   539.47300\n",
              "89    Saylam End.Otom.Yedek Parça İnş.San.Tic.Ltd.Şti.         1   539.47850\n",
              "94   Teknik Benz Mercedes Ağır Vasıta Servisi-Hasan...         1   542.67950\n",
              "105           Voler Mot.Araç.Otom.Yed.San.Tic.Ltd.Şti.         1   542.76200\n",
              "119                   Yılmaz Otom.Tic - Muammer Yılmaz         1   542.76200\n",
              "62                       Kılınç Ticaret - Ramiz Kılınç         1   547.65150\n",
              "106                           Volkar Otom - Kamil Erek         1   548.11900\n",
              "124             Öz Erkan Otom.İth.İhr.San.Tic.Ltd.Şti.         1   548.21250\n",
              "55                Karaduman Grup Otom - Özer Karaduman         1   569.52500\n",
              "121                     Zeybek Mot.Araç - Selda Zeybek         1   569.52500\n",
              "52         Gürmer Otom.Servis Hiz.Nak.San.Tic.Ltd.Şti.         1   570.19600\n",
              "49                   Genevaparts Otom.San.Tic.Ltd.Şti.         2  1000.00000\n",
              "86      Pasific Diesel Yedek Parça İç Dış Tic.Ltd.Şti.         2  1056.52635\n",
              "115  Yavuz Mot.Araç.ve Oto Yed.Par.Turz.San.Tic.Ltd...         2  1078.94600\n",
              "9                       Anadolu Otom - Efdal Yazıcılar         2  1078.94600\n",
              "25                    Bektaşoğlu Otom.San.Tic.Ltd.Şti.         2  1082.13600\n",
              "63                       Kılınç Ticaret - Ramiz Kılınç         2  1082.45500\n",
              "43                             Ertaş Otom.Tic.San.A.Ş.         1  1082.45750\n",
              "92                      Tekelmen Otom.San.Tic.Ltd.Şti.         2  1083.37240\n",
              "27   Bç Çetin Otom.Servis Y.P.Haf.Nak.San.Tic.Ltd.Şti.         2  1095.30300\n",
              "70   Mert Mer Otom.Yedek Parça San.İç Dış Tic.Ltd.Şti.         1  1095.77050\n",
              "6    Ak Çavuşoğlu Motorlu Araçlar Y.P.İnş.San.Tic.L...         2  1096.42500\n",
              "114      Yalçın Mot.Araç.Turz.İnş.İth.İhr.San.Tic.A.Ş.         2  1112.13300\n",
              "53         Gürmer Otom.Servis Hiz.Nak.San.Tic.Ltd.Şti.         2  1118.15000\n",
              "103     Umut Ticari Araç.ve Yedek Parça - İhsan Mazlum         2  1139.05000\n",
              "39               Emr Yedek Parça Otom.San.Tic.Ltd.Şti.         2  1139.05000\n",
              "132                    Şener Otom.Nak.San.Tic.Ltd.Şti.         2  1140.83200\n",
              "19            Aydınlar Oto Tamirhanesi - Aydoğan Yezer         2  1140.83200\n",
              "60                Keskin Oto Yedek Parça - Ayşe Keskin         3  1500.00000"
            ]
          },
          "metadata": {},
          "execution_count": 118
        }
      ]
    },
    {
      "cell_type": "markdown",
      "metadata": {
        "id": "WK2LSshXWGRc"
      },
      "source": [
        "# RFM Analizi \n"
      ]
    },
    {
      "cell_type": "markdown",
      "metadata": {
        "id": "kqducYWaocMH"
      },
      "source": [
        "- Müşteri Adına göre son yapılan alışveriş tarihlerini buluyoruz."
      ]
    },
    {
      "cell_type": "markdown",
      "metadata": {
        "id": "BNcyAgiJmvVd"
      },
      "source": [
        "## Recency : Yenilik\n",
        "\n",
        "- Müşterinin son satın almasından bugüne kadar geçen süre.Yani müşterinin en son ne zaman ürün satın aldığıdır. Onun üzerinden geçen süredir.\n",
        "\n"
      ]
    },
    {
      "cell_type": "code",
      "metadata": {
        "colab": {
          "base_uri": "https://localhost:8080/",
          "height": 234
        },
        "id": "YvCDiWErWKkT",
        "outputId": "dcf268d4-10df-432a-cc57-06ab6e409018"
      },
      "source": [
        "data.groupby('CustomerName').agg({'Date':'max'}).head()"
      ],
      "execution_count": null,
      "outputs": [
        {
          "output_type": "execute_result",
          "data": {
            "text/html": [
              "<div>\n",
              "<style scoped>\n",
              "    .dataframe tbody tr th:only-of-type {\n",
              "        vertical-align: middle;\n",
              "    }\n",
              "\n",
              "    .dataframe tbody tr th {\n",
              "        vertical-align: top;\n",
              "    }\n",
              "\n",
              "    .dataframe thead th {\n",
              "        text-align: right;\n",
              "    }\n",
              "</style>\n",
              "<table border=\"1\" class=\"dataframe\">\n",
              "  <thead>\n",
              "    <tr style=\"text-align: right;\">\n",
              "      <th></th>\n",
              "      <th>Date</th>\n",
              "    </tr>\n",
              "    <tr>\n",
              "      <th>CustomerName</th>\n",
              "      <th></th>\n",
              "    </tr>\n",
              "  </thead>\n",
              "  <tbody>\n",
              "    <tr>\n",
              "      <th>3A Parts Yedek Parça Otom.San.Tic.Ltd.Şti.</th>\n",
              "      <td>2021-07-16</td>\n",
              "    </tr>\n",
              "    <tr>\n",
              "      <th>3Y Otom.San.Tic.Ltd.Şti.</th>\n",
              "      <td>2021-10-06</td>\n",
              "    </tr>\n",
              "    <tr>\n",
              "      <th>Acarlar Gebze Yed.Par.Otom.San.Tic.Ltd.Şti.</th>\n",
              "      <td>2021-09-20</td>\n",
              "    </tr>\n",
              "    <tr>\n",
              "      <th>Acarlar Mersin Yed.Par.Mot.Taş.İth.İhr.ve Tic.Ltd.Şti.</th>\n",
              "      <td>2021-09-15</td>\n",
              "    </tr>\n",
              "    <tr>\n",
              "      <th>Acarlar Yedek Parça Otom.San.Tic.Ltd.Şti.</th>\n",
              "      <td>2021-09-15</td>\n",
              "    </tr>\n",
              "  </tbody>\n",
              "</table>\n",
              "</div>"
            ],
            "text/plain": [
              "                                                         Date\n",
              "CustomerName                                                 \n",
              "3A Parts Yedek Parça Otom.San.Tic.Ltd.Şti.         2021-07-16\n",
              "3Y Otom.San.Tic.Ltd.Şti.                           2021-10-06\n",
              "Acarlar Gebze Yed.Par.Otom.San.Tic.Ltd.Şti.        2021-09-20\n",
              "Acarlar Mersin Yed.Par.Mot.Taş.İth.İhr.ve Tic.L... 2021-09-15\n",
              "Acarlar Yedek Parça Otom.San.Tic.Ltd.Şti.          2021-09-15"
            ]
          },
          "metadata": {},
          "execution_count": 119
        }
      ]
    },
    {
      "cell_type": "code",
      "metadata": {
        "colab": {
          "base_uri": "https://localhost:8080/"
        },
        "id": "8fIpJjltj9hb",
        "outputId": "d8184ed4-1ca1-4670-bc45-af76422b2bf8"
      },
      "source": [
        "data['Date'].min(), data['Date'].max()"
      ],
      "execution_count": null,
      "outputs": [
        {
          "output_type": "execute_result",
          "data": {
            "text/plain": [
              "(Timestamp('2020-01-07 00:00:00'), Timestamp('2021-10-06 00:00:00'))"
            ]
          },
          "metadata": {},
          "execution_count": 120
        }
      ]
    },
    {
      "cell_type": "markdown",
      "metadata": {
        "id": "HcRfkhAcmZ32"
      },
      "source": [
        "- Bugünün Tarihini oluşturduk"
      ]
    },
    {
      "cell_type": "code",
      "metadata": {
        "colab": {
          "base_uri": "https://localhost:8080/"
        },
        "id": "hq4NGlkFkzxa",
        "outputId": "878bc1ec-5804-45bd-b807-6246f123c1ca"
      },
      "source": [
        "today_date = dt.datetime(2021,10,14)\n",
        "\n",
        "today_date"
      ],
      "execution_count": null,
      "outputs": [
        {
          "output_type": "execute_result",
          "data": {
            "text/plain": [
              "datetime.datetime(2021, 10, 14, 0, 0)"
            ]
          },
          "metadata": {},
          "execution_count": 121
        }
      ]
    },
    {
      "cell_type": "markdown",
      "metadata": {
        "id": "fWnFMha7me6-"
      },
      "source": [
        "- Recency değişkeni elde ettik.\n",
        "- Recency değişkeni en son ki sipraiş üzerinden kaç gün geçtiğini bize verir."
      ]
    },
    {
      "cell_type": "code",
      "metadata": {
        "colab": {
          "base_uri": "https://localhost:8080/",
          "height": 447
        },
        "id": "xO5Qknd9lRev",
        "outputId": "9ef13da3-4629-42eb-c719-d07435368ea0"
      },
      "source": [
        "recency = (today_date - data.groupby('CustomerName').agg({'Date':'max'}))\n",
        "\n",
        "recency.rename(columns = {'Date':'Recency'}, inplace=True)\n",
        "\n",
        "recency"
      ],
      "execution_count": null,
      "outputs": [
        {
          "output_type": "execute_result",
          "data": {
            "text/html": [
              "<div>\n",
              "<style scoped>\n",
              "    .dataframe tbody tr th:only-of-type {\n",
              "        vertical-align: middle;\n",
              "    }\n",
              "\n",
              "    .dataframe tbody tr th {\n",
              "        vertical-align: top;\n",
              "    }\n",
              "\n",
              "    .dataframe thead th {\n",
              "        text-align: right;\n",
              "    }\n",
              "</style>\n",
              "<table border=\"1\" class=\"dataframe\">\n",
              "  <thead>\n",
              "    <tr style=\"text-align: right;\">\n",
              "      <th></th>\n",
              "      <th>Recency</th>\n",
              "    </tr>\n",
              "    <tr>\n",
              "      <th>CustomerName</th>\n",
              "      <th></th>\n",
              "    </tr>\n",
              "  </thead>\n",
              "  <tbody>\n",
              "    <tr>\n",
              "      <th>3A Parts Yedek Parça Otom.San.Tic.Ltd.Şti.</th>\n",
              "      <td>90 days</td>\n",
              "    </tr>\n",
              "    <tr>\n",
              "      <th>3Y Otom.San.Tic.Ltd.Şti.</th>\n",
              "      <td>8 days</td>\n",
              "    </tr>\n",
              "    <tr>\n",
              "      <th>Acarlar Gebze Yed.Par.Otom.San.Tic.Ltd.Şti.</th>\n",
              "      <td>24 days</td>\n",
              "    </tr>\n",
              "    <tr>\n",
              "      <th>Acarlar Mersin Yed.Par.Mot.Taş.İth.İhr.ve Tic.Ltd.Şti.</th>\n",
              "      <td>29 days</td>\n",
              "    </tr>\n",
              "    <tr>\n",
              "      <th>Acarlar Yedek Parça Otom.San.Tic.Ltd.Şti.</th>\n",
              "      <td>29 days</td>\n",
              "    </tr>\n",
              "    <tr>\n",
              "      <th>...</th>\n",
              "      <td>...</td>\n",
              "    </tr>\n",
              "    <tr>\n",
              "      <th>İrem Otom - Beytullah Beşikçi</th>\n",
              "      <td>594 days</td>\n",
              "    </tr>\n",
              "    <tr>\n",
              "      <th>İşçioğlu Otom - Yusuf Seyfeddin İşçi</th>\n",
              "      <td>132 days</td>\n",
              "    </tr>\n",
              "    <tr>\n",
              "      <th>Şah Otom.Yedek Parça - Tuba Şahin</th>\n",
              "      <td>125 days</td>\n",
              "    </tr>\n",
              "    <tr>\n",
              "      <th>Şahmurat Ticaret - Faruk Kayıp</th>\n",
              "      <td>92 days</td>\n",
              "    </tr>\n",
              "    <tr>\n",
              "      <th>Şener Otom.Nak.San.Tic.Ltd.Şti.</th>\n",
              "      <td>17 days</td>\n",
              "    </tr>\n",
              "  </tbody>\n",
              "</table>\n",
              "<p>235 rows × 1 columns</p>\n",
              "</div>"
            ],
            "text/plain": [
              "                                                    Recency\n",
              "CustomerName                                               \n",
              "3A Parts Yedek Parça Otom.San.Tic.Ltd.Şti.          90 days\n",
              "3Y Otom.San.Tic.Ltd.Şti.                             8 days\n",
              "Acarlar Gebze Yed.Par.Otom.San.Tic.Ltd.Şti.         24 days\n",
              "Acarlar Mersin Yed.Par.Mot.Taş.İth.İhr.ve Tic.L...  29 days\n",
              "Acarlar Yedek Parça Otom.San.Tic.Ltd.Şti.           29 days\n",
              "...                                                     ...\n",
              "İrem Otom - Beytullah Beşikçi                      594 days\n",
              "İşçioğlu Otom - Yusuf Seyfeddin İşçi               132 days\n",
              "Şah Otom.Yedek Parça - Tuba Şahin                  125 days\n",
              "Şahmurat Ticaret - Faruk Kayıp                      92 days\n",
              "Şener Otom.Nak.San.Tic.Ltd.Şti.                     17 days\n",
              "\n",
              "[235 rows x 1 columns]"
            ]
          },
          "metadata": {},
          "execution_count": 122
        }
      ]
    },
    {
      "cell_type": "markdown",
      "metadata": {
        "id": "JGWlZ_G7BW6u"
      },
      "source": [
        "- Günlerin yanında ki **days** siliyoruz"
      ]
    },
    {
      "cell_type": "code",
      "metadata": {
        "colab": {
          "base_uri": "https://localhost:8080/"
        },
        "id": "MUlPcbrSBTkO",
        "outputId": "56fdfeb9-80d0-4931-8f4b-9775da2af85b"
      },
      "source": [
        "recency = recency['Recency'].apply(lambda x:x.days) \n",
        "\n",
        "recency "
      ],
      "execution_count": null,
      "outputs": [
        {
          "output_type": "execute_result",
          "data": {
            "text/plain": [
              "CustomerName\n",
              "3A Parts Yedek Parça Otom.San.Tic.Ltd.Şti.                 90\n",
              "3Y Otom.San.Tic.Ltd.Şti.                                    8\n",
              "Acarlar Gebze Yed.Par.Otom.San.Tic.Ltd.Şti.                24\n",
              "Acarlar Mersin Yed.Par.Mot.Taş.İth.İhr.ve Tic.Ltd.Şti.     29\n",
              "Acarlar Yedek Parça Otom.San.Tic.Ltd.Şti.                  29\n",
              "                                                         ... \n",
              "İrem Otom - Beytullah Beşikçi                             594\n",
              "İşçioğlu Otom - Yusuf Seyfeddin İşçi                      132\n",
              "Şah Otom.Yedek Parça - Tuba Şahin                         125\n",
              "Şahmurat Ticaret - Faruk Kayıp                             92\n",
              "Şener Otom.Nak.San.Tic.Ltd.Şti.                            17\n",
              "Name: Recency, Length: 235, dtype: int64"
            ]
          },
          "metadata": {},
          "execution_count": 123
        }
      ]
    },
    {
      "cell_type": "markdown",
      "metadata": {
        "id": "FwAL8mIHmy8K"
      },
      "source": [
        "## Frequency : Sıklık\n",
        "\n",
        "- Müşterinin toplam satın alma sayısıdır."
      ]
    },
    {
      "cell_type": "markdown",
      "metadata": {
        "id": "EXl-Yagyn7Tb"
      },
      "source": [
        "\n",
        "- Müşterilerin toplam Quantity değerlerini görelim.\n",
        "- Her müşteri kaç alışveriş yapmış toplamda bunu buluyoruz."
      ]
    },
    {
      "cell_type": "code",
      "metadata": {
        "colab": {
          "base_uri": "https://localhost:8080/",
          "height": 447
        },
        "id": "TbHKZ3wdm2NQ",
        "outputId": "cddb41eb-b0d6-4b38-be9c-f2d4d06c3cb9"
      },
      "source": [
        "data.groupby('CustomerName').agg({'Quantity':'count'}).sort_values('Quantity', ascending =False)"
      ],
      "execution_count": null,
      "outputs": [
        {
          "output_type": "execute_result",
          "data": {
            "text/html": [
              "<div>\n",
              "<style scoped>\n",
              "    .dataframe tbody tr th:only-of-type {\n",
              "        vertical-align: middle;\n",
              "    }\n",
              "\n",
              "    .dataframe tbody tr th {\n",
              "        vertical-align: top;\n",
              "    }\n",
              "\n",
              "    .dataframe thead th {\n",
              "        text-align: right;\n",
              "    }\n",
              "</style>\n",
              "<table border=\"1\" class=\"dataframe\">\n",
              "  <thead>\n",
              "    <tr style=\"text-align: right;\">\n",
              "      <th></th>\n",
              "      <th>Quantity</th>\n",
              "    </tr>\n",
              "    <tr>\n",
              "      <th>CustomerName</th>\n",
              "      <th></th>\n",
              "    </tr>\n",
              "  </thead>\n",
              "  <tbody>\n",
              "    <tr>\n",
              "      <th>YPS Global Otom.İç Dış Tic.A.Ş.</th>\n",
              "      <td>133</td>\n",
              "    </tr>\n",
              "    <tr>\n",
              "      <th>Emrah Otom.San.Tic.Ltd.Şti.</th>\n",
              "      <td>35</td>\n",
              "    </tr>\n",
              "    <tr>\n",
              "      <th>3Y Otom.San.Tic.Ltd.Şti.</th>\n",
              "      <td>29</td>\n",
              "    </tr>\n",
              "    <tr>\n",
              "      <th>Aktaş Otom.San.Tic.Ltd.Şti.</th>\n",
              "      <td>22</td>\n",
              "    </tr>\n",
              "    <tr>\n",
              "      <th>Anadolu Otom - Efdal Yazıcılar</th>\n",
              "      <td>20</td>\n",
              "    </tr>\n",
              "    <tr>\n",
              "      <th>...</th>\n",
              "      <td>...</td>\n",
              "    </tr>\n",
              "    <tr>\n",
              "      <th>Duman Mot.Araç - Mustafa Duman</th>\n",
              "      <td>1</td>\n",
              "    </tr>\n",
              "    <tr>\n",
              "      <th>Duse Otom.Dış Tic.San.Tic.Ltd.Şti.</th>\n",
              "      <td>1</td>\n",
              "    </tr>\n",
              "    <tr>\n",
              "      <th>Oto Dizel Servis - Uğurcan Sağlam</th>\n",
              "      <td>1</td>\n",
              "    </tr>\n",
              "    <tr>\n",
              "      <th>Oto Cantur Yedek Parça - İzzet Yılmaz</th>\n",
              "      <td>1</td>\n",
              "    </tr>\n",
              "    <tr>\n",
              "      <th>3A Parts Yedek Parça Otom.San.Tic.Ltd.Şti.</th>\n",
              "      <td>1</td>\n",
              "    </tr>\n",
              "  </tbody>\n",
              "</table>\n",
              "<p>235 rows × 1 columns</p>\n",
              "</div>"
            ],
            "text/plain": [
              "                                            Quantity\n",
              "CustomerName                                        \n",
              "YPS Global Otom.İç Dış Tic.A.Ş.                  133\n",
              "Emrah Otom.San.Tic.Ltd.Şti.                       35\n",
              "3Y Otom.San.Tic.Ltd.Şti.                          29\n",
              "Aktaş Otom.San.Tic.Ltd.Şti.                       22\n",
              "Anadolu Otom - Efdal Yazıcılar                    20\n",
              "...                                              ...\n",
              "Duman Mot.Araç - Mustafa Duman                     1\n",
              "Duse Otom.Dış Tic.San.Tic.Ltd.Şti.                 1\n",
              "Oto Dizel Servis - Uğurcan Sağlam                  1\n",
              "Oto Cantur Yedek Parça - İzzet Yılmaz              1\n",
              "3A Parts Yedek Parça Otom.San.Tic.Ltd.Şti.         1\n",
              "\n",
              "[235 rows x 1 columns]"
            ]
          },
          "metadata": {},
          "execution_count": 124
        }
      ]
    },
    {
      "cell_type": "code",
      "metadata": {
        "colab": {
          "base_uri": "https://localhost:8080/",
          "height": 447
        },
        "id": "bMG5EtT0oOxG",
        "outputId": "8c27ba50-9f1a-43dd-eac6-b7ce02782b75"
      },
      "source": [
        "freq = data.groupby('CustomerName').agg({'Quantity':'count'})\n",
        "\n",
        "freq.rename(columns = {'Quantity':'Frequency'}, inplace = True) #Quantity ismi ile Frequency ismini değiştirdik.\n",
        "\n",
        "freq"
      ],
      "execution_count": null,
      "outputs": [
        {
          "output_type": "execute_result",
          "data": {
            "text/html": [
              "<div>\n",
              "<style scoped>\n",
              "    .dataframe tbody tr th:only-of-type {\n",
              "        vertical-align: middle;\n",
              "    }\n",
              "\n",
              "    .dataframe tbody tr th {\n",
              "        vertical-align: top;\n",
              "    }\n",
              "\n",
              "    .dataframe thead th {\n",
              "        text-align: right;\n",
              "    }\n",
              "</style>\n",
              "<table border=\"1\" class=\"dataframe\">\n",
              "  <thead>\n",
              "    <tr style=\"text-align: right;\">\n",
              "      <th></th>\n",
              "      <th>Frequency</th>\n",
              "    </tr>\n",
              "    <tr>\n",
              "      <th>CustomerName</th>\n",
              "      <th></th>\n",
              "    </tr>\n",
              "  </thead>\n",
              "  <tbody>\n",
              "    <tr>\n",
              "      <th>3A Parts Yedek Parça Otom.San.Tic.Ltd.Şti.</th>\n",
              "      <td>1</td>\n",
              "    </tr>\n",
              "    <tr>\n",
              "      <th>3Y Otom.San.Tic.Ltd.Şti.</th>\n",
              "      <td>29</td>\n",
              "    </tr>\n",
              "    <tr>\n",
              "      <th>Acarlar Gebze Yed.Par.Otom.San.Tic.Ltd.Şti.</th>\n",
              "      <td>6</td>\n",
              "    </tr>\n",
              "    <tr>\n",
              "      <th>Acarlar Mersin Yed.Par.Mot.Taş.İth.İhr.ve Tic.Ltd.Şti.</th>\n",
              "      <td>1</td>\n",
              "    </tr>\n",
              "    <tr>\n",
              "      <th>Acarlar Yedek Parça Otom.San.Tic.Ltd.Şti.</th>\n",
              "      <td>11</td>\n",
              "    </tr>\n",
              "    <tr>\n",
              "      <th>...</th>\n",
              "      <td>...</td>\n",
              "    </tr>\n",
              "    <tr>\n",
              "      <th>İrem Otom - Beytullah Beşikçi</th>\n",
              "      <td>1</td>\n",
              "    </tr>\n",
              "    <tr>\n",
              "      <th>İşçioğlu Otom - Yusuf Seyfeddin İşçi</th>\n",
              "      <td>1</td>\n",
              "    </tr>\n",
              "    <tr>\n",
              "      <th>Şah Otom.Yedek Parça - Tuba Şahin</th>\n",
              "      <td>1</td>\n",
              "    </tr>\n",
              "    <tr>\n",
              "      <th>Şahmurat Ticaret - Faruk Kayıp</th>\n",
              "      <td>2</td>\n",
              "    </tr>\n",
              "    <tr>\n",
              "      <th>Şener Otom.Nak.San.Tic.Ltd.Şti.</th>\n",
              "      <td>3</td>\n",
              "    </tr>\n",
              "  </tbody>\n",
              "</table>\n",
              "<p>235 rows × 1 columns</p>\n",
              "</div>"
            ],
            "text/plain": [
              "                                                    Frequency\n",
              "CustomerName                                                 \n",
              "3A Parts Yedek Parça Otom.San.Tic.Ltd.Şti.                  1\n",
              "3Y Otom.San.Tic.Ltd.Şti.                                   29\n",
              "Acarlar Gebze Yed.Par.Otom.San.Tic.Ltd.Şti.                 6\n",
              "Acarlar Mersin Yed.Par.Mot.Taş.İth.İhr.ve Tic.L...          1\n",
              "Acarlar Yedek Parça Otom.San.Tic.Ltd.Şti.                  11\n",
              "...                                                       ...\n",
              "İrem Otom - Beytullah Beşikçi                               1\n",
              "İşçioğlu Otom - Yusuf Seyfeddin İşçi                        1\n",
              "Şah Otom.Yedek Parça - Tuba Şahin                           1\n",
              "Şahmurat Ticaret - Faruk Kayıp                              2\n",
              "Şener Otom.Nak.San.Tic.Ltd.Şti.                             3\n",
              "\n",
              "[235 rows x 1 columns]"
            ]
          },
          "metadata": {},
          "execution_count": 125
        }
      ]
    },
    {
      "cell_type": "markdown",
      "metadata": {
        "id": "HvISZbL-okC5"
      },
      "source": [
        "## Monetary : Parasallık\n",
        "\n",
        "- Müşterinin yaptığı **Toplam Harcamadır**.\n",
        "- Müşteriler toplam ne kadar ücret ödemiş onları buluyoruz."
      ]
    },
    {
      "cell_type": "code",
      "metadata": {
        "colab": {
          "base_uri": "https://localhost:8080/",
          "height": 447
        },
        "id": "MgjcF4Qlott8",
        "outputId": "32e4258c-9df9-475a-d56f-e081fa388bf0"
      },
      "source": [
        "mone = data.groupby('CustomerName').agg({'NET_TUTAR':'sum'})\n",
        "\n",
        "mone.rename(columns = {'NET_TUTAR':'Monetary'}, inplace = True) #Net_Tutar ismi ile Monetary ismini değiştirdik.\n",
        "\n",
        "mone  "
      ],
      "execution_count": null,
      "outputs": [
        {
          "output_type": "execute_result",
          "data": {
            "text/html": [
              "<div>\n",
              "<style scoped>\n",
              "    .dataframe tbody tr th:only-of-type {\n",
              "        vertical-align: middle;\n",
              "    }\n",
              "\n",
              "    .dataframe tbody tr th {\n",
              "        vertical-align: top;\n",
              "    }\n",
              "\n",
              "    .dataframe thead th {\n",
              "        text-align: right;\n",
              "    }\n",
              "</style>\n",
              "<table border=\"1\" class=\"dataframe\">\n",
              "  <thead>\n",
              "    <tr style=\"text-align: right;\">\n",
              "      <th></th>\n",
              "      <th>Monetary</th>\n",
              "    </tr>\n",
              "    <tr>\n",
              "      <th>CustomerName</th>\n",
              "      <th></th>\n",
              "    </tr>\n",
              "  </thead>\n",
              "  <tbody>\n",
              "    <tr>\n",
              "      <th>3A Parts Yedek Parça Otom.San.Tic.Ltd.Şti.</th>\n",
              "      <td>559.586500</td>\n",
              "    </tr>\n",
              "    <tr>\n",
              "      <th>3Y Otom.San.Tic.Ltd.Şti.</th>\n",
              "      <td>167000.859500</td>\n",
              "    </tr>\n",
              "    <tr>\n",
              "      <th>Acarlar Gebze Yed.Par.Otom.San.Tic.Ltd.Şti.</th>\n",
              "      <td>12651.723500</td>\n",
              "    </tr>\n",
              "    <tr>\n",
              "      <th>Acarlar Mersin Yed.Par.Mot.Taş.İth.İhr.ve Tic.Ltd.Şti.</th>\n",
              "      <td>5000.000000</td>\n",
              "    </tr>\n",
              "    <tr>\n",
              "      <th>Acarlar Yedek Parça Otom.San.Tic.Ltd.Şti.</th>\n",
              "      <td>67875.880875</td>\n",
              "    </tr>\n",
              "    <tr>\n",
              "      <th>...</th>\n",
              "      <td>...</td>\n",
              "    </tr>\n",
              "    <tr>\n",
              "      <th>İrem Otom - Beytullah Beşikçi</th>\n",
              "      <td>371.060000</td>\n",
              "    </tr>\n",
              "    <tr>\n",
              "      <th>İşçioğlu Otom - Yusuf Seyfeddin İşçi</th>\n",
              "      <td>579.040000</td>\n",
              "    </tr>\n",
              "    <tr>\n",
              "      <th>Şah Otom.Yedek Parça - Tuba Şahin</th>\n",
              "      <td>571.972500</td>\n",
              "    </tr>\n",
              "    <tr>\n",
              "      <th>Şahmurat Ticaret - Faruk Kayıp</th>\n",
              "      <td>2242.988000</td>\n",
              "    </tr>\n",
              "    <tr>\n",
              "      <th>Şener Otom.Nak.San.Tic.Ltd.Şti.</th>\n",
              "      <td>2900.594000</td>\n",
              "    </tr>\n",
              "  </tbody>\n",
              "</table>\n",
              "<p>235 rows × 1 columns</p>\n",
              "</div>"
            ],
            "text/plain": [
              "                                                         Monetary\n",
              "CustomerName                                                     \n",
              "3A Parts Yedek Parça Otom.San.Tic.Ltd.Şti.             559.586500\n",
              "3Y Otom.San.Tic.Ltd.Şti.                            167000.859500\n",
              "Acarlar Gebze Yed.Par.Otom.San.Tic.Ltd.Şti.          12651.723500\n",
              "Acarlar Mersin Yed.Par.Mot.Taş.İth.İhr.ve Tic.L...    5000.000000\n",
              "Acarlar Yedek Parça Otom.San.Tic.Ltd.Şti.            67875.880875\n",
              "...                                                           ...\n",
              "İrem Otom - Beytullah Beşikçi                          371.060000\n",
              "İşçioğlu Otom - Yusuf Seyfeddin İşçi                   579.040000\n",
              "Şah Otom.Yedek Parça - Tuba Şahin                      571.972500\n",
              "Şahmurat Ticaret - Faruk Kayıp                        2242.988000\n",
              "Şener Otom.Nak.San.Tic.Ltd.Şti.                       2900.594000\n",
              "\n",
              "[235 rows x 1 columns]"
            ]
          },
          "metadata": {},
          "execution_count": 126
        }
      ]
    },
    {
      "cell_type": "markdown",
      "metadata": {
        "id": "Q26Orm6jrgJC"
      },
      "source": [
        "## RFM"
      ]
    },
    {
      "cell_type": "markdown",
      "metadata": {
        "id": "WYHOtoi1rwsC"
      },
      "source": [
        "- **Recency, Frequency, Monetary datalarını** tek bir DataFrame de birleştiriyoruz.\n"
      ]
    },
    {
      "cell_type": "code",
      "metadata": {
        "colab": {
          "base_uri": "https://localhost:8080/",
          "height": 447
        },
        "id": "gIHlacCgrinx",
        "outputId": "313910ce-0e2b-4491-8aac-7622240a1c05"
      },
      "source": [
        "rfm = pd.concat([recency,freq,mone], axis = 1)\n",
        "\n",
        "rfm"
      ],
      "execution_count": null,
      "outputs": [
        {
          "output_type": "execute_result",
          "data": {
            "text/html": [
              "<div>\n",
              "<style scoped>\n",
              "    .dataframe tbody tr th:only-of-type {\n",
              "        vertical-align: middle;\n",
              "    }\n",
              "\n",
              "    .dataframe tbody tr th {\n",
              "        vertical-align: top;\n",
              "    }\n",
              "\n",
              "    .dataframe thead th {\n",
              "        text-align: right;\n",
              "    }\n",
              "</style>\n",
              "<table border=\"1\" class=\"dataframe\">\n",
              "  <thead>\n",
              "    <tr style=\"text-align: right;\">\n",
              "      <th></th>\n",
              "      <th>Recency</th>\n",
              "      <th>Frequency</th>\n",
              "      <th>Monetary</th>\n",
              "    </tr>\n",
              "    <tr>\n",
              "      <th>CustomerName</th>\n",
              "      <th></th>\n",
              "      <th></th>\n",
              "      <th></th>\n",
              "    </tr>\n",
              "  </thead>\n",
              "  <tbody>\n",
              "    <tr>\n",
              "      <th>3A Parts Yedek Parça Otom.San.Tic.Ltd.Şti.</th>\n",
              "      <td>90</td>\n",
              "      <td>1</td>\n",
              "      <td>559.586500</td>\n",
              "    </tr>\n",
              "    <tr>\n",
              "      <th>3Y Otom.San.Tic.Ltd.Şti.</th>\n",
              "      <td>8</td>\n",
              "      <td>29</td>\n",
              "      <td>167000.859500</td>\n",
              "    </tr>\n",
              "    <tr>\n",
              "      <th>Acarlar Gebze Yed.Par.Otom.San.Tic.Ltd.Şti.</th>\n",
              "      <td>24</td>\n",
              "      <td>6</td>\n",
              "      <td>12651.723500</td>\n",
              "    </tr>\n",
              "    <tr>\n",
              "      <th>Acarlar Mersin Yed.Par.Mot.Taş.İth.İhr.ve Tic.Ltd.Şti.</th>\n",
              "      <td>29</td>\n",
              "      <td>1</td>\n",
              "      <td>5000.000000</td>\n",
              "    </tr>\n",
              "    <tr>\n",
              "      <th>Acarlar Yedek Parça Otom.San.Tic.Ltd.Şti.</th>\n",
              "      <td>29</td>\n",
              "      <td>11</td>\n",
              "      <td>67875.880875</td>\n",
              "    </tr>\n",
              "    <tr>\n",
              "      <th>...</th>\n",
              "      <td>...</td>\n",
              "      <td>...</td>\n",
              "      <td>...</td>\n",
              "    </tr>\n",
              "    <tr>\n",
              "      <th>İrem Otom - Beytullah Beşikçi</th>\n",
              "      <td>594</td>\n",
              "      <td>1</td>\n",
              "      <td>371.060000</td>\n",
              "    </tr>\n",
              "    <tr>\n",
              "      <th>İşçioğlu Otom - Yusuf Seyfeddin İşçi</th>\n",
              "      <td>132</td>\n",
              "      <td>1</td>\n",
              "      <td>579.040000</td>\n",
              "    </tr>\n",
              "    <tr>\n",
              "      <th>Şah Otom.Yedek Parça - Tuba Şahin</th>\n",
              "      <td>125</td>\n",
              "      <td>1</td>\n",
              "      <td>571.972500</td>\n",
              "    </tr>\n",
              "    <tr>\n",
              "      <th>Şahmurat Ticaret - Faruk Kayıp</th>\n",
              "      <td>92</td>\n",
              "      <td>2</td>\n",
              "      <td>2242.988000</td>\n",
              "    </tr>\n",
              "    <tr>\n",
              "      <th>Şener Otom.Nak.San.Tic.Ltd.Şti.</th>\n",
              "      <td>17</td>\n",
              "      <td>3</td>\n",
              "      <td>2900.594000</td>\n",
              "    </tr>\n",
              "  </tbody>\n",
              "</table>\n",
              "<p>235 rows × 3 columns</p>\n",
              "</div>"
            ],
            "text/plain": [
              "                                                    Recency  ...       Monetary\n",
              "CustomerName                                                 ...               \n",
              "3A Parts Yedek Parça Otom.San.Tic.Ltd.Şti.               90  ...     559.586500\n",
              "3Y Otom.San.Tic.Ltd.Şti.                                  8  ...  167000.859500\n",
              "Acarlar Gebze Yed.Par.Otom.San.Tic.Ltd.Şti.              24  ...   12651.723500\n",
              "Acarlar Mersin Yed.Par.Mot.Taş.İth.İhr.ve Tic.L...       29  ...    5000.000000\n",
              "Acarlar Yedek Parça Otom.San.Tic.Ltd.Şti.                29  ...   67875.880875\n",
              "...                                                     ...  ...            ...\n",
              "İrem Otom - Beytullah Beşikçi                           594  ...     371.060000\n",
              "İşçioğlu Otom - Yusuf Seyfeddin İşçi                    132  ...     579.040000\n",
              "Şah Otom.Yedek Parça - Tuba Şahin                       125  ...     571.972500\n",
              "Şahmurat Ticaret - Faruk Kayıp                           92  ...    2242.988000\n",
              "Şener Otom.Nak.San.Tic.Ltd.Şti.                          17  ...    2900.594000\n",
              "\n",
              "[235 rows x 3 columns]"
            ]
          },
          "metadata": {},
          "execution_count": 127
        }
      ]
    },
    {
      "cell_type": "markdown",
      "metadata": {
        "id": "-OomhTUdZEnj"
      },
      "source": [
        "- **Recency , Monetary ,Frequency** değerlerini bulduktan sonra bu değerlere 1 ile 5 arasında değerler vererek müşterileri değerlendirerek segmentlere ayıracağız.\n",
        "- Bu değerlerden **5 = Çok İyi, 1 = Çok Kötü** anlamına gelmektedir."
      ]
    },
    {
      "cell_type": "markdown",
      "metadata": {
        "id": "SIWQV6PXYy8o"
      },
      "source": [
        "## Receny Score \n",
        "\n",
        "- **Recency Score** elde ediyoruz.\n",
        "\n",
        "- Receny Skor bulurken dikkat etmemiz gereken husus **Skorlamanın Tersten** yapılmasıdır. Bunun nedeni ; Recency değeri en son ne zaman alışveriş yaptığımızın değeriydi. En son alışveriş yaptığımız zamanın 1 gün önce olduğunu farz edelim. Diğer müşterinin ise en son 120 gün önce alışveriş yaptı diyelim.\n",
        "   - Biz 1 gün önce alışveriş yaptığımız için **Recency Skor**'umuz **5** olacaktır.\n",
        "   - Diğer Müşteri ise 120 gün önce alışveriş yaptığı için **Recency Skor**'u **1** olacaktır. \n",
        "   - Kısacası ; **Recency Skoru için bugünün tarihine olan yakın zamanda yapılan alışverişler daha iyi bir skora sahip olacaktır.**"
      ]
    },
    {
      "cell_type": "code",
      "metadata": {
        "colab": {
          "base_uri": "https://localhost:8080/",
          "height": 447
        },
        "id": "rxact8kCsATt",
        "outputId": "6b0e2325-d7c4-4612-f0a5-3019a0763c10"
      },
      "source": [
        "rfm['RecencyScore'] = pd.qcut(rfm['Recency'].rank(method = 'first'),5,labels = [5,4,3,2,1])\n",
        "\n",
        "rfm"
      ],
      "execution_count": null,
      "outputs": [
        {
          "output_type": "execute_result",
          "data": {
            "text/html": [
              "<div>\n",
              "<style scoped>\n",
              "    .dataframe tbody tr th:only-of-type {\n",
              "        vertical-align: middle;\n",
              "    }\n",
              "\n",
              "    .dataframe tbody tr th {\n",
              "        vertical-align: top;\n",
              "    }\n",
              "\n",
              "    .dataframe thead th {\n",
              "        text-align: right;\n",
              "    }\n",
              "</style>\n",
              "<table border=\"1\" class=\"dataframe\">\n",
              "  <thead>\n",
              "    <tr style=\"text-align: right;\">\n",
              "      <th></th>\n",
              "      <th>Recency</th>\n",
              "      <th>Frequency</th>\n",
              "      <th>Monetary</th>\n",
              "      <th>RecencyScore</th>\n",
              "    </tr>\n",
              "    <tr>\n",
              "      <th>CustomerName</th>\n",
              "      <th></th>\n",
              "      <th></th>\n",
              "      <th></th>\n",
              "      <th></th>\n",
              "    </tr>\n",
              "  </thead>\n",
              "  <tbody>\n",
              "    <tr>\n",
              "      <th>3A Parts Yedek Parça Otom.San.Tic.Ltd.Şti.</th>\n",
              "      <td>90</td>\n",
              "      <td>1</td>\n",
              "      <td>559.586500</td>\n",
              "      <td>3</td>\n",
              "    </tr>\n",
              "    <tr>\n",
              "      <th>3Y Otom.San.Tic.Ltd.Şti.</th>\n",
              "      <td>8</td>\n",
              "      <td>29</td>\n",
              "      <td>167000.859500</td>\n",
              "      <td>5</td>\n",
              "    </tr>\n",
              "    <tr>\n",
              "      <th>Acarlar Gebze Yed.Par.Otom.San.Tic.Ltd.Şti.</th>\n",
              "      <td>24</td>\n",
              "      <td>6</td>\n",
              "      <td>12651.723500</td>\n",
              "      <td>5</td>\n",
              "    </tr>\n",
              "    <tr>\n",
              "      <th>Acarlar Mersin Yed.Par.Mot.Taş.İth.İhr.ve Tic.Ltd.Şti.</th>\n",
              "      <td>29</td>\n",
              "      <td>1</td>\n",
              "      <td>5000.000000</td>\n",
              "      <td>5</td>\n",
              "    </tr>\n",
              "    <tr>\n",
              "      <th>Acarlar Yedek Parça Otom.San.Tic.Ltd.Şti.</th>\n",
              "      <td>29</td>\n",
              "      <td>11</td>\n",
              "      <td>67875.880875</td>\n",
              "      <td>5</td>\n",
              "    </tr>\n",
              "    <tr>\n",
              "      <th>...</th>\n",
              "      <td>...</td>\n",
              "      <td>...</td>\n",
              "      <td>...</td>\n",
              "      <td>...</td>\n",
              "    </tr>\n",
              "    <tr>\n",
              "      <th>İrem Otom - Beytullah Beşikçi</th>\n",
              "      <td>594</td>\n",
              "      <td>1</td>\n",
              "      <td>371.060000</td>\n",
              "      <td>1</td>\n",
              "    </tr>\n",
              "    <tr>\n",
              "      <th>İşçioğlu Otom - Yusuf Seyfeddin İşçi</th>\n",
              "      <td>132</td>\n",
              "      <td>1</td>\n",
              "      <td>579.040000</td>\n",
              "      <td>2</td>\n",
              "    </tr>\n",
              "    <tr>\n",
              "      <th>Şah Otom.Yedek Parça - Tuba Şahin</th>\n",
              "      <td>125</td>\n",
              "      <td>1</td>\n",
              "      <td>571.972500</td>\n",
              "      <td>2</td>\n",
              "    </tr>\n",
              "    <tr>\n",
              "      <th>Şahmurat Ticaret - Faruk Kayıp</th>\n",
              "      <td>92</td>\n",
              "      <td>2</td>\n",
              "      <td>2242.988000</td>\n",
              "      <td>3</td>\n",
              "    </tr>\n",
              "    <tr>\n",
              "      <th>Şener Otom.Nak.San.Tic.Ltd.Şti.</th>\n",
              "      <td>17</td>\n",
              "      <td>3</td>\n",
              "      <td>2900.594000</td>\n",
              "      <td>5</td>\n",
              "    </tr>\n",
              "  </tbody>\n",
              "</table>\n",
              "<p>235 rows × 4 columns</p>\n",
              "</div>"
            ],
            "text/plain": [
              "                                                    Recency  ...  RecencyScore\n",
              "CustomerName                                                 ...              \n",
              "3A Parts Yedek Parça Otom.San.Tic.Ltd.Şti.               90  ...             3\n",
              "3Y Otom.San.Tic.Ltd.Şti.                                  8  ...             5\n",
              "Acarlar Gebze Yed.Par.Otom.San.Tic.Ltd.Şti.              24  ...             5\n",
              "Acarlar Mersin Yed.Par.Mot.Taş.İth.İhr.ve Tic.L...       29  ...             5\n",
              "Acarlar Yedek Parça Otom.San.Tic.Ltd.Şti.                29  ...             5\n",
              "...                                                     ...  ...           ...\n",
              "İrem Otom - Beytullah Beşikçi                           594  ...             1\n",
              "İşçioğlu Otom - Yusuf Seyfeddin İşçi                    132  ...             2\n",
              "Şah Otom.Yedek Parça - Tuba Şahin                       125  ...             2\n",
              "Şahmurat Ticaret - Faruk Kayıp                           92  ...             3\n",
              "Şener Otom.Nak.San.Tic.Ltd.Şti.                          17  ...             5\n",
              "\n",
              "[235 rows x 4 columns]"
            ]
          },
          "metadata": {},
          "execution_count": 128
        }
      ]
    },
    {
      "cell_type": "markdown",
      "metadata": {
        "id": "goVDaT-RvPJk"
      },
      "source": [
        "## Frequency Score\n",
        "\n",
        "- **Frequency** için skor elde ediyoruz."
      ]
    },
    {
      "cell_type": "code",
      "metadata": {
        "colab": {
          "base_uri": "https://localhost:8080/",
          "height": 447
        },
        "id": "g8_dpF-Ns9-h",
        "outputId": "d0ed503b-f3cf-4596-dbe3-b5357613a7f5"
      },
      "source": [
        "rfm[\"FrequencyScore\"] = pd.qcut(rfm['Frequency'].rank(method = 'first'), 5, labels = [1,2,3,4,5])\n",
        "\n",
        "rfm"
      ],
      "execution_count": null,
      "outputs": [
        {
          "output_type": "execute_result",
          "data": {
            "text/html": [
              "<div>\n",
              "<style scoped>\n",
              "    .dataframe tbody tr th:only-of-type {\n",
              "        vertical-align: middle;\n",
              "    }\n",
              "\n",
              "    .dataframe tbody tr th {\n",
              "        vertical-align: top;\n",
              "    }\n",
              "\n",
              "    .dataframe thead th {\n",
              "        text-align: right;\n",
              "    }\n",
              "</style>\n",
              "<table border=\"1\" class=\"dataframe\">\n",
              "  <thead>\n",
              "    <tr style=\"text-align: right;\">\n",
              "      <th></th>\n",
              "      <th>Recency</th>\n",
              "      <th>Frequency</th>\n",
              "      <th>Monetary</th>\n",
              "      <th>RecencyScore</th>\n",
              "      <th>FrequencyScore</th>\n",
              "    </tr>\n",
              "    <tr>\n",
              "      <th>CustomerName</th>\n",
              "      <th></th>\n",
              "      <th></th>\n",
              "      <th></th>\n",
              "      <th></th>\n",
              "      <th></th>\n",
              "    </tr>\n",
              "  </thead>\n",
              "  <tbody>\n",
              "    <tr>\n",
              "      <th>3A Parts Yedek Parça Otom.San.Tic.Ltd.Şti.</th>\n",
              "      <td>90</td>\n",
              "      <td>1</td>\n",
              "      <td>559.586500</td>\n",
              "      <td>3</td>\n",
              "      <td>1</td>\n",
              "    </tr>\n",
              "    <tr>\n",
              "      <th>3Y Otom.San.Tic.Ltd.Şti.</th>\n",
              "      <td>8</td>\n",
              "      <td>29</td>\n",
              "      <td>167000.859500</td>\n",
              "      <td>5</td>\n",
              "      <td>5</td>\n",
              "    </tr>\n",
              "    <tr>\n",
              "      <th>Acarlar Gebze Yed.Par.Otom.San.Tic.Ltd.Şti.</th>\n",
              "      <td>24</td>\n",
              "      <td>6</td>\n",
              "      <td>12651.723500</td>\n",
              "      <td>5</td>\n",
              "      <td>4</td>\n",
              "    </tr>\n",
              "    <tr>\n",
              "      <th>Acarlar Mersin Yed.Par.Mot.Taş.İth.İhr.ve Tic.Ltd.Şti.</th>\n",
              "      <td>29</td>\n",
              "      <td>1</td>\n",
              "      <td>5000.000000</td>\n",
              "      <td>5</td>\n",
              "      <td>1</td>\n",
              "    </tr>\n",
              "    <tr>\n",
              "      <th>Acarlar Yedek Parça Otom.San.Tic.Ltd.Şti.</th>\n",
              "      <td>29</td>\n",
              "      <td>11</td>\n",
              "      <td>67875.880875</td>\n",
              "      <td>5</td>\n",
              "      <td>5</td>\n",
              "    </tr>\n",
              "    <tr>\n",
              "      <th>...</th>\n",
              "      <td>...</td>\n",
              "      <td>...</td>\n",
              "      <td>...</td>\n",
              "      <td>...</td>\n",
              "      <td>...</td>\n",
              "    </tr>\n",
              "    <tr>\n",
              "      <th>İrem Otom - Beytullah Beşikçi</th>\n",
              "      <td>594</td>\n",
              "      <td>1</td>\n",
              "      <td>371.060000</td>\n",
              "      <td>1</td>\n",
              "      <td>2</td>\n",
              "    </tr>\n",
              "    <tr>\n",
              "      <th>İşçioğlu Otom - Yusuf Seyfeddin İşçi</th>\n",
              "      <td>132</td>\n",
              "      <td>1</td>\n",
              "      <td>579.040000</td>\n",
              "      <td>2</td>\n",
              "      <td>2</td>\n",
              "    </tr>\n",
              "    <tr>\n",
              "      <th>Şah Otom.Yedek Parça - Tuba Şahin</th>\n",
              "      <td>125</td>\n",
              "      <td>1</td>\n",
              "      <td>571.972500</td>\n",
              "      <td>2</td>\n",
              "      <td>2</td>\n",
              "    </tr>\n",
              "    <tr>\n",
              "      <th>Şahmurat Ticaret - Faruk Kayıp</th>\n",
              "      <td>92</td>\n",
              "      <td>2</td>\n",
              "      <td>2242.988000</td>\n",
              "      <td>3</td>\n",
              "      <td>3</td>\n",
              "    </tr>\n",
              "    <tr>\n",
              "      <th>Şener Otom.Nak.San.Tic.Ltd.Şti.</th>\n",
              "      <td>17</td>\n",
              "      <td>3</td>\n",
              "      <td>2900.594000</td>\n",
              "      <td>5</td>\n",
              "      <td>4</td>\n",
              "    </tr>\n",
              "  </tbody>\n",
              "</table>\n",
              "<p>235 rows × 5 columns</p>\n",
              "</div>"
            ],
            "text/plain": [
              "                                                    Recency  ...  FrequencyScore\n",
              "CustomerName                                                 ...                \n",
              "3A Parts Yedek Parça Otom.San.Tic.Ltd.Şti.               90  ...               1\n",
              "3Y Otom.San.Tic.Ltd.Şti.                                  8  ...               5\n",
              "Acarlar Gebze Yed.Par.Otom.San.Tic.Ltd.Şti.              24  ...               4\n",
              "Acarlar Mersin Yed.Par.Mot.Taş.İth.İhr.ve Tic.L...       29  ...               1\n",
              "Acarlar Yedek Parça Otom.San.Tic.Ltd.Şti.                29  ...               5\n",
              "...                                                     ...  ...             ...\n",
              "İrem Otom - Beytullah Beşikçi                           594  ...               2\n",
              "İşçioğlu Otom - Yusuf Seyfeddin İşçi                    132  ...               2\n",
              "Şah Otom.Yedek Parça - Tuba Şahin                       125  ...               2\n",
              "Şahmurat Ticaret - Faruk Kayıp                           92  ...               3\n",
              "Şener Otom.Nak.San.Tic.Ltd.Şti.                          17  ...               4\n",
              "\n",
              "[235 rows x 5 columns]"
            ]
          },
          "metadata": {},
          "execution_count": 129
        }
      ]
    },
    {
      "cell_type": "markdown",
      "metadata": {
        "id": "jevm0ymgWfNb"
      },
      "source": [
        "## Monetary Score\n",
        "\n",
        "- **Monetary** için skor elde ediyoruz."
      ]
    },
    {
      "cell_type": "code",
      "metadata": {
        "colab": {
          "base_uri": "https://localhost:8080/",
          "height": 447
        },
        "id": "dDg5ZLwjtM5i",
        "outputId": "c9763883-2654-458d-9343-c5ed193b59d4"
      },
      "source": [
        "rfm[\"MonetaryScore\"] = pd.qcut(rfm['Monetary'], 5, labels = [1,2,3,4,5])\n",
        "\n",
        "rfm"
      ],
      "execution_count": null,
      "outputs": [
        {
          "output_type": "execute_result",
          "data": {
            "text/html": [
              "<div>\n",
              "<style scoped>\n",
              "    .dataframe tbody tr th:only-of-type {\n",
              "        vertical-align: middle;\n",
              "    }\n",
              "\n",
              "    .dataframe tbody tr th {\n",
              "        vertical-align: top;\n",
              "    }\n",
              "\n",
              "    .dataframe thead th {\n",
              "        text-align: right;\n",
              "    }\n",
              "</style>\n",
              "<table border=\"1\" class=\"dataframe\">\n",
              "  <thead>\n",
              "    <tr style=\"text-align: right;\">\n",
              "      <th></th>\n",
              "      <th>Recency</th>\n",
              "      <th>Frequency</th>\n",
              "      <th>Monetary</th>\n",
              "      <th>RecencyScore</th>\n",
              "      <th>FrequencyScore</th>\n",
              "      <th>MonetaryScore</th>\n",
              "    </tr>\n",
              "    <tr>\n",
              "      <th>CustomerName</th>\n",
              "      <th></th>\n",
              "      <th></th>\n",
              "      <th></th>\n",
              "      <th></th>\n",
              "      <th></th>\n",
              "      <th></th>\n",
              "    </tr>\n",
              "  </thead>\n",
              "  <tbody>\n",
              "    <tr>\n",
              "      <th>3A Parts Yedek Parça Otom.San.Tic.Ltd.Şti.</th>\n",
              "      <td>90</td>\n",
              "      <td>1</td>\n",
              "      <td>559.586500</td>\n",
              "      <td>3</td>\n",
              "      <td>1</td>\n",
              "      <td>1</td>\n",
              "    </tr>\n",
              "    <tr>\n",
              "      <th>3Y Otom.San.Tic.Ltd.Şti.</th>\n",
              "      <td>8</td>\n",
              "      <td>29</td>\n",
              "      <td>167000.859500</td>\n",
              "      <td>5</td>\n",
              "      <td>5</td>\n",
              "      <td>5</td>\n",
              "    </tr>\n",
              "    <tr>\n",
              "      <th>Acarlar Gebze Yed.Par.Otom.San.Tic.Ltd.Şti.</th>\n",
              "      <td>24</td>\n",
              "      <td>6</td>\n",
              "      <td>12651.723500</td>\n",
              "      <td>5</td>\n",
              "      <td>4</td>\n",
              "      <td>5</td>\n",
              "    </tr>\n",
              "    <tr>\n",
              "      <th>Acarlar Mersin Yed.Par.Mot.Taş.İth.İhr.ve Tic.Ltd.Şti.</th>\n",
              "      <td>29</td>\n",
              "      <td>1</td>\n",
              "      <td>5000.000000</td>\n",
              "      <td>5</td>\n",
              "      <td>1</td>\n",
              "      <td>3</td>\n",
              "    </tr>\n",
              "    <tr>\n",
              "      <th>Acarlar Yedek Parça Otom.San.Tic.Ltd.Şti.</th>\n",
              "      <td>29</td>\n",
              "      <td>11</td>\n",
              "      <td>67875.880875</td>\n",
              "      <td>5</td>\n",
              "      <td>5</td>\n",
              "      <td>5</td>\n",
              "    </tr>\n",
              "    <tr>\n",
              "      <th>...</th>\n",
              "      <td>...</td>\n",
              "      <td>...</td>\n",
              "      <td>...</td>\n",
              "      <td>...</td>\n",
              "      <td>...</td>\n",
              "      <td>...</td>\n",
              "    </tr>\n",
              "    <tr>\n",
              "      <th>İrem Otom - Beytullah Beşikçi</th>\n",
              "      <td>594</td>\n",
              "      <td>1</td>\n",
              "      <td>371.060000</td>\n",
              "      <td>1</td>\n",
              "      <td>2</td>\n",
              "      <td>1</td>\n",
              "    </tr>\n",
              "    <tr>\n",
              "      <th>İşçioğlu Otom - Yusuf Seyfeddin İşçi</th>\n",
              "      <td>132</td>\n",
              "      <td>1</td>\n",
              "      <td>579.040000</td>\n",
              "      <td>2</td>\n",
              "      <td>2</td>\n",
              "      <td>1</td>\n",
              "    </tr>\n",
              "    <tr>\n",
              "      <th>Şah Otom.Yedek Parça - Tuba Şahin</th>\n",
              "      <td>125</td>\n",
              "      <td>1</td>\n",
              "      <td>571.972500</td>\n",
              "      <td>2</td>\n",
              "      <td>2</td>\n",
              "      <td>1</td>\n",
              "    </tr>\n",
              "    <tr>\n",
              "      <th>Şahmurat Ticaret - Faruk Kayıp</th>\n",
              "      <td>92</td>\n",
              "      <td>2</td>\n",
              "      <td>2242.988000</td>\n",
              "      <td>3</td>\n",
              "      <td>3</td>\n",
              "      <td>2</td>\n",
              "    </tr>\n",
              "    <tr>\n",
              "      <th>Şener Otom.Nak.San.Tic.Ltd.Şti.</th>\n",
              "      <td>17</td>\n",
              "      <td>3</td>\n",
              "      <td>2900.594000</td>\n",
              "      <td>5</td>\n",
              "      <td>4</td>\n",
              "      <td>3</td>\n",
              "    </tr>\n",
              "  </tbody>\n",
              "</table>\n",
              "<p>235 rows × 6 columns</p>\n",
              "</div>"
            ],
            "text/plain": [
              "                                                    Recency  ...  MonetaryScore\n",
              "CustomerName                                                 ...               \n",
              "3A Parts Yedek Parça Otom.San.Tic.Ltd.Şti.               90  ...              1\n",
              "3Y Otom.San.Tic.Ltd.Şti.                                  8  ...              5\n",
              "Acarlar Gebze Yed.Par.Otom.San.Tic.Ltd.Şti.              24  ...              5\n",
              "Acarlar Mersin Yed.Par.Mot.Taş.İth.İhr.ve Tic.L...       29  ...              3\n",
              "Acarlar Yedek Parça Otom.San.Tic.Ltd.Şti.                29  ...              5\n",
              "...                                                     ...  ...            ...\n",
              "İrem Otom - Beytullah Beşikçi                           594  ...              1\n",
              "İşçioğlu Otom - Yusuf Seyfeddin İşçi                    132  ...              1\n",
              "Şah Otom.Yedek Parça - Tuba Şahin                       125  ...              1\n",
              "Şahmurat Ticaret - Faruk Kayıp                           92  ...              2\n",
              "Şener Otom.Nak.San.Tic.Ltd.Şti.                          17  ...              3\n",
              "\n",
              "[235 rows x 6 columns]"
            ]
          },
          "metadata": {},
          "execution_count": 130
        }
      ]
    },
    {
      "cell_type": "markdown",
      "metadata": {
        "id": "QlHIGVeIrcV5"
      },
      "source": [
        "- **Recency , Frequency ve Monetary** için bulduğumuz skorları yan yana topluyoruz. "
      ]
    },
    {
      "cell_type": "code",
      "metadata": {
        "colab": {
          "base_uri": "https://localhost:8080/"
        },
        "id": "vSBeVjKkq9bV",
        "outputId": "7151bd11-63e9-4a6a-863c-ec8a07c33c2e"
      },
      "source": [
        "(rfm['RecencyScore'].astype('str') + rfm['FrequencyScore'].astype('str') + rfm['MonetaryScore'].astype('str')).head()"
      ],
      "execution_count": null,
      "outputs": [
        {
          "output_type": "execute_result",
          "data": {
            "text/plain": [
              "CustomerName\n",
              "3A Parts Yedek Parça Otom.San.Tic.Ltd.Şti.                311\n",
              "3Y Otom.San.Tic.Ltd.Şti.                                  555\n",
              "Acarlar Gebze Yed.Par.Otom.San.Tic.Ltd.Şti.               545\n",
              "Acarlar Mersin Yed.Par.Mot.Taş.İth.İhr.ve Tic.Ltd.Şti.    513\n",
              "Acarlar Yedek Parça Otom.San.Tic.Ltd.Şti.                 555\n",
              "dtype: object"
            ]
          },
          "metadata": {},
          "execution_count": 131
        }
      ]
    },
    {
      "cell_type": "markdown",
      "metadata": {
        "id": "gkMLpLkc0bst"
      },
      "source": [
        "- Toplayarak elde ettiğimiz bu skorları **rfm datamıza** değişken olarak ekliyoruz"
      ]
    },
    {
      "cell_type": "code",
      "metadata": {
        "colab": {
          "base_uri": "https://localhost:8080/",
          "height": 234
        },
        "id": "Gq32G2S70hD9",
        "outputId": "56323c2a-c78e-4553-8e73-c8ee9746eb68"
      },
      "source": [
        "rfm['RFM Skor'] = rfm['RecencyScore'].astype('str') + rfm['FrequencyScore'].astype('str') + rfm['MonetaryScore'].astype('str')\n",
        "\n",
        "rfm.head()"
      ],
      "execution_count": null,
      "outputs": [
        {
          "output_type": "execute_result",
          "data": {
            "text/html": [
              "<div>\n",
              "<style scoped>\n",
              "    .dataframe tbody tr th:only-of-type {\n",
              "        vertical-align: middle;\n",
              "    }\n",
              "\n",
              "    .dataframe tbody tr th {\n",
              "        vertical-align: top;\n",
              "    }\n",
              "\n",
              "    .dataframe thead th {\n",
              "        text-align: right;\n",
              "    }\n",
              "</style>\n",
              "<table border=\"1\" class=\"dataframe\">\n",
              "  <thead>\n",
              "    <tr style=\"text-align: right;\">\n",
              "      <th></th>\n",
              "      <th>Recency</th>\n",
              "      <th>Frequency</th>\n",
              "      <th>Monetary</th>\n",
              "      <th>RecencyScore</th>\n",
              "      <th>FrequencyScore</th>\n",
              "      <th>MonetaryScore</th>\n",
              "      <th>RFM Skor</th>\n",
              "    </tr>\n",
              "    <tr>\n",
              "      <th>CustomerName</th>\n",
              "      <th></th>\n",
              "      <th></th>\n",
              "      <th></th>\n",
              "      <th></th>\n",
              "      <th></th>\n",
              "      <th></th>\n",
              "      <th></th>\n",
              "    </tr>\n",
              "  </thead>\n",
              "  <tbody>\n",
              "    <tr>\n",
              "      <th>3A Parts Yedek Parça Otom.San.Tic.Ltd.Şti.</th>\n",
              "      <td>90</td>\n",
              "      <td>1</td>\n",
              "      <td>559.586500</td>\n",
              "      <td>3</td>\n",
              "      <td>1</td>\n",
              "      <td>1</td>\n",
              "      <td>311</td>\n",
              "    </tr>\n",
              "    <tr>\n",
              "      <th>3Y Otom.San.Tic.Ltd.Şti.</th>\n",
              "      <td>8</td>\n",
              "      <td>29</td>\n",
              "      <td>167000.859500</td>\n",
              "      <td>5</td>\n",
              "      <td>5</td>\n",
              "      <td>5</td>\n",
              "      <td>555</td>\n",
              "    </tr>\n",
              "    <tr>\n",
              "      <th>Acarlar Gebze Yed.Par.Otom.San.Tic.Ltd.Şti.</th>\n",
              "      <td>24</td>\n",
              "      <td>6</td>\n",
              "      <td>12651.723500</td>\n",
              "      <td>5</td>\n",
              "      <td>4</td>\n",
              "      <td>5</td>\n",
              "      <td>545</td>\n",
              "    </tr>\n",
              "    <tr>\n",
              "      <th>Acarlar Mersin Yed.Par.Mot.Taş.İth.İhr.ve Tic.Ltd.Şti.</th>\n",
              "      <td>29</td>\n",
              "      <td>1</td>\n",
              "      <td>5000.000000</td>\n",
              "      <td>5</td>\n",
              "      <td>1</td>\n",
              "      <td>3</td>\n",
              "      <td>513</td>\n",
              "    </tr>\n",
              "    <tr>\n",
              "      <th>Acarlar Yedek Parça Otom.San.Tic.Ltd.Şti.</th>\n",
              "      <td>29</td>\n",
              "      <td>11</td>\n",
              "      <td>67875.880875</td>\n",
              "      <td>5</td>\n",
              "      <td>5</td>\n",
              "      <td>5</td>\n",
              "      <td>555</td>\n",
              "    </tr>\n",
              "  </tbody>\n",
              "</table>\n",
              "</div>"
            ],
            "text/plain": [
              "                                                    Recency  ...  RFM Skor\n",
              "CustomerName                                                 ...          \n",
              "3A Parts Yedek Parça Otom.San.Tic.Ltd.Şti.               90  ...       311\n",
              "3Y Otom.San.Tic.Ltd.Şti.                                  8  ...       555\n",
              "Acarlar Gebze Yed.Par.Otom.San.Tic.Ltd.Şti.              24  ...       545\n",
              "Acarlar Mersin Yed.Par.Mot.Taş.İth.İhr.ve Tic.L...       29  ...       513\n",
              "Acarlar Yedek Parça Otom.San.Tic.Ltd.Şti.                29  ...       555\n",
              "\n",
              "[5 rows x 7 columns]"
            ]
          },
          "metadata": {},
          "execution_count": 132
        }
      ]
    },
    {
      "cell_type": "markdown",
      "metadata": {
        "id": "L8AnPWsi0yav"
      },
      "source": [
        "- En İyi müşterilere bakalım"
      ]
    },
    {
      "cell_type": "code",
      "metadata": {
        "colab": {
          "base_uri": "https://localhost:8080/",
          "height": 234
        },
        "id": "GCQ4k9QK02vG",
        "outputId": "2811ad9b-bee2-48fd-eca5-f21ec71dc6fe"
      },
      "source": [
        "rfm[rfm['RFM Skor'] == '555'].head() "
      ],
      "execution_count": null,
      "outputs": [
        {
          "output_type": "execute_result",
          "data": {
            "text/html": [
              "<div>\n",
              "<style scoped>\n",
              "    .dataframe tbody tr th:only-of-type {\n",
              "        vertical-align: middle;\n",
              "    }\n",
              "\n",
              "    .dataframe tbody tr th {\n",
              "        vertical-align: top;\n",
              "    }\n",
              "\n",
              "    .dataframe thead th {\n",
              "        text-align: right;\n",
              "    }\n",
              "</style>\n",
              "<table border=\"1\" class=\"dataframe\">\n",
              "  <thead>\n",
              "    <tr style=\"text-align: right;\">\n",
              "      <th></th>\n",
              "      <th>Recency</th>\n",
              "      <th>Frequency</th>\n",
              "      <th>Monetary</th>\n",
              "      <th>RecencyScore</th>\n",
              "      <th>FrequencyScore</th>\n",
              "      <th>MonetaryScore</th>\n",
              "      <th>RFM Skor</th>\n",
              "    </tr>\n",
              "    <tr>\n",
              "      <th>CustomerName</th>\n",
              "      <th></th>\n",
              "      <th></th>\n",
              "      <th></th>\n",
              "      <th></th>\n",
              "      <th></th>\n",
              "      <th></th>\n",
              "      <th></th>\n",
              "    </tr>\n",
              "  </thead>\n",
              "  <tbody>\n",
              "    <tr>\n",
              "      <th>3Y Otom.San.Tic.Ltd.Şti.</th>\n",
              "      <td>8</td>\n",
              "      <td>29</td>\n",
              "      <td>167000.859500</td>\n",
              "      <td>5</td>\n",
              "      <td>5</td>\n",
              "      <td>5</td>\n",
              "      <td>555</td>\n",
              "    </tr>\n",
              "    <tr>\n",
              "      <th>Acarlar Yedek Parça Otom.San.Tic.Ltd.Şti.</th>\n",
              "      <td>29</td>\n",
              "      <td>11</td>\n",
              "      <td>67875.880875</td>\n",
              "      <td>5</td>\n",
              "      <td>5</td>\n",
              "      <td>5</td>\n",
              "      <td>555</td>\n",
              "    </tr>\n",
              "    <tr>\n",
              "      <th>Alemdar End.Mak.Otom.San.Tic.Ltd.Şti.</th>\n",
              "      <td>29</td>\n",
              "      <td>7</td>\n",
              "      <td>16138.228000</td>\n",
              "      <td>5</td>\n",
              "      <td>5</td>\n",
              "      <td>5</td>\n",
              "      <td>555</td>\n",
              "    </tr>\n",
              "    <tr>\n",
              "      <th>Anadolu Otom - Efdal Yazıcılar</th>\n",
              "      <td>29</td>\n",
              "      <td>20</td>\n",
              "      <td>32914.912750</td>\n",
              "      <td>5</td>\n",
              "      <td>5</td>\n",
              "      <td>5</td>\n",
              "      <td>555</td>\n",
              "    </tr>\n",
              "    <tr>\n",
              "      <th>Ankara Grup Tic.Araç.Yedek Parça San.Tic.Ltd.Şti.</th>\n",
              "      <td>29</td>\n",
              "      <td>10</td>\n",
              "      <td>35546.090125</td>\n",
              "      <td>5</td>\n",
              "      <td>5</td>\n",
              "      <td>5</td>\n",
              "      <td>555</td>\n",
              "    </tr>\n",
              "  </tbody>\n",
              "</table>\n",
              "</div>"
            ],
            "text/plain": [
              "                                                   Recency  ...  RFM Skor\n",
              "CustomerName                                                ...          \n",
              "3Y Otom.San.Tic.Ltd.Şti.                                 8  ...       555\n",
              "Acarlar Yedek Parça Otom.San.Tic.Ltd.Şti.               29  ...       555\n",
              "Alemdar End.Mak.Otom.San.Tic.Ltd.Şti.                   29  ...       555\n",
              "Anadolu Otom - Efdal Yazıcılar                          29  ...       555\n",
              "Ankara Grup Tic.Araç.Yedek Parça San.Tic.Ltd.Şti.       29  ...       555\n",
              "\n",
              "[5 rows x 7 columns]"
            ]
          },
          "metadata": {},
          "execution_count": 133
        }
      ]
    },
    {
      "cell_type": "markdown",
      "metadata": {
        "id": "js4kenEF0-jf"
      },
      "source": [
        "- En kötü müşteriye bakalım"
      ]
    },
    {
      "cell_type": "code",
      "metadata": {
        "colab": {
          "base_uri": "https://localhost:8080/",
          "height": 234
        },
        "id": "kBjM0jVA1B0u",
        "outputId": "037022e7-4cc9-4a26-ee3e-942cb645f4a5"
      },
      "source": [
        "rfm[rfm['RFM Skor'] == '111'].head()"
      ],
      "execution_count": null,
      "outputs": [
        {
          "output_type": "execute_result",
          "data": {
            "text/html": [
              "<div>\n",
              "<style scoped>\n",
              "    .dataframe tbody tr th:only-of-type {\n",
              "        vertical-align: middle;\n",
              "    }\n",
              "\n",
              "    .dataframe tbody tr th {\n",
              "        vertical-align: top;\n",
              "    }\n",
              "\n",
              "    .dataframe thead th {\n",
              "        text-align: right;\n",
              "    }\n",
              "</style>\n",
              "<table border=\"1\" class=\"dataframe\">\n",
              "  <thead>\n",
              "    <tr style=\"text-align: right;\">\n",
              "      <th></th>\n",
              "      <th>Recency</th>\n",
              "      <th>Frequency</th>\n",
              "      <th>Monetary</th>\n",
              "      <th>RecencyScore</th>\n",
              "      <th>FrequencyScore</th>\n",
              "      <th>MonetaryScore</th>\n",
              "      <th>RFM Skor</th>\n",
              "    </tr>\n",
              "    <tr>\n",
              "      <th>CustomerName</th>\n",
              "      <th></th>\n",
              "      <th></th>\n",
              "      <th></th>\n",
              "      <th></th>\n",
              "      <th></th>\n",
              "      <th></th>\n",
              "      <th></th>\n",
              "    </tr>\n",
              "  </thead>\n",
              "  <tbody>\n",
              "    <tr>\n",
              "      <th>Aksoy Otom.Yedek Parça Ser.Hiz.San.Tic.Ltd.Şti.</th>\n",
              "      <td>491</td>\n",
              "      <td>1</td>\n",
              "      <td>842.5000</td>\n",
              "      <td>1</td>\n",
              "      <td>1</td>\n",
              "      <td>1</td>\n",
              "      <td>111</td>\n",
              "    </tr>\n",
              "    <tr>\n",
              "      <th>Atılım Oto Tamir Bakım Yedek Parça Tic.Ltd.Şti.</th>\n",
              "      <td>386</td>\n",
              "      <td>1</td>\n",
              "      <td>492.7505</td>\n",
              "      <td>1</td>\n",
              "      <td>1</td>\n",
              "      <td>1</td>\n",
              "      <td>111</td>\n",
              "    </tr>\n",
              "    <tr>\n",
              "      <th>Barışım Otom.Akar.Nak.Gıda San.Tic.Ltd.Şti.</th>\n",
              "      <td>427</td>\n",
              "      <td>1</td>\n",
              "      <td>471.9715</td>\n",
              "      <td>1</td>\n",
              "      <td>1</td>\n",
              "      <td>1</td>\n",
              "      <td>111</td>\n",
              "    </tr>\n",
              "    <tr>\n",
              "      <th>Cng Mot.Araç.San.ve Dış Tic.Ltd.Şti.</th>\n",
              "      <td>385</td>\n",
              "      <td>1</td>\n",
              "      <td>493.6360</td>\n",
              "      <td>1</td>\n",
              "      <td>1</td>\n",
              "      <td>1</td>\n",
              "      <td>111</td>\n",
              "    </tr>\n",
              "    <tr>\n",
              "      <th>Dilbaz Otom - Ercan Dilbaz</th>\n",
              "      <td>461</td>\n",
              "      <td>1</td>\n",
              "      <td>428.0540</td>\n",
              "      <td>1</td>\n",
              "      <td>1</td>\n",
              "      <td>1</td>\n",
              "      <td>111</td>\n",
              "    </tr>\n",
              "  </tbody>\n",
              "</table>\n",
              "</div>"
            ],
            "text/plain": [
              "                                                 Recency  ...  RFM Skor\n",
              "CustomerName                                              ...          \n",
              "Aksoy Otom.Yedek Parça Ser.Hiz.San.Tic.Ltd.Şti.      491  ...       111\n",
              "Atılım Oto Tamir Bakım Yedek Parça Tic.Ltd.Şti.      386  ...       111\n",
              "Barışım Otom.Akar.Nak.Gıda San.Tic.Ltd.Şti.          427  ...       111\n",
              "Cng Mot.Araç.San.ve Dış Tic.Ltd.Şti.                 385  ...       111\n",
              "Dilbaz Otom - Ercan Dilbaz                           461  ...       111\n",
              "\n",
              "[5 rows x 7 columns]"
            ]
          },
          "metadata": {},
          "execution_count": 134
        }
      ]
    },
    {
      "cell_type": "markdown",
      "metadata": {
        "id": "joKQ-bpUTnmQ"
      },
      "source": [
        "## RFM Tablosu"
      ]
    },
    {
      "cell_type": "markdown",
      "metadata": {
        "id": "4zPnWLRm2p01"
      },
      "source": [
        "- RFM analizinde yaygın olarak kullanılan tablo aşağıda ki gibidir.\n",
        "- Bu tabloda genellikle **2 parametre** kullanılır. Bunlar ;\n",
        "\n",
        "   - **Recency : Yenilik**\n",
        "   - **Frequency : Sıklık**\n",
        "- Tablo'da Müşteriler Segmentlere Ayrılmış durumdadır. Parametre değerlerine bakılarak müşterilerin segmentleri belirlenmektedrir.\n",
        "- Bizlerde Analizimizi Bu segmentlere göre yaparız."
      ]
    },
    {
      "cell_type": "markdown",
      "metadata": {
        "id": "RlRXlfsI2U2Q"
      },
      "source": [
        "![rfm.png](data:image/png;base64,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)"
      ]
    },
    {
      "cell_type": "markdown",
      "metadata": {
        "id": "I9IitTVCyCaH"
      },
      "source": [
        "- Yukarıda ki tabloda ki Segmnetleri **RFM** datamıza ekleyeceğiz.\n",
        "- Önce **Segment** değişkeni oluşturuyoruz. Bunu oluştururken **Recency ve Frequency** değerlerini topluyoruz. Bunun sebebi ise tabloda sadece **Recency ve Frequency** parametreleri vardır.\n",
        "\n",
        "- Daha sonra topladığımız değerlerin yerine dictionary olarak atadığımız **Müşteri Segmentlerini** atıyoruz. Örneğin ;\n",
        "\n",
        "   - **( Recency = 4 )** + **( Frequency = 5 )** = **45** olur.\n",
        "\n",
        "   - **45** **--->** **Champions Segmenti** olacaktır."
      ]
    },
    {
      "cell_type": "code",
      "metadata": {
        "colab": {
          "base_uri": "https://localhost:8080/",
          "height": 267
        },
        "id": "kOHGt0qc2oWq",
        "outputId": "9b82b36e-2d0e-4070-f17b-9d520a0949c0"
      },
      "source": [
        "seg_map = {\n",
        "    r'[1-2][1-2]': 'Hibernating',\n",
        "    r'[1-2][3-4]': 'At Risk',\n",
        "    r'[1-2]5': 'Can\\'t Loose',\n",
        "    r'3[1-2]': 'About to Sleep',\n",
        "    r'33': 'Need Attention',\n",
        "    r'[3-4][4-5]': 'Loyal Customers',\n",
        "    r'41': 'Promising',\n",
        "    r'51': 'New Customers',\n",
        "    r'[4-5][2-3]': 'Potential Loyalists',\n",
        "    r'5[4-5]': 'Champions' \n",
        "}\n",
        "\n",
        "\n",
        "rfm['Segment'] = rfm['RecencyScore'].astype('str') + rfm['FrequencyScore'].astype('str')\n",
        "\n",
        "rfm['Segment'] = rfm['Segment'].replace(seg_map, regex = True)\n",
        "\n",
        "rfm.head()"
      ],
      "execution_count": null,
      "outputs": [
        {
          "output_type": "execute_result",
          "data": {
            "text/html": [
              "<div>\n",
              "<style scoped>\n",
              "    .dataframe tbody tr th:only-of-type {\n",
              "        vertical-align: middle;\n",
              "    }\n",
              "\n",
              "    .dataframe tbody tr th {\n",
              "        vertical-align: top;\n",
              "    }\n",
              "\n",
              "    .dataframe thead th {\n",
              "        text-align: right;\n",
              "    }\n",
              "</style>\n",
              "<table border=\"1\" class=\"dataframe\">\n",
              "  <thead>\n",
              "    <tr style=\"text-align: right;\">\n",
              "      <th></th>\n",
              "      <th>Recency</th>\n",
              "      <th>Frequency</th>\n",
              "      <th>Monetary</th>\n",
              "      <th>RecencyScore</th>\n",
              "      <th>FrequencyScore</th>\n",
              "      <th>MonetaryScore</th>\n",
              "      <th>RFM Skor</th>\n",
              "      <th>Segment</th>\n",
              "    </tr>\n",
              "    <tr>\n",
              "      <th>CustomerName</th>\n",
              "      <th></th>\n",
              "      <th></th>\n",
              "      <th></th>\n",
              "      <th></th>\n",
              "      <th></th>\n",
              "      <th></th>\n",
              "      <th></th>\n",
              "      <th></th>\n",
              "    </tr>\n",
              "  </thead>\n",
              "  <tbody>\n",
              "    <tr>\n",
              "      <th>3A Parts Yedek Parça Otom.San.Tic.Ltd.Şti.</th>\n",
              "      <td>90</td>\n",
              "      <td>1</td>\n",
              "      <td>559.586500</td>\n",
              "      <td>3</td>\n",
              "      <td>1</td>\n",
              "      <td>1</td>\n",
              "      <td>311</td>\n",
              "      <td>About to Sleep</td>\n",
              "    </tr>\n",
              "    <tr>\n",
              "      <th>3Y Otom.San.Tic.Ltd.Şti.</th>\n",
              "      <td>8</td>\n",
              "      <td>29</td>\n",
              "      <td>167000.859500</td>\n",
              "      <td>5</td>\n",
              "      <td>5</td>\n",
              "      <td>5</td>\n",
              "      <td>555</td>\n",
              "      <td>Champions</td>\n",
              "    </tr>\n",
              "    <tr>\n",
              "      <th>Acarlar Gebze Yed.Par.Otom.San.Tic.Ltd.Şti.</th>\n",
              "      <td>24</td>\n",
              "      <td>6</td>\n",
              "      <td>12651.723500</td>\n",
              "      <td>5</td>\n",
              "      <td>4</td>\n",
              "      <td>5</td>\n",
              "      <td>545</td>\n",
              "      <td>Champions</td>\n",
              "    </tr>\n",
              "    <tr>\n",
              "      <th>Acarlar Mersin Yed.Par.Mot.Taş.İth.İhr.ve Tic.Ltd.Şti.</th>\n",
              "      <td>29</td>\n",
              "      <td>1</td>\n",
              "      <td>5000.000000</td>\n",
              "      <td>5</td>\n",
              "      <td>1</td>\n",
              "      <td>3</td>\n",
              "      <td>513</td>\n",
              "      <td>New Customers</td>\n",
              "    </tr>\n",
              "    <tr>\n",
              "      <th>Acarlar Yedek Parça Otom.San.Tic.Ltd.Şti.</th>\n",
              "      <td>29</td>\n",
              "      <td>11</td>\n",
              "      <td>67875.880875</td>\n",
              "      <td>5</td>\n",
              "      <td>5</td>\n",
              "      <td>5</td>\n",
              "      <td>555</td>\n",
              "      <td>Champions</td>\n",
              "    </tr>\n",
              "  </tbody>\n",
              "</table>\n",
              "</div>"
            ],
            "text/plain": [
              "                                                    Recency  ...         Segment\n",
              "CustomerName                                                 ...                \n",
              "3A Parts Yedek Parça Otom.San.Tic.Ltd.Şti.               90  ...  About to Sleep\n",
              "3Y Otom.San.Tic.Ltd.Şti.                                  8  ...       Champions\n",
              "Acarlar Gebze Yed.Par.Otom.San.Tic.Ltd.Şti.              24  ...       Champions\n",
              "Acarlar Mersin Yed.Par.Mot.Taş.İth.İhr.ve Tic.L...       29  ...   New Customers\n",
              "Acarlar Yedek Parça Otom.San.Tic.Ltd.Şti.                29  ...       Champions\n",
              "\n",
              "[5 rows x 8 columns]"
            ]
          },
          "metadata": {},
          "execution_count": 135
        }
      ]
    },
    {
      "cell_type": "markdown",
      "metadata": {
        "id": "3-lanOShCO43"
      },
      "source": [
        "- **RFM tablosunda ki Segmentlere göre Recency, Frequency, Monetary değerlerimizi gruplandırarak bakalım**.\n",
        "\n",
        "- **Champions Segmenti** : Bu Segmentte bulunan müşteriler bizim en iyi müşterilerimiz olur. Yakın zamanda satın alım yapmış ve sık sık alışveriş yapmaya devam ederler.\n",
        "\n",
        "   - Şampiyonlar Segmentinde ki müşterilerin arasında en yüksek miktarda harcama yapan müşterilerimiz ise **Customer Lifetime value(CLV)** değeri en yüksek olan müşterilerimizdir.Bu müşterileri bizim marka itibarını yükselteceğinden onlara kendilerini seçilmiş ve avantajlı hissettirmelisiniz.\n",
        "   - Onlarla daha çok etkileşimde bulunabilir, deneyimleri hakkında değerlenbdirmeler yapmalarını isteyebilir ve cazip kampanyalar, özel indirimler gibi onları ödüllendirebilirsiniz.\n"
      ]
    },
    {
      "cell_type": "markdown",
      "metadata": {
        "id": "YSzv7LpcZvTa"
      },
      "source": [
        "- Bizim **Şampiyonlar Segmentinden bulunan Müşterilerimize** bakalım"
      ]
    },
    {
      "cell_type": "code",
      "metadata": {
        "colab": {
          "base_uri": "https://localhost:8080/"
        },
        "id": "Fm31qEBNYBW8",
        "outputId": "9f589157-a092-418f-abdd-f00ac935aa46"
      },
      "source": [
        "rfm[rfm['Segment'] == 'Champions'].index.tolist()"
      ],
      "execution_count": null,
      "outputs": [
        {
          "output_type": "execute_result",
          "data": {
            "text/plain": [
              "['3Y Otom.San.Tic.Ltd.Şti.',\n",
              " 'Acarlar Gebze Yed.Par.Otom.San.Tic.Ltd.Şti.',\n",
              " 'Acarlar Yedek Parça Otom.San.Tic.Ltd.Şti.',\n",
              " 'Alemdar End.Mak.Otom.San.Tic.Ltd.Şti.',\n",
              " 'Anadolu Otom - Efdal Yazıcılar',\n",
              " 'Ankara Grup Tic.Araç.Yedek Parça San.Tic.Ltd.Şti.',\n",
              " 'Arslanoğlu Mak.Yed.Parça Nak.San.Tic.Ltd.Şti.',\n",
              " 'Atakul Dizel Otom.San.Tic.A.Ş.',\n",
              " 'Aydemir Tic - Tevfik Aydemir',\n",
              " 'Aydınlar Oto Tamirhanesi - Aydoğan Yezer',\n",
              " 'Aşkınlar Otom.Turz.San.Tic.Ltd.Şti.',\n",
              " 'Batı Otom.Servis San.İth.İhr.ve Tic.Ltd.Şti.',\n",
              " 'Bayram Otom.İç Dış Tic.Ltd.Şti.',\n",
              " 'Demirci Mot.Araç.San.Tic.Ltd.Şti.',\n",
              " 'Dündar Makina San.Tic.Ltd.Şti.',\n",
              " 'Egem Mot.Araç.Turz.İnş.ve San.Tic.Ltd.Şti.',\n",
              " 'Emr Yedek Parça Otom.San.Tic.Ltd.Şti.',\n",
              " 'Emrah Otom.San.Tic.Ltd.Şti.',\n",
              " 'Ertaş Otom.Tic.San.A.Ş.',\n",
              " 'Fırat Makina Otom.Teks.Turz.İnş.San.ve Dış Tic.Ltd Şti.',\n",
              " 'Gürmer Otom.Servis Hiz.Nak.San.Tic.Ltd.Şti.',\n",
              " 'Karaduman Grup Otom - Özer Karaduman',\n",
              " 'Otokaraman Otom.Yedek Parça Tic.Ltd.Şti.',\n",
              " 'Pasific Diesel Yedek Parça İç Dış Tic.Ltd.Şti.',\n",
              " 'Trakman Otom.San.Tic.Ltd.Şti.',\n",
              " 'Tutanlar Otom.Tic.Ltd.Şti.',\n",
              " 'Umut Oto Yedek Parça - Nihat Güzel Kırmızıer',\n",
              " 'Umut Ticari Araç.ve Yedek Parça - İhsan Mazlum',\n",
              " 'YPS Global Otom.İç Dış Tic.A.Ş.',\n",
              " 'Yalçın Mot.Araç.Turz.İnş.İth.İhr.San.Tic.A.Ş.',\n",
              " 'Zeybek Mot.Araç - Selda Zeybek',\n",
              " 'Şener Otom.Nak.San.Tic.Ltd.Şti.']"
            ]
          },
          "metadata": {},
          "execution_count": 136
        }
      ]
    },
    {
      "cell_type": "markdown",
      "metadata": {
        "id": "PcNkIfaoa4nB"
      },
      "source": [
        "- **Promising : Gelecek Vaat Eden** ; Bu Segmentte bulunan müşteriler yakın zamandabizden alışveriş yapanlar müşterilerdir.\n",
        "- Onları **Şampiyonlar Segmentine** yükseltmek için ;\n",
        "\n",
        "  - **Sadakat Programları**,\n",
        "  - **Onboarding Desteği**,\n",
        "  - **Üyelik Ayrıcalıkları** sunabiliriz.\n",
        "\n",
        "- Müşteri nezdinde marka algımızı yükseltmek için müşterilerin markamızla olan etkileşimini arttırabilmek adına onlara değer katacak ve ilgilerini çekebilecek içerikler gönderebiliriz."
      ]
    },
    {
      "cell_type": "markdown",
      "metadata": {
        "id": "B7X9m0b5caR3"
      },
      "source": [
        "- Bizim Müşterilerimiz arasında **Promising (Gelecek Vaat Eden) Segmenti**'nde olan Müşterileri görelim"
      ]
    },
    {
      "cell_type": "code",
      "metadata": {
        "colab": {
          "base_uri": "https://localhost:8080/"
        },
        "id": "-74LvtIbcnZx",
        "outputId": "de0375d5-7e68-426d-8c5f-71aa81aed31f"
      },
      "source": [
        "rfm[rfm['Segment'] == 'Promising'].index.tolist()"
      ],
      "execution_count": null,
      "outputs": [
        {
          "output_type": "execute_result",
          "data": {
            "text/plain": [
              "['Fatih Otom - Baki Varlı',\n",
              " 'Furcan Otom.İnş.Elek.Teks.Gıda San.Tic.Ltd.Şti.',\n",
              " 'Genevaparts Otom.San.Tic.Ltd.Şti.',\n",
              " 'Karakan Oto Yedek Parça - Özkan Karakan',\n",
              " 'Karataş Madeni Yağlar - Nazenti Karataş',\n",
              " 'Kardeşler Otom.Ağır Vas.Servisi - Hakan Yüksel',\n",
              " 'Mengüllü Ticaret - Yusuf Mengüllüoğlu',\n",
              " 'Metsen Otom.San.Tic.Ltd.Şti.',\n",
              " 'Oto Cantur Yedek Parça - İzzet Yılmaz',\n",
              " 'Oto Dizel Servis - Uğurcan Sağlam',\n",
              " 'Sağpar Otom.Paz.İth.İhr.San.Tic.Ltd.Şti.']"
            ]
          },
          "metadata": {},
          "execution_count": 137
        }
      ]
    },
    {
      "cell_type": "markdown",
      "metadata": {
        "id": "q-iu7fB8dp6r"
      },
      "source": [
        "- **At Risk(Risk Altındaki Müşteriler)**; Bu segmentte bulunan müşteriler, eskiden sık alışveriş yapan ama son zamanlarda alışveriş yapmamış müşterilerdir. \n",
        "- Bu noktada doğru soruları sormak ve neden bizden satın almayı bıraktıklarını araştırmak gerekmektedir.\n",
        "- Bu müşterileri tekrar aktif hale getirmek için onlara kişiselleştirilmiş maiiler , belli süreli indirimler ve fırsat ürünleri gönderebilir en son aldıkları ürünlere benzer ürünler önerebiliriz."
      ]
    },
    {
      "cell_type": "markdown",
      "metadata": {
        "id": "1AiYbPtZeqdE"
      },
      "source": [
        "- Bizim **At Risk Segmenti**'nde bulunan müşterilerimize bakalım"
      ]
    },
    {
      "cell_type": "code",
      "metadata": {
        "colab": {
          "base_uri": "https://localhost:8080/"
        },
        "id": "vgZk2hFUexmx",
        "outputId": "425ad2b3-a2fe-4778-8eb0-4bac5b83d90e"
      },
      "source": [
        "rfm[rfm['Segment'] == 'At Risk'].index.tolist()"
      ],
      "execution_count": null,
      "outputs": [
        {
          "output_type": "execute_result",
          "data": {
            "text/plain": [
              "['Aksoy Otom.Yedek Parça Servis Hiz.İnş.Tic.San.A.Ş.',\n",
              " 'Aktepe Tic - Muammer Yıldız',\n",
              " 'Ali Besdilli Yedek Parça Servis Hizmetleri',\n",
              " 'Demirler Otom.A.Ş.',\n",
              " 'Doğuş Tic - Ramazan Sab',\n",
              " 'Ege Marine Mot.Araç.Enerji Ürün.San.Tic.Ltd.Şti.',\n",
              " 'Elay Otom.İnş.Taş.San.Tic.Ltd.Şti.',\n",
              " 'Has Man Oto Yedek Parça - Abdurrahman Demirtaş',\n",
              " 'Karahan Otom.Nak.İnş.Turz.ve Tic.Ltd.Şti.',\n",
              " 'Kütahya Motorlu Araç Oto.Turz.San.Tic.Ltd.Şti.',\n",
              " 'Kılınç Global İth.İhr.Tic.Ltd.Şti.',\n",
              " 'Kılınç Global İth.İhr.Tic.Ltd.Şti..',\n",
              " 'Kılıç Otom - Özcan Kılıç',\n",
              " 'Lkw Otom.A.Ş.',\n",
              " 'Mahmut Keskin Otom.San.Tic.Lts.Şti.',\n",
              " 'Mantaş Otom.San.Tic.Ltd.Şti.',\n",
              " 'Mapar Otom.San.Tic.Ltd.Şti.',\n",
              " 'Maviler Otom.ve İnş. - Mehmet Hanefi Topaloğlu',\n",
              " 'Mer-kar Otom.San.Tic.Ltd.Şti.',\n",
              " 'Nomad Otom.Yedek Parça Dış Tic.Paz.Ltd.Şti.',\n",
              " 'Oto Güney Mot.Araçlar San.Tic.Ltd.Şti.',\n",
              " 'Oto Han Sedat Ergün',\n",
              " 'Portakal Kardeşler Otom.San.Tic.Ltd.Şti.',\n",
              " 'Saylam Tic - Sinan Demirkan ve Hacı Yakup Saylam',\n",
              " 'Selim Emiroğlu Taş.Otom.Pet.Ürün.Tic.San.Ltd.Şti.',\n",
              " 'Serdar Otom.Makina Nak.Turz.Tic.San.Ltd.Şti.',\n",
              " 'Uzmanlar Otom - Durmuş Arslan',\n",
              " 'Vector Otom.Tic.A.Ş.',\n",
              " 'Yakup Bilben Otom.San.Tic.Ltd.Şti.',\n",
              " 'Yeni Grup Mot.Araç.Yedek Parça San.Tic.Ltd.Şti.',\n",
              " 'ZFG Otom.Muh.Teks.İnş.Ltd.Şti.',\n",
              " 'Çavuşoğlu Ticaret - Arif Kuybu',\n",
              " 'Çevik Otom.Araç.İnş.Turz.San.Tic.Ltd.Şti.',\n",
              " 'Öngül Mot.Araç.San.Tic.Ltd.Şti.',\n",
              " 'Öz Adalılar - Ahmet Remzi Kozacı',\n",
              " 'Üstün İş Makinaları Servisi - Yaşar Üstün']"
            ]
          },
          "metadata": {},
          "execution_count": 138
        }
      ]
    },
    {
      "cell_type": "markdown",
      "metadata": {
        "id": "wsrhlHZge7lw"
      },
      "source": [
        "- **About to Sleep (Neredeyse Kayıp Müşteriler)**; Bu Segmentte bulunan müşteriler sık sık alışveriş yapmayan müşterilerdir.\n",
        "- Bu müşterilere özel indrimli teklifler sunabilir ve popüler ürünleri önerebiliriz.\n",
        "- Bu segmentte daha önce yüksek fiyatta alışveriş yapmış müşterilere özellikle dikkat etmek gerekir."
      ]
    },
    {
      "cell_type": "markdown",
      "metadata": {
        "id": "C80t6z7xfiAe"
      },
      "source": [
        "- Bizim **About to Sleep (Neredeyse Kayıp Müşteriler)** Segmentinde olan müşterilere bakalım.\n"
      ]
    },
    {
      "cell_type": "code",
      "metadata": {
        "colab": {
          "base_uri": "https://localhost:8080/"
        },
        "id": "jk5tOTQzf0gK",
        "outputId": "9c57f6b3-b86d-4d0d-8b93-9d88ab7f8d32"
      },
      "source": [
        "rfm[rfm['Segment'] == 'About to Sleep'].index.tolist()"
      ],
      "execution_count": null,
      "outputs": [
        {
          "output_type": "execute_result",
          "data": {
            "text/plain": [
              "['3A Parts Yedek Parça Otom.San.Tic.Ltd.Şti.',\n",
              " 'Ak Çavuşoğlu Motorlu Araçlar Y.P.İnş.San.Tic.Ltd.Şti.',\n",
              " 'Aksan Fren Dorse - Suat Karaduman ve Fuat Akyüz',\n",
              " 'Başak Tic - Haluk Özuğurel',\n",
              " 'Bektaşoğlu Otom.San.Tic.Ltd.Şti.',\n",
              " 'Birlik Mercedes Servis - Muzaffer Güven',\n",
              " 'Cömertler Otom.Mak.Yed.Par.İmal.San.Tic.Ltd.Şti.',\n",
              " 'Deligöz Mot.Araç.Ltd.Şti.',\n",
              " 'Dilbaz Otom - Emine Dilbaz',\n",
              " 'Karadenizliler Mot.Araç.San.Tic.Ltd.Şti.',\n",
              " 'Saylam End.Otom.Yedek Parça İnş.San.Tic.Ltd.Şti.',\n",
              " 'Uns Otom.Mercedes Yedekleri - Muammer Şahin',\n",
              " 'Uzman Oto - Durmuş Şen ve Zafer Yamaç',\n",
              " 'Öztekin Oto Yedek Parça San.Tic.Ltd.Şti.']"
            ]
          },
          "metadata": {},
          "execution_count": 139
        }
      ]
    },
    {
      "cell_type": "markdown",
      "metadata": {
        "id": "UcPt02DQgz7D"
      },
      "source": [
        "- **Need Attention (Dikkat Gerektiren Müşteriler)** : Bu segmentte bulunan müşteriler de **About to Sleep** müşterileri ile aynı Kategoride diyebiliriz. **About to Sleep** Segmentine göre biraz iyi müşterilerdir bizim adımıza. \n",
        "- Bu müşterilere de popüler ürünleri önerip özel indirimli tekliflerde bulunabiliriz."
      ]
    },
    {
      "cell_type": "markdown",
      "metadata": {
        "id": "Uzf7AmCBUMec"
      },
      "source": [
        "- **Need Attention** Segmentinde bulunan müşterilerimize bakalım."
      ]
    },
    {
      "cell_type": "code",
      "metadata": {
        "colab": {
          "base_uri": "https://localhost:8080/"
        },
        "id": "V6Ee9GsbsUEB",
        "outputId": "033777d7-dd6d-4afc-9efd-9a2b04bc1b04"
      },
      "source": [
        "rfm[rfm['Segment'] == 'Need Attention'].index.tolist()"
      ],
      "execution_count": null,
      "outputs": [
        {
          "output_type": "execute_result",
          "data": {
            "text/plain": [
              "['Bursan Otom.Yedek Parça San.Tic.A.Ş.',\n",
              " 'Gürhan Otom - Necmi Sevinir',\n",
              " 'Merci Otom.Turz.İnş.Gıda San.Tic.Ltd.Şti.',\n",
              " 'Mersa Oto Yedek Parça - Ferhat Kıral',\n",
              " 'Mert Mer Otom.Yedek Parça San.İç Dış Tic.Ltd.Şti.',\n",
              " 'Nihat Koç Otom.Turz.Day.Tük.Mal.Paz.ve Tic.Ltd.Şti.',\n",
              " 'S.S Soma Nak.Mot.Koop',\n",
              " 'Sakarya Otom - Hasan Sakarya',\n",
              " 'Sarı Ticaret - Mahmut Sarı',\n",
              " 'Tampar Otom.Servis Hiz.San.Tic.Ltd.Şti.',\n",
              " 'Teknik Oto Dizel - Necmi Azak',\n",
              " 'Şahmurat Ticaret - Faruk Kayıp']"
            ]
          },
          "metadata": {},
          "execution_count": 140
        }
      ]
    },
    {
      "cell_type": "markdown",
      "metadata": {
        "id": "yxpy_LWuVUAf"
      },
      "source": [
        "- **Müşteri Segmentleri**'ne göre **Recency, Frequency, Monetary** değerlerinin istatistik değerlerine göre değerlendirmelerde bulunalım.\n",
        "\n",
        "1- **Champions**:\n",
        "    \n",
        "    - Bu Segmentte bulunan 32 Müşterimiz vardır.\n",
        "    - Bu Segmentte bulunan Müşteriler \"Ortalama olarak en son Alışverişlerini\" 23 gün önce gerçekleştirmiştir.\n",
        "    - Bu Segmentte bulunun Müşterilerin \"Ortalama Alışveriş Sıklıkları\" 14\n",
        "    - Bu Segmennte bulunan Müşterilerin Maximum 133 alışverişleri vardır.\n",
        "\n",
        "2- **About to Sleep**:\n",
        "\n",
        "    - Bu Segmentte bulunan 14 Müşterimiz vardır.\n",
        "    - Bu Segmentte bulunan Müşterilerimizin \"Ortalama olarak en son Alışverişlerini\" 67 gün önce yapmıştır.\n",
        "    - Bu Segmennte bulunan müşterilerin \" Ortalama Alışveriş Sıklıkları \" 1'dir. \n",
        "    - Bu Segmennte bulunan Müşterilerin Maximum 2 Alışverişleri vardır. \n",
        "\n",
        "3- **Need Attention**:\n",
        "\n",
        "    - Bu Segmentte bulunan 12 Müşterimiz vardır.\n",
        "    - Bu Segmentte bulunan Müşterilerimizin \"Ortalama olarak en son alışverişlerini\" 61 gün önce yapmıştır.\n",
        "    - Bu Segmentte bulunan Müşterilerimizin \"Ortalama Alışveriş Sıklıkları\" 2'dir.\n",
        "    - Bu Segmennte bulunan Müşterilerin Maximum 3 Alışverişleri bulunur.\n",
        "\n",
        "4- **At Risk**:\n",
        "\n",
        "    - Bu Segmentte 36 Müşteri bulunmaktadır.\n",
        "    - Bu Segmentte bulunan Müşterilerimizin \"Ortalama olarak en son alışverişlerini\" 328 gün önce yapmıştır.\n",
        "    - Bu Segmentte bulunan Müşterilerimizin \"Ortalama Alışveriş Sıklıkları\" 3'dir.\n",
        "    - Bu Segmentte bulunan Müşterilerimizin Maximum 5 alışverişi bulunur.\n",
        "    "
      ]
    },
    {
      "cell_type": "code",
      "metadata": {
        "colab": {
          "base_uri": "https://localhost:8080/",
          "height": 418
        },
        "id": "hPlRBpmq5_OM",
        "outputId": "e422b5d0-aff5-4117-bc41-249f063d214f"
      },
      "source": [
        "rfm[[\"Segment\",\"Recency\",\"Frequency\",\"Monetary\"]].groupby(\"Segment\").agg([\"mean\",\"count\",\"max\"])"
      ],
      "execution_count": null,
      "outputs": [
        {
          "output_type": "execute_result",
          "data": {
            "text/html": [
              "<div>\n",
              "<style scoped>\n",
              "    .dataframe tbody tr th:only-of-type {\n",
              "        vertical-align: middle;\n",
              "    }\n",
              "\n",
              "    .dataframe tbody tr th {\n",
              "        vertical-align: top;\n",
              "    }\n",
              "\n",
              "    .dataframe thead tr th {\n",
              "        text-align: left;\n",
              "    }\n",
              "\n",
              "    .dataframe thead tr:last-of-type th {\n",
              "        text-align: right;\n",
              "    }\n",
              "</style>\n",
              "<table border=\"1\" class=\"dataframe\">\n",
              "  <thead>\n",
              "    <tr>\n",
              "      <th></th>\n",
              "      <th colspan=\"3\" halign=\"left\">Recency</th>\n",
              "      <th colspan=\"3\" halign=\"left\">Frequency</th>\n",
              "      <th colspan=\"3\" halign=\"left\">Monetary</th>\n",
              "    </tr>\n",
              "    <tr>\n",
              "      <th></th>\n",
              "      <th>mean</th>\n",
              "      <th>count</th>\n",
              "      <th>max</th>\n",
              "      <th>mean</th>\n",
              "      <th>count</th>\n",
              "      <th>max</th>\n",
              "      <th>mean</th>\n",
              "      <th>count</th>\n",
              "      <th>max</th>\n",
              "    </tr>\n",
              "    <tr>\n",
              "      <th>Segment</th>\n",
              "      <th></th>\n",
              "      <th></th>\n",
              "      <th></th>\n",
              "      <th></th>\n",
              "      <th></th>\n",
              "      <th></th>\n",
              "      <th></th>\n",
              "      <th></th>\n",
              "      <th></th>\n",
              "    </tr>\n",
              "  </thead>\n",
              "  <tbody>\n",
              "    <tr>\n",
              "      <th>About to Sleep</th>\n",
              "      <td>67.071429</td>\n",
              "      <td>14</td>\n",
              "      <td>98</td>\n",
              "      <td>1.214286</td>\n",
              "      <td>14</td>\n",
              "      <td>2</td>\n",
              "      <td>1968.476929</td>\n",
              "      <td>14</td>\n",
              "      <td>1.099588e+04</td>\n",
              "    </tr>\n",
              "    <tr>\n",
              "      <th>At Risk</th>\n",
              "      <td>328.083333</td>\n",
              "      <td>36</td>\n",
              "      <td>555</td>\n",
              "      <td>3.027778</td>\n",
              "      <td>36</td>\n",
              "      <td>5</td>\n",
              "      <td>4434.506579</td>\n",
              "      <td>36</td>\n",
              "      <td>1.761472e+04</td>\n",
              "    </tr>\n",
              "    <tr>\n",
              "      <th>Can't Loose</th>\n",
              "      <td>186.833333</td>\n",
              "      <td>6</td>\n",
              "      <td>350</td>\n",
              "      <td>8.333333</td>\n",
              "      <td>6</td>\n",
              "      <td>12</td>\n",
              "      <td>9463.479833</td>\n",
              "      <td>6</td>\n",
              "      <td>2.347936e+04</td>\n",
              "    </tr>\n",
              "    <tr>\n",
              "      <th>Champions</th>\n",
              "      <td>23.343750</td>\n",
              "      <td>32</td>\n",
              "      <td>29</td>\n",
              "      <td>14.312500</td>\n",
              "      <td>32</td>\n",
              "      <td>133</td>\n",
              "      <td>111528.370892</td>\n",
              "      <td>32</td>\n",
              "      <td>2.369596e+06</td>\n",
              "    </tr>\n",
              "    <tr>\n",
              "      <th>Hibernating</th>\n",
              "      <td>357.846154</td>\n",
              "      <td>52</td>\n",
              "      <td>639</td>\n",
              "      <td>1.230769</td>\n",
              "      <td>52</td>\n",
              "      <td>2</td>\n",
              "      <td>1511.115900</td>\n",
              "      <td>52</td>\n",
              "      <td>1.876500e+04</td>\n",
              "    </tr>\n",
              "    <tr>\n",
              "      <th>Loyal Customers</th>\n",
              "      <td>37.952381</td>\n",
              "      <td>42</td>\n",
              "      <td>80</td>\n",
              "      <td>6.833333</td>\n",
              "      <td>42</td>\n",
              "      <td>22</td>\n",
              "      <td>15081.756513</td>\n",
              "      <td>42</td>\n",
              "      <td>6.080914e+04</td>\n",
              "    </tr>\n",
              "    <tr>\n",
              "      <th>Need Attention</th>\n",
              "      <td>61.916667</td>\n",
              "      <td>12</td>\n",
              "      <td>92</td>\n",
              "      <td>2.250000</td>\n",
              "      <td>12</td>\n",
              "      <td>3</td>\n",
              "      <td>3752.254721</td>\n",
              "      <td>12</td>\n",
              "      <td>8.975603e+03</td>\n",
              "    </tr>\n",
              "    <tr>\n",
              "      <th>New Customers</th>\n",
              "      <td>28.833333</td>\n",
              "      <td>6</td>\n",
              "      <td>29</td>\n",
              "      <td>1.000000</td>\n",
              "      <td>6</td>\n",
              "      <td>1</td>\n",
              "      <td>4166.666667</td>\n",
              "      <td>6</td>\n",
              "      <td>5.000000e+03</td>\n",
              "    </tr>\n",
              "    <tr>\n",
              "      <th>Potential Loyalists</th>\n",
              "      <td>26.666667</td>\n",
              "      <td>24</td>\n",
              "      <td>29</td>\n",
              "      <td>2.000000</td>\n",
              "      <td>24</td>\n",
              "      <td>3</td>\n",
              "      <td>7137.005818</td>\n",
              "      <td>24</td>\n",
              "      <td>7.795543e+04</td>\n",
              "    </tr>\n",
              "    <tr>\n",
              "      <th>Promising</th>\n",
              "      <td>29.000000</td>\n",
              "      <td>11</td>\n",
              "      <td>29</td>\n",
              "      <td>1.000000</td>\n",
              "      <td>11</td>\n",
              "      <td>1</td>\n",
              "      <td>2954.545455</td>\n",
              "      <td>11</td>\n",
              "      <td>5.000000e+03</td>\n",
              "    </tr>\n",
              "  </tbody>\n",
              "</table>\n",
              "</div>"
            ],
            "text/plain": [
              "                        Recency             ...       Monetary                    \n",
              "                           mean count  max  ...           mean count           max\n",
              "Segment                                     ...                                   \n",
              "About to Sleep        67.071429    14   98  ...    1968.476929    14  1.099588e+04\n",
              "At Risk              328.083333    36  555  ...    4434.506579    36  1.761472e+04\n",
              "Can't Loose          186.833333     6  350  ...    9463.479833     6  2.347936e+04\n",
              "Champions             23.343750    32   29  ...  111528.370892    32  2.369596e+06\n",
              "Hibernating          357.846154    52  639  ...    1511.115900    52  1.876500e+04\n",
              "Loyal Customers       37.952381    42   80  ...   15081.756513    42  6.080914e+04\n",
              "Need Attention        61.916667    12   92  ...    3752.254721    12  8.975603e+03\n",
              "New Customers         28.833333     6   29  ...    4166.666667     6  5.000000e+03\n",
              "Potential Loyalists   26.666667    24   29  ...    7137.005818    24  7.795543e+04\n",
              "Promising             29.000000    11   29  ...    2954.545455    11  5.000000e+03\n",
              "\n",
              "[10 rows x 9 columns]"
            ]
          },
          "metadata": {},
          "execution_count": 141
        }
      ]
    },
    {
      "cell_type": "code",
      "metadata": {
        "colab": {
          "base_uri": "https://localhost:8080/",
          "height": 478
        },
        "id": "kqpgcoVhX4h8",
        "outputId": "a4b8a604-d562-4af8-962d-f1f6f5ab4514"
      },
      "source": [
        "rfm[['RFM Skor','Recency','Frequency','Monetary']].groupby('RFM Skor').agg(['mean','count','max'])"
      ],
      "execution_count": null,
      "outputs": [
        {
          "output_type": "execute_result",
          "data": {
            "text/html": [
              "<div>\n",
              "<style scoped>\n",
              "    .dataframe tbody tr th:only-of-type {\n",
              "        vertical-align: middle;\n",
              "    }\n",
              "\n",
              "    .dataframe tbody tr th {\n",
              "        vertical-align: top;\n",
              "    }\n",
              "\n",
              "    .dataframe thead tr th {\n",
              "        text-align: left;\n",
              "    }\n",
              "\n",
              "    .dataframe thead tr:last-of-type th {\n",
              "        text-align: right;\n",
              "    }\n",
              "</style>\n",
              "<table border=\"1\" class=\"dataframe\">\n",
              "  <thead>\n",
              "    <tr>\n",
              "      <th></th>\n",
              "      <th colspan=\"3\" halign=\"left\">Recency</th>\n",
              "      <th colspan=\"3\" halign=\"left\">Frequency</th>\n",
              "      <th colspan=\"3\" halign=\"left\">Monetary</th>\n",
              "    </tr>\n",
              "    <tr>\n",
              "      <th></th>\n",
              "      <th>mean</th>\n",
              "      <th>count</th>\n",
              "      <th>max</th>\n",
              "      <th>mean</th>\n",
              "      <th>count</th>\n",
              "      <th>max</th>\n",
              "      <th>mean</th>\n",
              "      <th>count</th>\n",
              "      <th>max</th>\n",
              "    </tr>\n",
              "    <tr>\n",
              "      <th>RFM Skor</th>\n",
              "      <th></th>\n",
              "      <th></th>\n",
              "      <th></th>\n",
              "      <th></th>\n",
              "      <th></th>\n",
              "      <th></th>\n",
              "      <th></th>\n",
              "      <th></th>\n",
              "      <th></th>\n",
              "    </tr>\n",
              "  </thead>\n",
              "  <tbody>\n",
              "    <tr>\n",
              "      <th>111</th>\n",
              "      <td>481.100000</td>\n",
              "      <td>10</td>\n",
              "      <td>629</td>\n",
              "      <td>1.000000</td>\n",
              "      <td>10</td>\n",
              "      <td>1</td>\n",
              "      <td>523.784100</td>\n",
              "      <td>10</td>\n",
              "      <td>9.702990e+02</td>\n",
              "    </tr>\n",
              "    <tr>\n",
              "      <th>112</th>\n",
              "      <td>386.333333</td>\n",
              "      <td>3</td>\n",
              "      <td>402</td>\n",
              "      <td>1.000000</td>\n",
              "      <td>3</td>\n",
              "      <td>1</td>\n",
              "      <td>2447.041667</td>\n",
              "      <td>3</td>\n",
              "      <td>2.495927e+03</td>\n",
              "    </tr>\n",
              "    <tr>\n",
              "      <th>113</th>\n",
              "      <td>413.000000</td>\n",
              "      <td>1</td>\n",
              "      <td>413</td>\n",
              "      <td>1.000000</td>\n",
              "      <td>1</td>\n",
              "      <td>1</td>\n",
              "      <td>4798.035000</td>\n",
              "      <td>1</td>\n",
              "      <td>4.798035e+03</td>\n",
              "    </tr>\n",
              "    <tr>\n",
              "      <th>121</th>\n",
              "      <td>536.000000</td>\n",
              "      <td>7</td>\n",
              "      <td>639</td>\n",
              "      <td>1.142857</td>\n",
              "      <td>7</td>\n",
              "      <td>2</td>\n",
              "      <td>506.091071</td>\n",
              "      <td>7</td>\n",
              "      <td>7.318800e+02</td>\n",
              "    </tr>\n",
              "    <tr>\n",
              "      <th>122</th>\n",
              "      <td>433.142857</td>\n",
              "      <td>7</td>\n",
              "      <td>580</td>\n",
              "      <td>1.857143</td>\n",
              "      <td>7</td>\n",
              "      <td>2</td>\n",
              "      <td>1870.343543</td>\n",
              "      <td>7</td>\n",
              "      <td>2.489823e+03</td>\n",
              "    </tr>\n",
              "    <tr>\n",
              "      <th>...</th>\n",
              "      <td>...</td>\n",
              "      <td>...</td>\n",
              "      <td>...</td>\n",
              "      <td>...</td>\n",
              "      <td>...</td>\n",
              "      <td>...</td>\n",
              "      <td>...</td>\n",
              "      <td>...</td>\n",
              "      <td>...</td>\n",
              "    </tr>\n",
              "    <tr>\n",
              "      <th>543</th>\n",
              "      <td>17.000000</td>\n",
              "      <td>1</td>\n",
              "      <td>17</td>\n",
              "      <td>3.000000</td>\n",
              "      <td>1</td>\n",
              "      <td>3</td>\n",
              "      <td>2900.594000</td>\n",
              "      <td>1</td>\n",
              "      <td>2.900594e+03</td>\n",
              "    </tr>\n",
              "    <tr>\n",
              "      <th>544</th>\n",
              "      <td>24.500000</td>\n",
              "      <td>4</td>\n",
              "      <td>29</td>\n",
              "      <td>4.500000</td>\n",
              "      <td>4</td>\n",
              "      <td>6</td>\n",
              "      <td>8558.950056</td>\n",
              "      <td>4</td>\n",
              "      <td>1.136197e+04</td>\n",
              "    </tr>\n",
              "    <tr>\n",
              "      <th>545</th>\n",
              "      <td>26.500000</td>\n",
              "      <td>2</td>\n",
              "      <td>29</td>\n",
              "      <td>6.000000</td>\n",
              "      <td>2</td>\n",
              "      <td>6</td>\n",
              "      <td>15041.972250</td>\n",
              "      <td>2</td>\n",
              "      <td>1.743222e+04</td>\n",
              "    </tr>\n",
              "    <tr>\n",
              "      <th>554</th>\n",
              "      <td>16.500000</td>\n",
              "      <td>2</td>\n",
              "      <td>17</td>\n",
              "      <td>8.000000</td>\n",
              "      <td>2</td>\n",
              "      <td>9</td>\n",
              "      <td>9260.285750</td>\n",
              "      <td>2</td>\n",
              "      <td>1.070769e+04</td>\n",
              "    </tr>\n",
              "    <tr>\n",
              "      <th>555</th>\n",
              "      <td>24.000000</td>\n",
              "      <td>21</td>\n",
              "      <td>29</td>\n",
              "      <td>19.095238</td>\n",
              "      <td>21</td>\n",
              "      <td>133</td>\n",
              "      <td>165643.825944</td>\n",
              "      <td>21</td>\n",
              "      <td>2.369596e+06</td>\n",
              "    </tr>\n",
              "  </tbody>\n",
              "</table>\n",
              "<p>71 rows × 9 columns</p>\n",
              "</div>"
            ],
            "text/plain": [
              "             Recency             ...       Monetary                    \n",
              "                mean count  max  ...           mean count           max\n",
              "RFM Skor                         ...                                   \n",
              "111       481.100000    10  629  ...     523.784100    10  9.702990e+02\n",
              "112       386.333333     3  402  ...    2447.041667     3  2.495927e+03\n",
              "113       413.000000     1  413  ...    4798.035000     1  4.798035e+03\n",
              "121       536.000000     7  639  ...     506.091071     7  7.318800e+02\n",
              "122       433.142857     7  580  ...    1870.343543     7  2.489823e+03\n",
              "...              ...   ...  ...  ...            ...   ...           ...\n",
              "543        17.000000     1   17  ...    2900.594000     1  2.900594e+03\n",
              "544        24.500000     4   29  ...    8558.950056     4  1.136197e+04\n",
              "545        26.500000     2   29  ...   15041.972250     2  1.743222e+04\n",
              "554        16.500000     2   17  ...    9260.285750     2  1.070769e+04\n",
              "555        24.000000    21   29  ...  165643.825944    21  2.369596e+06\n",
              "\n",
              "[71 rows x 9 columns]"
            ]
          },
          "metadata": {},
          "execution_count": 142
        }
      ]
    },
    {
      "cell_type": "markdown",
      "metadata": {
        "id": "tt4ypmjiQBEN"
      },
      "source": [
        "# Stok Analizi "
      ]
    },
    {
      "cell_type": "markdown",
      "metadata": {
        "id": "hXZ6eMd6QEKM"
      },
      "source": [
        "## Maksimum Stok Miktari\n",
        "\n",
        "- Rutin Sipariş Aralığı x Stoğun Günlük Tüketim Miktarı"
      ]
    },
    {
      "cell_type": "markdown",
      "metadata": {
        "id": "MyfMaoowQTuG"
      },
      "source": [
        "- İlk olarak Rutin Sipariş Aralığını bulacağız.\n"
      ]
    },
    {
      "cell_type": "code",
      "metadata": {
        "colab": {
          "base_uri": "https://localhost:8080/"
        },
        "id": "QRKGMKoCQJV3",
        "outputId": "7759ba05-6be3-44db-eff1-1160636d9a8e"
      },
      "source": [
        "data['Date'].max() - data['Date'].min()"
      ],
      "execution_count": null,
      "outputs": [
        {
          "output_type": "execute_result",
          "data": {
            "text/plain": [
              "Timedelta('638 days 00:00:00')"
            ]
          },
          "metadata": {},
          "execution_count": 143
        }
      ]
    },
    {
      "cell_type": "markdown",
      "metadata": {
        "id": "T9Ry7t5cQgJg"
      },
      "source": [
        "- Stoğun Günlük miktarını bulalım.\n",
        "- Bunun için daha önceden elde ettiğimiz **Yıl_Ay** değişkenimizi kullanacağız."
      ]
    },
    {
      "cell_type": "code",
      "metadata": {
        "colab": {
          "base_uri": "https://localhost:8080/"
        },
        "id": "xqp7fVN6QmVU",
        "outputId": "e99eefe4-2e5f-4e89-e838-288abde131b4"
      },
      "source": [
        "data['Yıl_Ay']"
      ],
      "execution_count": null,
      "outputs": [
        {
          "output_type": "execute_result",
          "data": {
            "text/plain": [
              "0       2021-08\n",
              "1       2021-02\n",
              "2       2021-05\n",
              "3       2020-11\n",
              "4       2021-02\n",
              "         ...   \n",
              "1075    2020-07\n",
              "1076    2021-06\n",
              "1077    2020-09\n",
              "1078    2020-09\n",
              "1079    2020-10\n",
              "Name: Yıl_Ay, Length: 1077, dtype: object"
            ]
          },
          "metadata": {},
          "execution_count": 144
        }
      ]
    },
    {
      "cell_type": "markdown",
      "metadata": {
        "id": "SMJaATu3RPxj"
      },
      "source": [
        "- Yıl ve Ay'lara göre Siparişlere(tüketimlere) bakalım."
      ]
    },
    {
      "cell_type": "code",
      "metadata": {
        "colab": {
          "base_uri": "https://localhost:8080/",
          "height": 758
        },
        "id": "8090lYzhRe7h",
        "outputId": "85789640-b804-484f-b105-60ce9fbdd561"
      },
      "source": [
        "data.groupby('Yıl_Ay').agg({'Quantity':'sum'})"
      ],
      "execution_count": null,
      "outputs": [
        {
          "output_type": "execute_result",
          "data": {
            "text/html": [
              "<div>\n",
              "<style scoped>\n",
              "    .dataframe tbody tr th:only-of-type {\n",
              "        vertical-align: middle;\n",
              "    }\n",
              "\n",
              "    .dataframe tbody tr th {\n",
              "        vertical-align: top;\n",
              "    }\n",
              "\n",
              "    .dataframe thead th {\n",
              "        text-align: right;\n",
              "    }\n",
              "</style>\n",
              "<table border=\"1\" class=\"dataframe\">\n",
              "  <thead>\n",
              "    <tr style=\"text-align: right;\">\n",
              "      <th></th>\n",
              "      <th>Quantity</th>\n",
              "    </tr>\n",
              "    <tr>\n",
              "      <th>Yıl_Ay</th>\n",
              "      <th></th>\n",
              "    </tr>\n",
              "  </thead>\n",
              "  <tbody>\n",
              "    <tr>\n",
              "      <th>2020-01</th>\n",
              "      <td>191</td>\n",
              "    </tr>\n",
              "    <tr>\n",
              "      <th>2020-02</th>\n",
              "      <td>179</td>\n",
              "    </tr>\n",
              "    <tr>\n",
              "      <th>2020-03</th>\n",
              "      <td>437</td>\n",
              "    </tr>\n",
              "    <tr>\n",
              "      <th>2020-04</th>\n",
              "      <td>293</td>\n",
              "    </tr>\n",
              "    <tr>\n",
              "      <th>2020-05</th>\n",
              "      <td>333</td>\n",
              "    </tr>\n",
              "    <tr>\n",
              "      <th>2020-06</th>\n",
              "      <td>552</td>\n",
              "    </tr>\n",
              "    <tr>\n",
              "      <th>2020-07</th>\n",
              "      <td>673</td>\n",
              "    </tr>\n",
              "    <tr>\n",
              "      <th>2020-08</th>\n",
              "      <td>422</td>\n",
              "    </tr>\n",
              "    <tr>\n",
              "      <th>2020-09</th>\n",
              "      <td>667</td>\n",
              "    </tr>\n",
              "    <tr>\n",
              "      <th>2020-10</th>\n",
              "      <td>121</td>\n",
              "    </tr>\n",
              "    <tr>\n",
              "      <th>2020-11</th>\n",
              "      <td>371</td>\n",
              "    </tr>\n",
              "    <tr>\n",
              "      <th>2020-12</th>\n",
              "      <td>302</td>\n",
              "    </tr>\n",
              "    <tr>\n",
              "      <th>2021-01</th>\n",
              "      <td>460</td>\n",
              "    </tr>\n",
              "    <tr>\n",
              "      <th>2021-02</th>\n",
              "      <td>450</td>\n",
              "    </tr>\n",
              "    <tr>\n",
              "      <th>2021-03</th>\n",
              "      <td>614</td>\n",
              "    </tr>\n",
              "    <tr>\n",
              "      <th>2021-04</th>\n",
              "      <td>335</td>\n",
              "    </tr>\n",
              "    <tr>\n",
              "      <th>2021-05</th>\n",
              "      <td>447</td>\n",
              "    </tr>\n",
              "    <tr>\n",
              "      <th>2021-06</th>\n",
              "      <td>454</td>\n",
              "    </tr>\n",
              "    <tr>\n",
              "      <th>2021-07</th>\n",
              "      <td>900</td>\n",
              "    </tr>\n",
              "    <tr>\n",
              "      <th>2021-08</th>\n",
              "      <td>557</td>\n",
              "    </tr>\n",
              "    <tr>\n",
              "      <th>2021-09</th>\n",
              "      <td>1513</td>\n",
              "    </tr>\n",
              "    <tr>\n",
              "      <th>2021-10</th>\n",
              "      <td>20</td>\n",
              "    </tr>\n",
              "  </tbody>\n",
              "</table>\n",
              "</div>"
            ],
            "text/plain": [
              "         Quantity\n",
              "Yıl_Ay           \n",
              "2020-01       191\n",
              "2020-02       179\n",
              "2020-03       437\n",
              "2020-04       293\n",
              "2020-05       333\n",
              "2020-06       552\n",
              "2020-07       673\n",
              "2020-08       422\n",
              "2020-09       667\n",
              "2020-10       121\n",
              "2020-11       371\n",
              "2020-12       302\n",
              "2021-01       460\n",
              "2021-02       450\n",
              "2021-03       614\n",
              "2021-04       335\n",
              "2021-05       447\n",
              "2021-06       454\n",
              "2021-07       900\n",
              "2021-08       557\n",
              "2021-09      1513\n",
              "2021-10        20"
            ]
          },
          "metadata": {},
          "execution_count": 145
        }
      ]
    },
    {
      "cell_type": "markdown",
      "metadata": {
        "id": "m9oaRjgqRmOR"
      },
      "source": [
        "- Bize Günlük tüketim miktarı lazım. O Yüzden **Quantity** değerlerinin 30'a böleceğiz ki günlük miktarlarını alalım."
      ]
    },
    {
      "cell_type": "code",
      "metadata": {
        "colab": {
          "base_uri": "https://localhost:8080/"
        },
        "id": "gYtbbrzRR1gV",
        "outputId": "43530f61-cdd5-4e3b-d386-99cfd595d246"
      },
      "source": [
        "stok_tüketim = data.groupby('Yıl_Ay').agg({'Quantity':'sum'})\n",
        "\n",
        "stok_tüketim.rename(columns = {'Quantity':'Günlük'}, inplace=True)\n",
        "\n",
        "stok_tüketim['Günlük'] = (stok_tüketim['Günlük'] / 30).astype('int')\n",
        "\n",
        "stok_tüketim['Günlük'].mean()"
      ],
      "execution_count": null,
      "outputs": [
        {
          "output_type": "execute_result",
          "data": {
            "text/plain": [
              "15.227272727272727"
            ]
          },
          "metadata": {},
          "execution_count": 146
        }
      ]
    },
    {
      "cell_type": "code",
      "metadata": {
        "colab": {
          "base_uri": "https://localhost:8080/"
        },
        "id": "BoZFiLGsTFfT",
        "outputId": "534747e6-329b-4102-a6a7-4221f9c1ba7a"
      },
      "source": [
        "Maksimum_Stok_Miktarı = 638 * 15 \n",
        "\n",
        "Maksimum_Stok_Miktarı"
      ],
      "execution_count": null,
      "outputs": [
        {
          "output_type": "execute_result",
          "data": {
            "text/plain": [
              "9570"
            ]
          },
          "metadata": {},
          "execution_count": 147
        }
      ]
    },
    {
      "cell_type": "markdown",
      "metadata": {
        "id": "9ZpMYM_xTq7e"
      },
      "source": [
        "## Stok Devir Hızı \n",
        "\n",
        "- Stok Devir Hızı = Satılan Ürün Maliyeti / ((Dönem Başı Stok + Dönem Sonu Stok) /2)\n"
      ]
    },
    {
      "cell_type": "markdown",
      "metadata": {
        "id": "BXmGj7cRsJzH"
      },
      "source": [
        "- İlk olarak Satılan ürün maliyetini bulalım"
      ]
    },
    {
      "cell_type": "code",
      "metadata": {
        "colab": {
          "base_uri": "https://localhost:8080/"
        },
        "id": "Sq35A9adTtu7",
        "outputId": "38218077-ae3f-41e7-9941-618725e27892"
      },
      "source": [
        "satılan_ürün_maliyeti = data['NET_TUTAR'].sum()\n",
        "\n",
        "satılan_ürün_maliyeti"
      ],
      "execution_count": null,
      "outputs": [
        {
          "output_type": "execute_result",
          "data": {
            "text/plain": [
              "4798716.65797012"
            ]
          },
          "metadata": {},
          "execution_count": 154
        }
      ]
    },
    {
      "cell_type": "markdown",
      "metadata": {
        "id": "HFhbUmr2sTW0"
      },
      "source": [
        "- Dönem Başı Stok Miktarını bulalım. Dönem sonunda satılan toplam ürün **dönem başında ki toplam stok** miktarı olarak hesaplıyorum.\n",
        "- Verimizden Dönem sonu stok miktarına ulaşamadığım için ona varsayılan olarak bir değer vereceğim.\n",
        "- Dönem sonu **Stok Miktarımız** 15.000 olsun\n"
      ]
    },
    {
      "cell_type": "code",
      "metadata": {
        "colab": {
          "base_uri": "https://localhost:8080/"
        },
        "id": "MswFW0RfsaVx",
        "outputId": "0a68b04f-86ba-4a3e-9f3e-d40abfcf1b8c"
      },
      "source": [
        "dönem_başı_stok = data['Quantity'].sum()\n",
        "\n",
        "dönem_başı_stok"
      ],
      "execution_count": null,
      "outputs": [
        {
          "output_type": "execute_result",
          "data": {
            "text/plain": [
              "10291"
            ]
          },
          "metadata": {},
          "execution_count": 153
        }
      ]
    },
    {
      "cell_type": "code",
      "metadata": {
        "colab": {
          "base_uri": "https://localhost:8080/"
        },
        "id": "_K3SS36Dvgsp",
        "outputId": "fca4d941-14e4-4970-c17a-8b90f431fc6b"
      },
      "source": [
        "stok_devir_hızı = satılan_ürün_maliyeti / ((dönem_başı_stok + 15.000) / 2)\n",
        "\n",
        "stok_devir_hızı"
      ],
      "execution_count": null,
      "outputs": [
        {
          "output_type": "execute_result",
          "data": {
            "text/plain": [
              "931.2471682457054"
            ]
          },
          "metadata": {},
          "execution_count": 155
        }
      ]
    }
  ]
}